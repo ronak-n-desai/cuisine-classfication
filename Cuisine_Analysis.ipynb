{
 "cells": [
  {
   "cell_type": "code",
   "execution_count": 79,
   "id": "eaa95ab2",
   "metadata": {},
   "outputs": [],
   "source": [
    "import pandas as pd\n",
    "import numpy as np\n",
    "import matplotlib.pyplot as plt\n",
    "from seaborn import set_style\n",
    "set_style(\"whitegrid\")"
   ]
  },
  {
   "cell_type": "code",
   "execution_count": 80,
   "id": "a1602ac0",
   "metadata": {},
   "outputs": [
    {
     "data": {
      "text/html": [
       "<div>\n",
       "<style scoped>\n",
       "    .dataframe tbody tr th:only-of-type {\n",
       "        vertical-align: middle;\n",
       "    }\n",
       "\n",
       "    .dataframe tbody tr th {\n",
       "        vertical-align: top;\n",
       "    }\n",
       "\n",
       "    .dataframe thead th {\n",
       "        text-align: right;\n",
       "    }\n",
       "</style>\n",
       "<table border=\"1\" class=\"dataframe\">\n",
       "  <thead>\n",
       "    <tr style=\"text-align: right;\">\n",
       "      <th></th>\n",
       "      <th>id</th>\n",
       "      <th>cuisine</th>\n",
       "      <th>ingredients</th>\n",
       "    </tr>\n",
       "  </thead>\n",
       "  <tbody>\n",
       "    <tr>\n",
       "      <th>0</th>\n",
       "      <td>10259</td>\n",
       "      <td>greek</td>\n",
       "      <td>[romaine lettuce, black olives, grape tomatoes...</td>\n",
       "    </tr>\n",
       "    <tr>\n",
       "      <th>1</th>\n",
       "      <td>25693</td>\n",
       "      <td>southern_us</td>\n",
       "      <td>[plain flour, ground pepper, salt, tomatoes, g...</td>\n",
       "    </tr>\n",
       "    <tr>\n",
       "      <th>2</th>\n",
       "      <td>20130</td>\n",
       "      <td>filipino</td>\n",
       "      <td>[eggs, pepper, salt, mayonaise, cooking oil, g...</td>\n",
       "    </tr>\n",
       "    <tr>\n",
       "      <th>3</th>\n",
       "      <td>22213</td>\n",
       "      <td>indian</td>\n",
       "      <td>[water, vegetable oil, wheat, salt]</td>\n",
       "    </tr>\n",
       "    <tr>\n",
       "      <th>4</th>\n",
       "      <td>13162</td>\n",
       "      <td>indian</td>\n",
       "      <td>[black pepper, shallots, cornflour, cayenne pe...</td>\n",
       "    </tr>\n",
       "  </tbody>\n",
       "</table>\n",
       "</div>"
      ],
      "text/plain": [
       "      id      cuisine                                        ingredients\n",
       "0  10259        greek  [romaine lettuce, black olives, grape tomatoes...\n",
       "1  25693  southern_us  [plain flour, ground pepper, salt, tomatoes, g...\n",
       "2  20130     filipino  [eggs, pepper, salt, mayonaise, cooking oil, g...\n",
       "3  22213       indian                [water, vegetable oil, wheat, salt]\n",
       "4  13162       indian  [black pepper, shallots, cornflour, cayenne pe..."
      ]
     },
     "metadata": {},
     "output_type": "display_data"
    },
    {
     "name": "stdout",
     "output_type": "stream",
     "text": [
      "total number of entries:  39774\n",
      "columns:  Index(['id', 'cuisine', 'ingredients'], dtype='object')\n"
     ]
    }
   ],
   "source": [
    "train_set = pd.read_json('train.json')\n",
    "display(train_set.head(5))\n",
    "print('total number of entries: ', len(train_set))\n",
    "print('columns: ', train_set.columns)"
   ]
  },
  {
   "cell_type": "code",
   "execution_count": 81,
   "id": "30c99158",
   "metadata": {},
   "outputs": [
    {
     "name": "stdout",
     "output_type": "stream",
     "text": [
      "number of ingredients in dataset:  428275\n",
      "unique number of ingredients in dataset:  6714\n"
     ]
    }
   ],
   "source": [
    "ing_col = train_set.ingredients.values\n",
    "all_ings = np.concatenate(tuple(ing_col[i] for i in range(len(ing_col))))\n",
    "unique_ings, counts = np.unique(all_ings, return_counts=True)\n",
    "print('number of ingredients in dataset: ', len(all_ings))\n",
    "print('unique number of ingredients in dataset: ', len(unique_ings))"
   ]
  },
  {
   "cell_type": "code",
   "execution_count": 63,
   "id": "d3935d7e",
   "metadata": {},
   "outputs": [
    {
     "data": {
      "text/plain": [
       "cuisine\n",
       "brazilian        467\n",
       "british          804\n",
       "cajun_creole    1546\n",
       "chinese         2673\n",
       "filipino         755\n",
       "french          2646\n",
       "greek           1175\n",
       "indian          3003\n",
       "irish            667\n",
       "italian         7838\n",
       "jamaican         526\n",
       "japanese        1423\n",
       "korean           830\n",
       "mexican         6438\n",
       "moroccan         821\n",
       "russian          489\n",
       "southern_us     4320\n",
       "spanish          989\n",
       "thai            1539\n",
       "vietnamese       825\n",
       "Name: ingredients, dtype: int64"
      ]
     },
     "metadata": {},
     "output_type": "display_data"
    },
    {
     "data": {
      "image/png": "[encoded data removed]",
      "text/plain": [
       "<Figure size 432x288 with 1 Axes>"
      ]
     },
     "metadata": {},
     "output_type": "display_data"
    }
   ],
   "source": [
    "count_by_cuisine = train_set.groupby(['cuisine']).count()\n",
    "display(count_by_cuisine['ingredients'])\n",
    "\n",
    "plt.figure()\n",
    "bars_label = count_by_cuisine.index.values\n",
    "plt.bar(range(len(bars_label)), count_by_cuisine.ingredients.values)\n",
    "plt.xticks(range(len(bars_label)), bars_label, rotation='vertical')\n",
    "plt.xlabel('cuisine type')\n",
    "plt.ylabel('number of recipes')\n",
    "plt.show()"
   ]
  },
  {
   "cell_type": "code",
   "execution_count": 64,
   "id": "11e27f9c",
   "metadata": {},
   "outputs": [
    {
     "data": {
      "text/html": [
       "<div>\n",
       "<style scoped>\n",
       "    .dataframe tbody tr th:only-of-type {\n",
       "        vertical-align: middle;\n",
       "    }\n",
       "\n",
       "    .dataframe tbody tr th {\n",
       "        vertical-align: top;\n",
       "    }\n",
       "\n",
       "    .dataframe thead th {\n",
       "        text-align: right;\n",
       "    }\n",
       "</style>\n",
       "<table border=\"1\" class=\"dataframe\">\n",
       "  <thead>\n",
       "    <tr style=\"text-align: right;\">\n",
       "      <th></th>\n",
       "      <th>id</th>\n",
       "      <th>cuisine</th>\n",
       "      <th>ingredients</th>\n",
       "      <th>number_of_ingredients</th>\n",
       "    </tr>\n",
       "  </thead>\n",
       "  <tbody>\n",
       "    <tr>\n",
       "      <th>0</th>\n",
       "      <td>10259</td>\n",
       "      <td>greek</td>\n",
       "      <td>[romaine lettuce, black olives, grape tomatoes...</td>\n",
       "      <td>9</td>\n",
       "    </tr>\n",
       "    <tr>\n",
       "      <th>1</th>\n",
       "      <td>25693</td>\n",
       "      <td>southern_us</td>\n",
       "      <td>[plain flour, ground pepper, salt, tomatoes, g...</td>\n",
       "      <td>11</td>\n",
       "    </tr>\n",
       "    <tr>\n",
       "      <th>2</th>\n",
       "      <td>20130</td>\n",
       "      <td>filipino</td>\n",
       "      <td>[eggs, pepper, salt, mayonaise, cooking oil, g...</td>\n",
       "      <td>12</td>\n",
       "    </tr>\n",
       "    <tr>\n",
       "      <th>3</th>\n",
       "      <td>22213</td>\n",
       "      <td>indian</td>\n",
       "      <td>[water, vegetable oil, wheat, salt]</td>\n",
       "      <td>4</td>\n",
       "    </tr>\n",
       "    <tr>\n",
       "      <th>4</th>\n",
       "      <td>13162</td>\n",
       "      <td>indian</td>\n",
       "      <td>[black pepper, shallots, cornflour, cayenne pe...</td>\n",
       "      <td>20</td>\n",
       "    </tr>\n",
       "    <tr>\n",
       "      <th>...</th>\n",
       "      <td>...</td>\n",
       "      <td>...</td>\n",
       "      <td>...</td>\n",
       "      <td>...</td>\n",
       "    </tr>\n",
       "    <tr>\n",
       "      <th>39769</th>\n",
       "      <td>29109</td>\n",
       "      <td>irish</td>\n",
       "      <td>[light brown sugar, granulated sugar, butter, ...</td>\n",
       "      <td>12</td>\n",
       "    </tr>\n",
       "    <tr>\n",
       "      <th>39770</th>\n",
       "      <td>11462</td>\n",
       "      <td>italian</td>\n",
       "      <td>[KRAFT Zesty Italian Dressing, purple onion, b...</td>\n",
       "      <td>7</td>\n",
       "    </tr>\n",
       "    <tr>\n",
       "      <th>39771</th>\n",
       "      <td>2238</td>\n",
       "      <td>irish</td>\n",
       "      <td>[eggs, citrus fruit, raisins, sourdough starte...</td>\n",
       "      <td>12</td>\n",
       "    </tr>\n",
       "    <tr>\n",
       "      <th>39772</th>\n",
       "      <td>41882</td>\n",
       "      <td>chinese</td>\n",
       "      <td>[boneless chicken skinless thigh, minced garli...</td>\n",
       "      <td>21</td>\n",
       "    </tr>\n",
       "    <tr>\n",
       "      <th>39773</th>\n",
       "      <td>2362</td>\n",
       "      <td>mexican</td>\n",
       "      <td>[green chile, jalapeno chilies, onions, ground...</td>\n",
       "      <td>12</td>\n",
       "    </tr>\n",
       "  </tbody>\n",
       "</table>\n",
       "<p>39774 rows × 4 columns</p>\n",
       "</div>"
      ],
      "text/plain": [
       "          id      cuisine                                        ingredients  \\\n",
       "0      10259        greek  [romaine lettuce, black olives, grape tomatoes...   \n",
       "1      25693  southern_us  [plain flour, ground pepper, salt, tomatoes, g...   \n",
       "2      20130     filipino  [eggs, pepper, salt, mayonaise, cooking oil, g...   \n",
       "3      22213       indian                [water, vegetable oil, wheat, salt]   \n",
       "4      13162       indian  [black pepper, shallots, cornflour, cayenne pe...   \n",
       "...      ...          ...                                                ...   \n",
       "39769  29109        irish  [light brown sugar, granulated sugar, butter, ...   \n",
       "39770  11462      italian  [KRAFT Zesty Italian Dressing, purple onion, b...   \n",
       "39771   2238        irish  [eggs, citrus fruit, raisins, sourdough starte...   \n",
       "39772  41882      chinese  [boneless chicken skinless thigh, minced garli...   \n",
       "39773   2362      mexican  [green chile, jalapeno chilies, onions, ground...   \n",
       "\n",
       "       number_of_ingredients  \n",
       "0                          9  \n",
       "1                         11  \n",
       "2                         12  \n",
       "3                          4  \n",
       "4                         20  \n",
       "...                      ...  \n",
       "39769                     12  \n",
       "39770                      7  \n",
       "39771                     12  \n",
       "39772                     21  \n",
       "39773                     12  \n",
       "\n",
       "[39774 rows x 4 columns]"
      ]
     },
     "metadata": {},
     "output_type": "display_data"
    }
   ],
   "source": [
    "train_set['number_of_ingredients'] = 0\n",
    "for i in range(len(train_set)):\n",
    "    train_set.loc[i, 'number_of_ingredients'] = len(train_set.at[i,'ingredients'])\n",
    "display(train_set)"
   ]
  },
  {
   "cell_type": "code",
   "execution_count": 65,
   "id": "3631fdb2",
   "metadata": {},
   "outputs": [
    {
     "name": "stdout",
     "output_type": "stream",
     "text": [
      "average number of ingredients by cuisine type\n"
     ]
    },
    {
     "data": {
      "text/plain": [
       "cuisine\n",
       "brazilian        9.520343\n",
       "british          9.708955\n",
       "cajun_creole    12.617076\n",
       "chinese         11.982791\n",
       "filipino        10.000000\n",
       "french           9.817838\n",
       "greek           10.182128\n",
       "indian          12.705961\n",
       "irish            9.299850\n",
       "italian          9.909033\n",
       "jamaican        12.214829\n",
       "japanese         9.735067\n",
       "korean          11.284337\n",
       "mexican         10.877446\n",
       "moroccan        12.909866\n",
       "russian         10.224949\n",
       "southern_us      9.634954\n",
       "spanish         10.423660\n",
       "thai            12.545809\n",
       "vietnamese      12.675152\n",
       "Name: number_of_ingredients, dtype: float64"
      ]
     },
     "execution_count": 65,
     "metadata": {},
     "output_type": "execute_result"
    }
   ],
   "source": [
    "print('average number of ingredients by cuisine type')\n",
    "train_set.groupby('cuisine')['number_of_ingredients'].mean()"
   ]
  },
  {
   "cell_type": "code",
   "execution_count": 83,
   "id": "f5aa33de",
   "metadata": {},
   "outputs": [
    {
     "name": "stdout",
     "output_type": "stream",
     "text": [
      "number of ingredients in dataset:  4446\n",
      "unique number of ingredients in dataset:  853\n"
     ]
    }
   ],
   "source": [
    "ing_col_1 = train_set.loc[train_set['cuisine'] == 'brazilian'].ingredients.values\n",
    "all_ings_1 = np.concatenate(tuple(ing_col_1[i] for i in range(len(ing_col_1))))\n",
    "unique_ings_1, counts_1 = np.unique(all_ings_1, return_counts=True)\n",
    "print('number of ingredients in dataset: ', len(all_ings_1))\n",
    "print('unique number of ingredients in dataset: ', len(unique_ings_1))"
   ]
  },
  {
   "cell_type": "code",
   "execution_count": 117,
   "id": "b3ca15f6",
   "metadata": {},
   "outputs": [],
   "source": [
    "cuisines = train_set['cuisine'].unique()\n",
    "unique_ingredients_by_cuisine = ['']*len(cuisines)\n",
    "unique_counts_by_cuisine = ['']*len(cuisines)\n",
    "i=0\n",
    "for cuisine in cuisines:\n",
    "    ingredients_df = train_set.loc[train_set['cuisine'] == cuisine].ingredients.values\n",
    "    all_ingredients = np.concatenate(tuple(ingredients_df[i] for i in range(len(ingredients_df))))\n",
    "    unique_ingredients_by_cuisine[i], unique_counts_by_cuisine[i] = np.unique(all_ingredients, return_counts=True)\n",
    "    i+=1\n"
   ]
  },
  {
   "cell_type": "code",
   "execution_count": 120,
   "id": "71b4ba41",
   "metadata": {},
   "outputs": [
    {
     "name": "stdout",
     "output_type": "stream",
     "text": [
      "cuisine type:  greek\n",
      "unique number of ingredients in dataset:  1198\n",
      "cuisine type:  southern_us\n",
      "unique number of ingredients in dataset:  2462\n",
      "cuisine type:  filipino\n",
      "unique number of ingredients in dataset:  947\n",
      "cuisine type:  indian\n",
      "unique number of ingredients in dataset:  1664\n",
      "cuisine type:  jamaican\n",
      "unique number of ingredients in dataset:  877\n",
      "cuisine type:  spanish\n",
      "unique number of ingredients in dataset:  1263\n",
      "cuisine type:  italian\n",
      "unique number of ingredients in dataset:  2929\n",
      "cuisine type:  mexican\n",
      "unique number of ingredients in dataset:  2684\n",
      "cuisine type:  chinese\n",
      "unique number of ingredients in dataset:  1792\n",
      "cuisine type:  british\n",
      "unique number of ingredients in dataset:  1166\n",
      "cuisine type:  thai\n",
      "unique number of ingredients in dataset:  1376\n",
      "cuisine type:  vietnamese\n",
      "unique number of ingredients in dataset:  1108\n",
      "cuisine type:  cajun_creole\n",
      "unique number of ingredients in dataset:  1576\n",
      "cuisine type:  brazilian\n",
      "unique number of ingredients in dataset:  853\n",
      "cuisine type:  french\n",
      "unique number of ingredients in dataset:  2102\n",
      "cuisine type:  japanese\n",
      "unique number of ingredients in dataset:  1439\n",
      "cuisine type:  irish\n",
      "unique number of ingredients in dataset:  999\n",
      "cuisine type:  korean\n",
      "unique number of ingredients in dataset:  898\n",
      "cuisine type:  moroccan\n",
      "unique number of ingredients in dataset:  974\n",
      "cuisine type:  russian\n",
      "unique number of ingredients in dataset:  872\n"
     ]
    }
   ],
   "source": [
    "for i in range(len(cuisines)):\n",
    "    print('cuisine type: ', cuisines[i])\n",
    "    print('unique number of ingredients in dataset: ', len(unique_ingredients_by_cuisine[i]))\n"
   ]
  },
  {
   "cell_type": "code",
   "execution_count": 123,
   "id": "e1516a45",
   "metadata": {},
   "outputs": [
    {
     "data": {
      "image/png": "[encoded data removed]",
      "text/plain": [
       "<Figure size 432x288 with 1 Axes>"
      ]
     },
     "metadata": {},
     "output_type": "display_data"
    }
   ],
   "source": [
    "plt.figure()\n",
    "bars_label = cuisines\n",
    "plt.bar(range(len(bars_label)), [len(unique_ingredients_by_cuisine[i]) for i in range(len(cuisines))])\n",
    "plt.xticks(range(len(bars_label)), bars_label, rotation='vertical')\n",
    "plt.xlabel('cuisine type')\n",
    "plt.ylabel('unique number of ingredients')\n",
    "plt.show()"
   ]
  },
  {
   "cell_type": "code",
   "execution_count": null,
   "id": "ebe097be",
   "metadata": {},
   "outputs": [],
   "source": []
  }
 ],
 "metadata": {
  "kernelspec": {
   "display_name": "Python 3 (ipykernel)",
   "language": "python",
   "name": "python3"
  },
  "language_info": {
   "codemirror_mode": {
    "name": "ipython",
    "version": 3
   },
   "file_extension": ".py",
   "mimetype": "text/x-python",
   "name": "python",
   "nbconvert_exporter": "python",
   "pygments_lexer": "ipython3",
   "version": "3.9.12"
  }
 },
 "nbformat": 4,
 "nbformat_minor": 5
}
