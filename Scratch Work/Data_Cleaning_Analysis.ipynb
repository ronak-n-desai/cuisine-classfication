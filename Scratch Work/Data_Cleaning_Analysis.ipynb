{
 "cells": [
  {
   "cell_type": "markdown",
   "id": "4d395291",
   "metadata": {},
   "source": [
    "# Imports"
   ]
  },
  {
   "cell_type": "code",
   "execution_count": 162,
   "id": "6cec5b48",
   "metadata": {},
   "outputs": [],
   "source": [
    "import pandas as pd\n",
    "import numpy as np\n",
    "import matplotlib.pyplot as plt\n",
    "import seaborn as sns\n",
    "from difflib import SequenceMatcher\n",
    "\n",
    "sns.set_style(\"whitegrid\")"
   ]
  },
  {
   "cell_type": "markdown",
   "id": "04da2ee0",
   "metadata": {},
   "source": [
    "## Load Training Data Set"
   ]
  },
  {
   "cell_type": "code",
   "execution_count": 299,
   "id": "1332a6d4",
   "metadata": {},
   "outputs": [
    {
     "data": {
      "text/html": [
       "<div>\n",
       "<style scoped>\n",
       "    .dataframe tbody tr th:only-of-type {\n",
       "        vertical-align: middle;\n",
       "    }\n",
       "\n",
       "    .dataframe tbody tr th {\n",
       "        vertical-align: top;\n",
       "    }\n",
       "\n",
       "    .dataframe thead th {\n",
       "        text-align: right;\n",
       "    }\n",
       "</style>\n",
       "<table border=\"1\" class=\"dataframe\">\n",
       "  <thead>\n",
       "    <tr style=\"text-align: right;\">\n",
       "      <th></th>\n",
       "      <th>cuisine</th>\n",
       "      <th>ingredients</th>\n",
       "    </tr>\n",
       "  </thead>\n",
       "  <tbody>\n",
       "    <tr>\n",
       "      <th>7520</th>\n",
       "      <td>southern_us</td>\n",
       "      <td>[water, heavy cream, carrots, fresh tomatoes, ...</td>\n",
       "    </tr>\n",
       "    <tr>\n",
       "      <th>1715</th>\n",
       "      <td>moroccan</td>\n",
       "      <td>[eggs, salt, boneless skinless chicken breast ...</td>\n",
       "    </tr>\n",
       "    <tr>\n",
       "      <th>12385</th>\n",
       "      <td>irish</td>\n",
       "      <td>[club soda, lime, ice cubes, Irish whiskey]</td>\n",
       "    </tr>\n",
       "    <tr>\n",
       "      <th>17797</th>\n",
       "      <td>korean</td>\n",
       "      <td>[sugar, green onions, dried shiitake mushrooms...</td>\n",
       "    </tr>\n",
       "    <tr>\n",
       "      <th>18904</th>\n",
       "      <td>mexican</td>\n",
       "      <td>[water, cilantro sprigs, chopped pecans, chipo...</td>\n",
       "    </tr>\n",
       "  </tbody>\n",
       "</table>\n",
       "</div>"
      ],
      "text/plain": [
       "           cuisine                                        ingredients\n",
       "7520   southern_us  [water, heavy cream, carrots, fresh tomatoes, ...\n",
       "1715      moroccan  [eggs, salt, boneless skinless chicken breast ...\n",
       "12385        irish        [club soda, lime, ice cubes, Irish whiskey]\n",
       "17797       korean  [sugar, green onions, dried shiitake mushrooms...\n",
       "18904      mexican  [water, cilantro sprigs, chopped pecans, chipo..."
      ]
     },
     "metadata": {},
     "output_type": "display_data"
    },
    {
     "name": "stdout",
     "output_type": "stream",
     "text": [
      "number of data points:  39774\n"
     ]
    }
   ],
   "source": [
    "train_set = pd.read_json('train.json')\n",
    "train_set.drop(columns=['id'], inplace=True)\n",
    "display(train_set.sample(5))\n",
    "print('number of data points: ', len(train_set))"
   ]
  },
  {
   "cell_type": "code",
   "execution_count": 34,
   "id": "47f72941",
   "metadata": {},
   "outputs": [
    {
     "data": {
      "text/html": [
       "<div>\n",
       "<style scoped>\n",
       "    .dataframe tbody tr th:only-of-type {\n",
       "        vertical-align: middle;\n",
       "    }\n",
       "\n",
       "    .dataframe tbody tr th {\n",
       "        vertical-align: top;\n",
       "    }\n",
       "\n",
       "    .dataframe thead th {\n",
       "        text-align: right;\n",
       "    }\n",
       "</style>\n",
       "<table border=\"1\" class=\"dataframe\">\n",
       "  <thead>\n",
       "    <tr style=\"text-align: right;\">\n",
       "      <th></th>\n",
       "      <th>cuisine</th>\n",
       "      <th>ingredients</th>\n",
       "    </tr>\n",
       "  </thead>\n",
       "  <tbody>\n",
       "    <tr>\n",
       "      <th>39754</th>\n",
       "      <td>vietnamese</td>\n",
       "      <td>[jasmine rice, bay leaves, sticky rice, rotiss...</td>\n",
       "    </tr>\n",
       "    <tr>\n",
       "      <th>39755</th>\n",
       "      <td>indian</td>\n",
       "      <td>[mint leaves, cilantro leaves, ghee, tomatoes,...</td>\n",
       "    </tr>\n",
       "    <tr>\n",
       "      <th>39756</th>\n",
       "      <td>mexican</td>\n",
       "      <td>[vegetable oil, cinnamon sticks, water, all-pu...</td>\n",
       "    </tr>\n",
       "    <tr>\n",
       "      <th>39757</th>\n",
       "      <td>greek</td>\n",
       "      <td>[red bell pepper, garlic cloves, extra-virgin ...</td>\n",
       "    </tr>\n",
       "    <tr>\n",
       "      <th>39758</th>\n",
       "      <td>greek</td>\n",
       "      <td>[milk, salt, ground cayenne pepper, ground lam...</td>\n",
       "    </tr>\n",
       "    <tr>\n",
       "      <th>39759</th>\n",
       "      <td>korean</td>\n",
       "      <td>[red chili peppers, sea salt, onions, water, c...</td>\n",
       "    </tr>\n",
       "    <tr>\n",
       "      <th>39760</th>\n",
       "      <td>southern_us</td>\n",
       "      <td>[butter, large eggs, cornmeal, baking powder, ...</td>\n",
       "    </tr>\n",
       "    <tr>\n",
       "      <th>39761</th>\n",
       "      <td>chinese</td>\n",
       "      <td>[honey, chicken breast halves, cilantro leaves...</td>\n",
       "    </tr>\n",
       "    <tr>\n",
       "      <th>39762</th>\n",
       "      <td>indian</td>\n",
       "      <td>[curry powder, salt, chicken, water, vegetable...</td>\n",
       "    </tr>\n",
       "    <tr>\n",
       "      <th>39763</th>\n",
       "      <td>italian</td>\n",
       "      <td>[fettuccine pasta, low-fat cream cheese, garli...</td>\n",
       "    </tr>\n",
       "    <tr>\n",
       "      <th>39764</th>\n",
       "      <td>mexican</td>\n",
       "      <td>[chili powder, worcestershire sauce, celery, r...</td>\n",
       "    </tr>\n",
       "    <tr>\n",
       "      <th>39765</th>\n",
       "      <td>indian</td>\n",
       "      <td>[coconut, unsweetened coconut milk, mint leave...</td>\n",
       "    </tr>\n",
       "    <tr>\n",
       "      <th>39766</th>\n",
       "      <td>irish</td>\n",
       "      <td>[rutabaga, ham, thick-cut bacon, potatoes, fre...</td>\n",
       "    </tr>\n",
       "    <tr>\n",
       "      <th>39767</th>\n",
       "      <td>italian</td>\n",
       "      <td>[low-fat sour cream, grated parmesan cheese, s...</td>\n",
       "    </tr>\n",
       "    <tr>\n",
       "      <th>39768</th>\n",
       "      <td>mexican</td>\n",
       "      <td>[shredded cheddar cheese, crushed cheese crack...</td>\n",
       "    </tr>\n",
       "    <tr>\n",
       "      <th>39769</th>\n",
       "      <td>irish</td>\n",
       "      <td>[light brown sugar, granulated sugar, butter, ...</td>\n",
       "    </tr>\n",
       "    <tr>\n",
       "      <th>39770</th>\n",
       "      <td>italian</td>\n",
       "      <td>[kraft zesty italian dressing, purple onion, b...</td>\n",
       "    </tr>\n",
       "    <tr>\n",
       "      <th>39771</th>\n",
       "      <td>irish</td>\n",
       "      <td>[eggs, citrus fruit, raisins, sourdough starte...</td>\n",
       "    </tr>\n",
       "    <tr>\n",
       "      <th>39772</th>\n",
       "      <td>chinese</td>\n",
       "      <td>[boneless chicken skinless thigh, minced garli...</td>\n",
       "    </tr>\n",
       "    <tr>\n",
       "      <th>39773</th>\n",
       "      <td>mexican</td>\n",
       "      <td>[green chile, jalapeno chilies, onions, ground...</td>\n",
       "    </tr>\n",
       "  </tbody>\n",
       "</table>\n",
       "</div>"
      ],
      "text/plain": [
       "           cuisine                                        ingredients\n",
       "39754   vietnamese  [jasmine rice, bay leaves, sticky rice, rotiss...\n",
       "39755       indian  [mint leaves, cilantro leaves, ghee, tomatoes,...\n",
       "39756      mexican  [vegetable oil, cinnamon sticks, water, all-pu...\n",
       "39757        greek  [red bell pepper, garlic cloves, extra-virgin ...\n",
       "39758        greek  [milk, salt, ground cayenne pepper, ground lam...\n",
       "39759       korean  [red chili peppers, sea salt, onions, water, c...\n",
       "39760  southern_us  [butter, large eggs, cornmeal, baking powder, ...\n",
       "39761      chinese  [honey, chicken breast halves, cilantro leaves...\n",
       "39762       indian  [curry powder, salt, chicken, water, vegetable...\n",
       "39763      italian  [fettuccine pasta, low-fat cream cheese, garli...\n",
       "39764      mexican  [chili powder, worcestershire sauce, celery, r...\n",
       "39765       indian  [coconut, unsweetened coconut milk, mint leave...\n",
       "39766        irish  [rutabaga, ham, thick-cut bacon, potatoes, fre...\n",
       "39767      italian  [low-fat sour cream, grated parmesan cheese, s...\n",
       "39768      mexican  [shredded cheddar cheese, crushed cheese crack...\n",
       "39769        irish  [light brown sugar, granulated sugar, butter, ...\n",
       "39770      italian  [kraft zesty italian dressing, purple onion, b...\n",
       "39771        irish  [eggs, citrus fruit, raisins, sourdough starte...\n",
       "39772      chinese  [boneless chicken skinless thigh, minced garli...\n",
       "39773      mexican  [green chile, jalapeno chilies, onions, ground..."
      ]
     },
     "execution_count": 34,
     "metadata": {},
     "output_type": "execute_result"
    }
   ],
   "source": [
    "train_set['ingredients'] = train_set['ingredients'].map(lambda x: list(map(str.lower, x)))\n",
    "train_set.tail(20)"
   ]
  },
  {
   "cell_type": "code",
   "execution_count": 35,
   "id": "aeab0d75",
   "metadata": {},
   "outputs": [
    {
     "name": "stdout",
     "output_type": "stream",
     "text": [
      "unique number of ingredients in dataset:  6703\n"
     ]
    }
   ],
   "source": [
    "all_ingredients = np.concatenate(tuple(train_set.ingredients.values[i] for i in range(len(train_set.ingredients.values))))\n",
    "unique_ingredients, counts = np.unique(all_ingredients, return_counts=True)\n",
    "print('unique number of ingredients in dataset: ', len(unique_ingredients))"
   ]
  },
  {
   "cell_type": "code",
   "execution_count": 175,
   "id": "88b6525d",
   "metadata": {},
   "outputs": [],
   "source": [
    "def contains_print(string, list):\n",
    "    for word in list:\n",
    "        if string in word:\n",
    "            print(word)\n",
    "def contains(string, list):\n",
    "    words = []\n",
    "    for word in list:\n",
    "        if string in word:\n",
    "            words.append(word)\n",
    "    return words\n",
    "def is_smallest(word, list):\n",
    "    smallest = len(word)\n",
    "    for other_word in list:\n",
    "        if smallest <= len(other_word):\n",
    "            continue\n",
    "        else:\n",
    "            return False\n",
    "    return True\n",
    "def find_common_match(list):\n",
    "    if len(list) == 0:\n",
    "        return ''\n",
    "    elif len(list) == 1:\n",
    "        return list[0]\n",
    "    else:\n",
    "        match_str = list[0]\n",
    "        for i in range (0, len(list) - 1):\n",
    "            match = SequenceMatcher(None, match_str, list[i+1]).find_longest_match()\n",
    "            match_str=match_str[match.a:match.a+match.size]\n",
    "        return match_str\n",
    "            "
   ]
  },
  {
   "cell_type": "code",
   "execution_count": 37,
   "id": "9eece78e",
   "metadata": {
    "scrolled": true
   },
   "outputs": [
    {
     "name": "stdout",
     "output_type": "stream",
     "text": [
      "bermuda onion\n",
      "black onion seeds\n",
      "boiling onions\n",
      "chopped onion\n",
      "cipollini onions\n",
      "condensed french onion soup\n",
      "cream cheese with chives and onion\n",
      "diced onions\n",
      "diced red onions\n",
      "diced tomatoes with garlic and onion\n",
      "diced yellow onion\n",
      "dried minced onion\n",
      "finely chopped onion\n",
      "french fried onions\n",
      "french onion soup\n",
      "fresh onion\n",
      "frozen onion rings\n",
      "frozen peppers and onions\n",
      "green onion bottoms\n",
      "green onions\n",
      "knorr onion minicubes\n",
      "lipton onion soup mix\n",
      "lipton recip secret golden onion soup mix\n",
      "lipton® recipe secrets® onion soup mix\n",
      "maui onion\n",
      "minced onion\n",
      "onion flakes\n",
      "onion gravy\n",
      "onion powder\n",
      "onion rings\n",
      "onion salt\n",
      "onion slices\n",
      "onion soup\n",
      "onion soup mix\n",
      "onion tops\n",
      "onions\n",
      "pearl onions\n",
      "pickled onion\n",
      "purple onion\n",
      "sliced green onions\n",
      "small yellow onion\n",
      "spanish onion\n",
      "spring onions\n",
      "sweet onion\n",
      "vidalia onion\n",
      "white onion\n",
      "yellow onion\n"
     ]
    }
   ],
   "source": [
    "contains('onion', unique_ingredients)"
   ]
  },
  {
   "cell_type": "code",
   "execution_count": 38,
   "id": "115c7c66",
   "metadata": {},
   "outputs": [
    {
     "data": {
      "text/html": [
       "<div>\n",
       "<style scoped>\n",
       "    .dataframe tbody tr th:only-of-type {\n",
       "        vertical-align: middle;\n",
       "    }\n",
       "\n",
       "    .dataframe tbody tr th {\n",
       "        vertical-align: top;\n",
       "    }\n",
       "\n",
       "    .dataframe thead th {\n",
       "        text-align: right;\n",
       "    }\n",
       "</style>\n",
       "<table border=\"1\" class=\"dataframe\">\n",
       "  <thead>\n",
       "    <tr style=\"text-align: right;\">\n",
       "      <th></th>\n",
       "      <th>recipe count</th>\n",
       "    </tr>\n",
       "    <tr>\n",
       "      <th>cuisine</th>\n",
       "      <th></th>\n",
       "    </tr>\n",
       "  </thead>\n",
       "  <tbody>\n",
       "    <tr>\n",
       "      <th>brazilian</th>\n",
       "      <td>467</td>\n",
       "    </tr>\n",
       "    <tr>\n",
       "      <th>british</th>\n",
       "      <td>804</td>\n",
       "    </tr>\n",
       "    <tr>\n",
       "      <th>cajun_creole</th>\n",
       "      <td>1546</td>\n",
       "    </tr>\n",
       "    <tr>\n",
       "      <th>chinese</th>\n",
       "      <td>2673</td>\n",
       "    </tr>\n",
       "    <tr>\n",
       "      <th>filipino</th>\n",
       "      <td>755</td>\n",
       "    </tr>\n",
       "    <tr>\n",
       "      <th>french</th>\n",
       "      <td>2646</td>\n",
       "    </tr>\n",
       "    <tr>\n",
       "      <th>greek</th>\n",
       "      <td>1175</td>\n",
       "    </tr>\n",
       "    <tr>\n",
       "      <th>indian</th>\n",
       "      <td>3003</td>\n",
       "    </tr>\n",
       "    <tr>\n",
       "      <th>irish</th>\n",
       "      <td>667</td>\n",
       "    </tr>\n",
       "    <tr>\n",
       "      <th>italian</th>\n",
       "      <td>7838</td>\n",
       "    </tr>\n",
       "    <tr>\n",
       "      <th>jamaican</th>\n",
       "      <td>526</td>\n",
       "    </tr>\n",
       "    <tr>\n",
       "      <th>japanese</th>\n",
       "      <td>1423</td>\n",
       "    </tr>\n",
       "    <tr>\n",
       "      <th>korean</th>\n",
       "      <td>830</td>\n",
       "    </tr>\n",
       "    <tr>\n",
       "      <th>mexican</th>\n",
       "      <td>6438</td>\n",
       "    </tr>\n",
       "    <tr>\n",
       "      <th>moroccan</th>\n",
       "      <td>821</td>\n",
       "    </tr>\n",
       "    <tr>\n",
       "      <th>russian</th>\n",
       "      <td>489</td>\n",
       "    </tr>\n",
       "    <tr>\n",
       "      <th>southern_us</th>\n",
       "      <td>4320</td>\n",
       "    </tr>\n",
       "    <tr>\n",
       "      <th>spanish</th>\n",
       "      <td>989</td>\n",
       "    </tr>\n",
       "    <tr>\n",
       "      <th>thai</th>\n",
       "      <td>1539</td>\n",
       "    </tr>\n",
       "    <tr>\n",
       "      <th>vietnamese</th>\n",
       "      <td>825</td>\n",
       "    </tr>\n",
       "  </tbody>\n",
       "</table>\n",
       "</div>"
      ],
      "text/plain": [
       "              recipe count\n",
       "cuisine                   \n",
       "brazilian              467\n",
       "british                804\n",
       "cajun_creole          1546\n",
       "chinese               2673\n",
       "filipino               755\n",
       "french                2646\n",
       "greek                 1175\n",
       "indian                3003\n",
       "irish                  667\n",
       "italian               7838\n",
       "jamaican               526\n",
       "japanese              1423\n",
       "korean                 830\n",
       "mexican               6438\n",
       "moroccan               821\n",
       "russian                489\n",
       "southern_us           4320\n",
       "spanish                989\n",
       "thai                  1539\n",
       "vietnamese             825"
      ]
     },
     "metadata": {},
     "output_type": "display_data"
    }
   ],
   "source": [
    "count_by_cuisine = train_set.groupby(['cuisine']).count()\n",
    "count_by_cuisine['recipe count'] = count_by_cuisine['ingredients']\n",
    "cuisines = count_by_cuisine.index.values\n",
    "count_by_cuisine.drop(columns=['ingredients'], inplace=True)\n",
    "display(count_by_cuisine)"
   ]
  },
  {
   "cell_type": "code",
   "execution_count": 39,
   "id": "165432c0",
   "metadata": {},
   "outputs": [],
   "source": [
    "ingredient_count_df = pd.DataFrame(0, index=unique_ingredients, columns=cuisines)\n",
    "for i in range(len(train_set)):\n",
    "    for j in range(len(train_set.ingredients[i])):\n",
    "        ingredient_count_df[train_set[\"cuisine\"][i]][train_set.ingredients[i][j]]=ingredient_count_df[train_set[\"cuisine\"][i]][train_set.ingredients[i][j]]+1"
   ]
  },
  {
   "cell_type": "code",
   "execution_count": 49,
   "id": "c2a0bbd5",
   "metadata": {},
   "outputs": [
    {
     "name": "stdout",
     "output_type": "stream",
     "text": [
      "194.0  ingredients that are present in more than 1% of recipes.\n"
     ]
    }
   ],
   "source": [
    "ingredients_needed = np.zeros(5000)\n",
    "for i in range(len(ingredients_needed)):\n",
    "    # Ingredients that are present in more than i recipes\n",
    "    ingredients_needed[i] = len(ingredient_count_df[ingredient_count_df.sum(axis=1) > i])\n",
    "ingredients_in_1pct = ingredients_needed[round(len(train_set) / 100)]\n",
    "print(ingredients_in_1pct, ' ingredients that are present in more than 1% of recipes.')"
   ]
  },
  {
   "cell_type": "code",
   "execution_count": 54,
   "id": "057b75e6",
   "metadata": {},
   "outputs": [],
   "source": [
    "most_popular_ingredients_df = ingredient_count_df[ingredient_count_df.sum(axis=1) > ingredients_in_1pct]"
   ]
  },
  {
   "cell_type": "code",
   "execution_count": 151,
   "id": "c43e521e",
   "metadata": {},
   "outputs": [
    {
     "name": "stdout",
     "output_type": "stream",
     "text": [
      "['active dry yeast' 'all-purpose flour' 'andouille sausage'\n",
      " 'apple cider vinegar' 'arborio rice' 'asparagus' 'avocado' 'baby spinach'\n",
      " 'bacon' 'bacon slices' 'baguette' 'baking potatoes' 'baking powder'\n",
      " 'baking soda' 'balsamic vinegar' 'bananas' 'basil' 'basil leaves'\n",
      " 'basmati rice' 'bay leaf' 'bay leaves' 'beansprouts' 'beef' 'beef broth'\n",
      " 'beer' 'bell pepper' 'black beans' 'black olives' 'black pepper'\n",
      " 'black peppercorns' 'black-eyed peas' 'boiling water'\n",
      " 'boneless chicken skinless thigh'\n",
      " 'boneless skinless chicken breast halves'\n",
      " 'boneless skinless chicken breasts' 'bourbon whiskey' 'bread crumbs'\n",
      " 'broccoli' 'brown rice' 'brown sugar' 'butter' 'buttermilk' 'cabbage'\n",
      " 'cajun seasoning' 'cannellini beans' 'canola oil' 'capers' 'carrots'\n",
      " 'cashew nuts' 'cauliflower' 'cayenne' 'cayenne pepper' 'celery'\n",
      " 'celery ribs' 'cheddar cheese' 'cheese' 'cherry tomatoes' 'chicken'\n",
      " 'chicken breasts' 'chicken broth' 'chicken stock' 'chicken thighs'\n",
      " 'chickpeas' 'chile pepper' 'chiles' 'chili powder'\n",
      " 'chinese five-spice powder' 'chives' 'chopped celery' 'chopped cilantro'\n",
      " 'chopped cilantro fresh' 'chopped fresh chives' 'chopped fresh mint'\n",
      " 'chopped fresh thyme' 'chopped garlic' 'chopped green bell pepper'\n",
      " 'chopped onion' 'chopped parsley' 'chopped pecans' 'chopped tomatoes'\n",
      " 'cider vinegar' 'cilantro' 'cilantro leaves' 'cilantro sprigs' 'cinnamon'\n",
      " 'cinnamon sticks' 'clove' 'coarse salt' 'coconut milk' 'coconut oil'\n",
      " 'cold water' 'confectioners sugar' 'cooked chicken' 'cooked rice'\n",
      " 'cooking oil' 'cooking spray' 'coriander' 'coriander powder'\n",
      " 'coriander seeds' 'corn' 'corn kernels' 'corn starch' 'corn tortillas'\n",
      " 'cornmeal' 'cracked black pepper' 'cream' 'cream cheese'\n",
      " 'creole seasoning' 'crushed red pepper' 'crushed red pepper flakes'\n",
      " 'crushed tomatoes' 'cucumber' 'cumin' 'cumin seed' 'curry leaves'\n",
      " 'curry powder' 'dark brown sugar' 'dark sesame oil' 'dark soy sauce'\n",
      " 'diced onions' 'diced tomatoes' 'dijon mustard' 'dried basil'\n",
      " 'dried oregano' 'dried thyme' 'dry bread crumbs' 'dry red wine'\n",
      " 'dry sherry' 'dry white wine' 'egg whites' 'egg yolks' 'eggplant' 'eggs'\n",
      " 'enchilada sauce' 'evaporated milk' 'extra-virgin olive oil'\n",
      " 'fat free less sodium chicken broth' 'fennel bulb' 'fennel seeds'\n",
      " 'feta cheese' 'feta cheese crumbles' 'fine sea salt'\n",
      " 'finely chopped onion' 'firm tofu' 'fish sauce' 'flank steak'\n",
      " 'flat leaf parsley' 'flour' 'flour tortillas' 'fresh basil'\n",
      " 'fresh basil leaves' 'fresh cilantro' 'fresh coriander' 'fresh dill'\n",
      " 'fresh ginger' 'fresh ginger root' 'fresh lemon juice' 'fresh lime juice'\n",
      " 'fresh mint' 'fresh mushrooms' 'fresh orange juice' 'fresh oregano'\n",
      " 'fresh parmesan cheese' 'fresh parsley' 'fresh rosemary' 'fresh spinach'\n",
      " 'fresh thyme' 'freshly ground pepper' 'frozen chopped spinach'\n",
      " 'frozen peas' 'garam masala' 'garlic' 'garlic cloves' 'garlic paste'\n",
      " 'garlic powder' 'garlic salt' 'ghee' 'ginger' 'golden raisins'\n",
      " 'granulated sugar' 'grape tomatoes' 'grated lemon zest' 'grated nutmeg'\n",
      " 'grated parmesan cheese' 'greek yogurt' 'green beans' 'green bell pepper'\n",
      " 'green cabbage' 'green chile' 'green chilies' 'green onions' 'green peas'\n",
      " 'green pepper' 'ground allspice' 'ground beef' 'ground black pepper'\n",
      " 'ground cardamom' 'ground cinnamon' 'ground cloves' 'ground coriander'\n",
      " 'ground cumin' 'ground ginger' 'ground nutmeg' 'ground pepper'\n",
      " 'ground pork' 'ground red pepper' 'ground turmeric' 'ground white pepper'\n",
      " 'half & half' 'ham' 'heavy cream' 'heavy whipping cream' 'hoisin sauce'\n",
      " 'honey' 'hot pepper sauce' 'hot sauce' 'hot water' 'italian seasoning'\n",
      " 'jalapeno chilies' 'juice' 'kalamata' 'ketchup' 'kosher salt'\n",
      " 'large egg whites' 'large egg yolks' 'large eggs' 'large garlic cloves'\n",
      " 'large shrimp' 'lasagna noodles' 'lean ground beef' 'leeks' 'lemon'\n",
      " 'lemon juice' 'lemon wedge' 'lemon zest' 'lemongrass' 'light brown sugar'\n",
      " 'light soy sauce' 'lime' 'lime juice' 'lime wedges' 'linguine'\n",
      " 'long grain white rice' 'long-grain rice' 'low salt chicken broth'\n",
      " 'low sodium chicken broth' 'low sodium soy sauce' 'mango' 'margarine'\n",
      " 'marinara sauce' 'mayonaise' 'medium shrimp' 'melted butter' 'milk'\n",
      " 'minced garlic' 'minced ginger' 'mint leaves' 'mirin' 'monterey jack'\n",
      " 'mozzarella cheese' 'mushrooms' 'mustard seeds' 'napa cabbage' 'noodles'\n",
      " 'nutmeg' 'oil' 'okra' 'olive oil' 'onion powder' 'onions' 'orange'\n",
      " 'orange juice' 'oregano' 'oyster sauce' 'paprika' 'parmesan cheese'\n",
      " 'parmigiano reggiano cheese' 'parsley' 'part-skim mozzarella cheese'\n",
      " 'pasta' 'pasta sauce' 'peaches' 'peanut oil' 'peanuts'\n",
      " 'peeled fresh ginger' 'pepper' 'pinenuts' 'pitted kalamata olives'\n",
      " 'plain yogurt' 'plum tomatoes' 'pork' 'pork tenderloin' 'potatoes'\n",
      " 'powdered sugar' 'prosciutto' 'purple onion' 'radishes' 'raisins'\n",
      " 'red bell pepper' 'red chili peppers' 'red chili powder' 'red pepper'\n",
      " 'red pepper flakes' 'red potato' 'red wine' 'red wine vinegar'\n",
      " 'refried beans' 'rice' 'rice noodles' 'rice vinegar' 'rice wine'\n",
      " 'ricotta cheese' 'roasted red peppers' 'roma tomatoes' 'romaine lettuce'\n",
      " 'russet potatoes' 'saffron' 'saffron threads' 'sake' 'salsa' 'salt'\n",
      " 'salt and ground black pepper' 'sauce' 'scallions' 'sea salt'\n",
      " 'serrano chile' 'sesame oil' 'sesame seeds' 'shallots' 'shaoxing wine'\n",
      " 'shiitake' 'shortening' 'shredded cheddar cheese'\n",
      " 'shredded monterey jack cheese' 'shredded mozzarella cheese' 'shrimp'\n",
      " 'sliced green onions' 'sliced mushrooms' 'smoked paprika' 'sour cream'\n",
      " 'soy sauce' 'spaghetti' 'spinach' 'spring onions' 'sriracha' 'star anise'\n",
      " 'strawberries' 'sugar' 'sweet onion' 'sweet potatoes'\n",
      " 'sweetened condensed milk' 'taco seasoning' 'thai chile' 'thyme'\n",
      " 'thyme sprigs' 'toasted sesame oil' 'toasted sesame seeds' 'tomatillos'\n",
      " 'tomato paste' 'tomato purée' 'tomato sauce' 'tomatoes' 'tortilla chips'\n",
      " 'tortillas' 'tumeric' 'unsalted butter' 'unsweetened cocoa powder'\n",
      " 'vanilla' 'vanilla extract' 'vegetable broth' 'vegetable oil'\n",
      " 'vegetable oil cooking spray' 'vegetables' 'vinegar' 'warm water' 'water'\n",
      " 'water chestnuts' 'whipping cream' 'white onion' 'white pepper'\n",
      " 'white rice' 'white sugar' 'white vinegar' 'white wine'\n",
      " 'white wine vinegar' 'whole milk' 'worcestershire sauce'\n",
      " 'yellow bell pepper' 'yellow corn meal' 'yellow onion' 'yoghurt'\n",
      " 'yukon gold potatoes' 'zucchini']\n",
      "393\n"
     ]
    }
   ],
   "source": [
    "most_popular_ingredients = most_popular_ingredients_df.index.values\n",
    "print(most_popular_ingredients)\n",
    "print(len(most_popular_ingredients))"
   ]
  },
  {
   "cell_type": "code",
   "execution_count": 161,
   "id": "ee8dd3ce",
   "metadata": {
    "scrolled": false
   },
   "outputs": [
    {
     "name": "stdout",
     "output_type": "stream",
     "text": [
      "[['bacon', 'bacon slices'], ['basil', 'basil leaves', 'dried basil', 'fresh basil', 'fresh basil leaves'], ['basil leaves', 'fresh basil leaves'], ['beef', 'beef broth', 'ground beef', 'lean ground beef'], ['bell pepper', 'chopped green bell pepper', 'green bell pepper', 'red bell pepper', 'yellow bell pepper'], ['black pepper', 'black peppercorns', 'cracked black pepper', 'ground black pepper', 'salt and ground black pepper'], ['bread crumbs', 'dry bread crumbs'], ['brown sugar', 'dark brown sugar', 'light brown sugar'], ['butter', 'buttermilk', 'melted butter', 'unsalted butter'], ['cabbage', 'green cabbage', 'napa cabbage'], ['cayenne', 'cayenne pepper'], ['celery', 'celery ribs', 'chopped celery'], ['cheddar cheese', 'shredded cheddar cheese'], ['chicken broth', 'fat free less sodium chicken broth', 'low salt chicken broth', 'low sodium chicken broth'], ['chili powder', 'red chili powder'], ['chives', 'chopped fresh chives'], ['chopped cilantro', 'chopped cilantro fresh'], ['chopped onion', 'finely chopped onion'], ['cinnamon', 'cinnamon sticks', 'ground cinnamon'], ['clove', 'garlic cloves', 'ground cloves', 'large garlic cloves'], ['cooking spray', 'vegetable oil cooking spray'], ['coriander', 'coriander powder', 'coriander seeds', 'fresh coriander', 'ground coriander'], ['cream', 'cream cheese', 'heavy cream', 'heavy whipping cream', 'sour cream', 'whipping cream'], ['crushed red pepper', 'crushed red pepper flakes'], ['cumin', 'cumin seed', 'ground cumin'], ['egg whites', 'large egg whites'], ['egg yolks', 'large egg yolks'], ['eggs', 'large eggs'], ['feta cheese', 'feta cheese crumbles'], ['fresh basil', 'fresh basil leaves'], ['fresh ginger', 'fresh ginger root', 'peeled fresh ginger'], ['garlic cloves', 'large garlic cloves'], ['green onions', 'sliced green onions'], ['ground beef', 'lean ground beef'], ['ground black pepper', 'salt and ground black pepper'], ['kalamata', 'pitted kalamata olives'], ['monterey jack', 'shredded monterey jack cheese'], ['mozzarella cheese', 'part-skim mozzarella cheese', 'shredded mozzarella cheese'], ['paprika', 'smoked paprika'], ['pasta', 'pasta sauce'], ['saffron', 'saffron threads'], ['sesame seeds', 'toasted sesame seeds'], ['vanilla', 'vanilla extract'], ['vegetable oil', 'vegetable oil cooking spray']]\n",
      "44\n",
      "['bacon', 'basil', 'basil leaves', 'beef', 'bell pepper', 'black pepper', 'bread crumbs', 'brown sugar', 'butter', 'cabbage', 'cayenne', 'celery', 'cheddar cheese', 'chicken broth', 'chili powder', 'chives', 'chopped cilantro', 'chopped onion', 'cinnamon', 'clove', 'cooking spray', 'coriander', 'cream', 'crushed red pepper', 'cumin', 'egg whites', 'egg yolks', 'eggs', 'feta cheese', 'fresh basil', 'fresh ginger', 'garlic cloves', 'green onions', 'ground beef', 'ground black pepper', 'kalamata', 'monterey jack', 'mozzarella cheese', 'paprika', 'pasta', 'saffron', 'sesame seeds', 'vanilla', 'vegetable oil']\n"
     ]
    }
   ],
   "source": [
    "words_list = [[] for _ in range(len(most_popular_ingredients))]\n",
    "singular_words_list = []\n",
    "i = 0\n",
    "for word in most_popular_ingredients:\n",
    "    words_list[i] = contains(word, most_popular_ingredients)\n",
    "    i+=1\n",
    "#print(words_list)\n",
    "words_list_v2 = []\n",
    "for words in words_list:\n",
    "    if len(words)>1:\n",
    "        if is_smallest(words[0], words):\n",
    "            words_list_v2.append(words)\n",
    "print(words_list_v2)\n",
    "print(len(words_list_v2))\n",
    "words_list_v3 = ['']*len(words_list_v2)\n",
    "for i in range(len(words_list_v3)):\n",
    "    words_list_v3[i] = words_list_v2[i][0]\n",
    "print(words_list_v3)\n"
   ]
  },
  {
   "cell_type": "code",
   "execution_count": 157,
   "id": "f14e134c",
   "metadata": {},
   "outputs": [
    {
     "data": {
      "text/plain": [
       "41"
      ]
     },
     "execution_count": 157,
     "metadata": {},
     "output_type": "execute_result"
    }
   ],
   "source": [
    "common_words = ['bacon', 'basil', 'bell pepper', 'black pepper', 'brown sugar', 'bread crumbs', 'brown sugar', 'cayenne', 'celery', 'cheddar cheese', 'chicken breast', 'chicken broth', 'chicken thigh','chili powder', 'cilantro', 'coriander', 'garlic cloves', 'ground beef', 'green onion' 'whipping cream', 'red pepper' , 'feta cheese', 'fresh ginger' , 'orange juice', 'lemon juice', 'lime juice', 'mozzarella cheese', 'mushrooms', 'nutmeg', 'parmesan cheese' , 'sesame oil', 'vegetable oil', 'white rice', 'sea salt', 'soy sauce', 'shrimp',  'thyme', 'cider vinegar', ' water', 'sesame seeds', 'vanilla', 'cumin', 'eggs']\n",
    "len(common_words)"
   ]
  },
  {
   "cell_type": "code",
   "execution_count": 158,
   "id": "29e1e8b7",
   "metadata": {},
   "outputs": [
    {
     "name": "stdout",
     "output_type": "stream",
     "text": [
      "['active dry yeast', 'all-purpose flour', 'andouille sausage', 'arborio rice', 'asparagus', 'avocado', 'baby spinach', 'bacon', 'baguette', 'baking potatoes', 'baking powder', 'baking soda', 'balsamic vinegar', 'bananas', 'basil', 'basmati rice', 'bay leaf', 'bay leaves', 'beansprouts', 'beef', 'beef broth', 'beer', 'bell pepper', 'black beans', 'black olives', 'black pepper', 'black-eyed peas', 'boneless chicken skinless thigh', 'bourbon whiskey', 'bread crumbs', 'broccoli', 'brown rice', 'brown sugar', 'butter', 'buttermilk', 'cabbage', 'cajun seasoning', 'cannellini beans', 'canola oil', 'capers', 'carrots', 'cashew nuts', 'cauliflower', 'cayenne', 'celery', 'celery ribs', 'cheddar cheese', 'cheese', 'cherry tomatoes', 'chicken', 'chicken broth', 'chicken stock', 'chickpeas', 'chile pepper', 'chiles', 'chili powder', 'chinese five-spice powder', 'chives', 'chopped celery', 'chopped fresh chives', 'chopped fresh mint', 'chopped garlic', 'chopped onion', 'chopped parsley', 'chopped pecans', 'chopped tomatoes', 'cider vinegar', 'cilantro', 'cinnamon', 'cinnamon sticks', 'clove', 'coarse salt', 'coconut milk', 'coconut oil', 'confectioners sugar', 'cooked chicken', 'cooked rice', 'cooking oil', 'cooking spray', 'coriander', 'corn', 'corn kernels', 'corn starch', 'corn tortillas', 'cornmeal', 'cream', 'cream cheese', 'creole seasoning', 'crushed tomatoes', 'cucumber', 'cumin', 'curry leaves', 'curry powder', 'diced onions', 'diced tomatoes', 'dijon mustard', 'dried oregano', 'dry red wine', 'dry sherry', 'dry white wine', 'egg whites', 'egg yolks', 'eggplant', 'eggs', 'enchilada sauce', 'evaporated milk', 'extra-virgin olive oil', 'fennel bulb', 'fennel seeds', 'feta cheese', 'finely chopped onion', 'firm tofu', 'fish sauce', 'flank steak', 'flat leaf parsley', 'flour', 'flour tortillas', 'fresh dill', 'fresh ginger', 'fresh mint', 'fresh oregano', 'fresh parsley', 'fresh rosemary', 'fresh spinach', 'freshly ground pepper', 'frozen chopped spinach', 'frozen peas', 'garam masala', 'garlic', 'garlic cloves', 'garlic paste', 'garlic powder', 'garlic salt', 'ghee', 'ginger', 'golden raisins', 'granulated sugar', 'grape tomatoes', 'grated lemon zest', 'greek yogurt', 'green beans', 'green cabbage', 'green chile', 'green chilies', 'green peas', 'green pepper', 'ground allspice', 'ground beef', 'ground cardamom', 'ground cinnamon', 'ground cloves', 'ground ginger', 'ground pepper', 'ground pork', 'ground turmeric', 'ground white pepper', 'half & half', 'ham', 'heavy cream', 'hoisin sauce', 'honey', 'hot pepper sauce', 'hot sauce', 'italian seasoning', 'jalapeno chilies', 'juice', 'kalamata', 'ketchup', 'kosher salt', 'large egg whites', 'large egg yolks', 'lasagna noodles', 'leeks', 'lemon', 'lemon juice', 'lemon wedge', 'lemon zest', 'lemongrass', 'lime', 'lime juice', 'lime wedges', 'linguine', 'long-grain rice', 'mango', 'margarine', 'marinara sauce', 'mayonaise', 'melted butter', 'milk', 'minced garlic', 'minced ginger', 'mint leaves', 'mirin', 'monterey jack', 'mozzarella cheese', 'mushrooms', 'mustard seeds', 'napa cabbage', 'noodles', 'nutmeg', 'oil', 'okra', 'olive oil', 'onion powder', 'onions', 'orange', 'orange juice', 'oregano', 'oyster sauce', 'paprika', 'parmesan cheese', 'parmigiano reggiano cheese', 'parsley', 'pasta', 'pasta sauce', 'peaches', 'peanut oil', 'peanuts', 'pepper', 'pinenuts', 'pitted kalamata olives', 'plain yogurt', 'plum tomatoes', 'pork', 'pork tenderloin', 'potatoes', 'powdered sugar', 'prosciutto', 'purple onion', 'radishes', 'raisins', 'red chili peppers', 'red pepper', 'red potato', 'red wine', 'red wine vinegar', 'refried beans', 'rice', 'rice noodles', 'rice vinegar', 'rice wine', 'ricotta cheese', 'roma tomatoes', 'romaine lettuce', 'russet potatoes', 'saffron', 'saffron threads', 'sake', 'salsa', 'salt', 'sauce', 'scallions', 'sea salt', 'serrano chile', 'sesame oil', 'sesame seeds', 'shallots', 'shaoxing wine', 'shiitake', 'shortening', 'shredded monterey jack cheese', 'shrimp', 'smoked paprika', 'sour cream', 'soy sauce', 'spaghetti', 'spinach', 'spring onions', 'sriracha', 'star anise', 'strawberries', 'sugar', 'sweet onion', 'sweet potatoes', 'sweetened condensed milk', 'taco seasoning', 'thai chile', 'thyme', 'tomatillos', 'tomato paste', 'tomato purée', 'tomato sauce', 'tomatoes', 'tortilla chips', 'tortillas', 'tumeric', 'unsalted butter', 'unsweetened cocoa powder', 'vanilla', 'vegetable broth', 'vegetable oil', 'vegetables', 'vinegar', 'water', 'water chestnuts', 'whipping cream', 'white onion', 'white pepper', 'white rice', 'white sugar', 'white vinegar', 'white wine', 'white wine vinegar', 'whole milk', 'worcestershire sauce', 'yellow corn meal', 'yellow onion', 'yoghurt', 'yukon gold potatoes', 'zucchini']\n",
      "310\n"
     ]
    }
   ],
   "source": [
    "filtered_popular_ingredients = most_popular_ingredients.copy().tolist()\n",
    "for word_i in most_popular_ingredients:\n",
    "    for word_j in common_words:\n",
    "        if word_j in word_i:\n",
    "            if word_j != word_i:\n",
    "                filtered_popular_ingredients.remove(word_i)\n",
    "print(filtered_popular_ingredients)\n",
    "print(len(filtered_popular_ingredients))"
   ]
  },
  {
   "cell_type": "code",
   "execution_count": 159,
   "id": "2c1bebc5",
   "metadata": {},
   "outputs": [
    {
     "data": {
      "text/plain": [
       "['active dry yeast',\n",
       " 'all-purpose flour',\n",
       " 'andouille sausage',\n",
       " 'arborio rice',\n",
       " 'asparagus',\n",
       " 'avocado',\n",
       " 'baby spinach',\n",
       " 'bacon',\n",
       " 'baguette',\n",
       " 'baking potatoes',\n",
       " 'baking powder',\n",
       " 'baking soda',\n",
       " 'balsamic vinegar',\n",
       " 'bananas',\n",
       " 'basil',\n",
       " 'basmati rice',\n",
       " 'bay leaf',\n",
       " 'bay leaves',\n",
       " 'beansprouts',\n",
       " 'beef',\n",
       " 'beef broth',\n",
       " 'beer',\n",
       " 'bell pepper',\n",
       " 'black beans',\n",
       " 'black olives',\n",
       " 'black pepper',\n",
       " 'black-eyed peas',\n",
       " 'boneless chicken skinless thigh',\n",
       " 'bourbon whiskey',\n",
       " 'bread crumbs',\n",
       " 'broccoli',\n",
       " 'brown rice',\n",
       " 'brown sugar',\n",
       " 'butter',\n",
       " 'buttermilk',\n",
       " 'cabbage',\n",
       " 'cajun seasoning',\n",
       " 'cannellini beans',\n",
       " 'canola oil',\n",
       " 'capers',\n",
       " 'carrots',\n",
       " 'cashew nuts',\n",
       " 'cauliflower',\n",
       " 'cayenne',\n",
       " 'celery',\n",
       " 'celery ribs',\n",
       " 'cheddar cheese',\n",
       " 'cheese',\n",
       " 'cherry tomatoes',\n",
       " 'chicken',\n",
       " 'chicken broth',\n",
       " 'chicken stock',\n",
       " 'chickpeas',\n",
       " 'chile pepper',\n",
       " 'chiles',\n",
       " 'chili powder',\n",
       " 'chinese five-spice powder',\n",
       " 'chives',\n",
       " 'chopped celery',\n",
       " 'chopped fresh chives',\n",
       " 'chopped fresh mint',\n",
       " 'chopped garlic',\n",
       " 'chopped onion',\n",
       " 'chopped parsley',\n",
       " 'chopped pecans',\n",
       " 'chopped tomatoes',\n",
       " 'cider vinegar',\n",
       " 'cilantro',\n",
       " 'cinnamon',\n",
       " 'cinnamon sticks',\n",
       " 'clove',\n",
       " 'coarse salt',\n",
       " 'coconut milk',\n",
       " 'coconut oil',\n",
       " 'confectioners sugar',\n",
       " 'cooked chicken',\n",
       " 'cooked rice',\n",
       " 'cooking oil',\n",
       " 'cooking spray',\n",
       " 'coriander',\n",
       " 'corn',\n",
       " 'corn kernels',\n",
       " 'corn starch',\n",
       " 'corn tortillas',\n",
       " 'cornmeal',\n",
       " 'cream',\n",
       " 'cream cheese',\n",
       " 'creole seasoning',\n",
       " 'crushed tomatoes',\n",
       " 'cucumber',\n",
       " 'cumin',\n",
       " 'curry leaves',\n",
       " 'curry powder',\n",
       " 'diced onions',\n",
       " 'diced tomatoes',\n",
       " 'dijon mustard',\n",
       " 'dried oregano',\n",
       " 'dry red wine',\n",
       " 'dry sherry',\n",
       " 'dry white wine',\n",
       " 'egg whites',\n",
       " 'egg yolks',\n",
       " 'eggplant',\n",
       " 'eggs',\n",
       " 'enchilada sauce',\n",
       " 'evaporated milk',\n",
       " 'extra-virgin olive oil',\n",
       " 'fennel bulb',\n",
       " 'fennel seeds',\n",
       " 'feta cheese',\n",
       " 'finely chopped onion',\n",
       " 'firm tofu',\n",
       " 'fish sauce',\n",
       " 'flank steak',\n",
       " 'flat leaf parsley',\n",
       " 'flour',\n",
       " 'flour tortillas',\n",
       " 'fresh dill',\n",
       " 'fresh ginger',\n",
       " 'fresh mint',\n",
       " 'fresh oregano',\n",
       " 'fresh parsley',\n",
       " 'fresh rosemary',\n",
       " 'fresh spinach',\n",
       " 'freshly ground pepper',\n",
       " 'frozen chopped spinach',\n",
       " 'frozen peas',\n",
       " 'garam masala',\n",
       " 'garlic',\n",
       " 'garlic cloves',\n",
       " 'garlic paste',\n",
       " 'garlic powder',\n",
       " 'garlic salt',\n",
       " 'ghee',\n",
       " 'ginger',\n",
       " 'golden raisins',\n",
       " 'granulated sugar',\n",
       " 'grape tomatoes',\n",
       " 'grated lemon zest',\n",
       " 'greek yogurt',\n",
       " 'green beans',\n",
       " 'green cabbage',\n",
       " 'green chile',\n",
       " 'green chilies',\n",
       " 'green peas',\n",
       " 'green pepper',\n",
       " 'ground allspice',\n",
       " 'ground beef',\n",
       " 'ground cardamom',\n",
       " 'ground cinnamon',\n",
       " 'ground cloves',\n",
       " 'ground ginger',\n",
       " 'ground pepper',\n",
       " 'ground pork',\n",
       " 'ground turmeric',\n",
       " 'ground white pepper',\n",
       " 'half & half',\n",
       " 'ham',\n",
       " 'heavy cream',\n",
       " 'hoisin sauce',\n",
       " 'honey',\n",
       " 'hot pepper sauce',\n",
       " 'hot sauce',\n",
       " 'italian seasoning',\n",
       " 'jalapeno chilies',\n",
       " 'juice',\n",
       " 'kalamata',\n",
       " 'ketchup',\n",
       " 'kosher salt',\n",
       " 'large egg whites',\n",
       " 'large egg yolks',\n",
       " 'lasagna noodles',\n",
       " 'leeks',\n",
       " 'lemon',\n",
       " 'lemon juice',\n",
       " 'lemon wedge',\n",
       " 'lemon zest',\n",
       " 'lemongrass',\n",
       " 'lime',\n",
       " 'lime juice',\n",
       " 'lime wedges',\n",
       " 'linguine',\n",
       " 'long-grain rice',\n",
       " 'mango',\n",
       " 'margarine',\n",
       " 'marinara sauce',\n",
       " 'mayonaise',\n",
       " 'melted butter',\n",
       " 'milk',\n",
       " 'minced garlic',\n",
       " 'minced ginger',\n",
       " 'mint leaves',\n",
       " 'mirin',\n",
       " 'monterey jack',\n",
       " 'mozzarella cheese',\n",
       " 'mushrooms',\n",
       " 'mustard seeds',\n",
       " 'napa cabbage',\n",
       " 'noodles',\n",
       " 'nutmeg',\n",
       " 'oil',\n",
       " 'okra',\n",
       " 'olive oil',\n",
       " 'onion powder',\n",
       " 'onions',\n",
       " 'orange',\n",
       " 'orange juice',\n",
       " 'oregano',\n",
       " 'oyster sauce',\n",
       " 'paprika',\n",
       " 'parmesan cheese',\n",
       " 'parmigiano reggiano cheese',\n",
       " 'parsley',\n",
       " 'pasta',\n",
       " 'pasta sauce',\n",
       " 'peaches',\n",
       " 'peanut oil',\n",
       " 'peanuts',\n",
       " 'pepper',\n",
       " 'pinenuts',\n",
       " 'pitted kalamata olives',\n",
       " 'plain yogurt',\n",
       " 'plum tomatoes',\n",
       " 'pork',\n",
       " 'pork tenderloin',\n",
       " 'potatoes',\n",
       " 'powdered sugar',\n",
       " 'prosciutto',\n",
       " 'purple onion',\n",
       " 'radishes',\n",
       " 'raisins',\n",
       " 'red chili peppers',\n",
       " 'red pepper',\n",
       " 'red potato',\n",
       " 'red wine',\n",
       " 'red wine vinegar',\n",
       " 'refried beans',\n",
       " 'rice',\n",
       " 'rice noodles',\n",
       " 'rice vinegar',\n",
       " 'rice wine',\n",
       " 'ricotta cheese',\n",
       " 'roma tomatoes',\n",
       " 'romaine lettuce',\n",
       " 'russet potatoes',\n",
       " 'saffron',\n",
       " 'saffron threads',\n",
       " 'sake',\n",
       " 'salsa',\n",
       " 'salt',\n",
       " 'sauce',\n",
       " 'scallions',\n",
       " 'sea salt',\n",
       " 'serrano chile',\n",
       " 'sesame oil',\n",
       " 'sesame seeds',\n",
       " 'shallots',\n",
       " 'shaoxing wine',\n",
       " 'shiitake',\n",
       " 'shortening',\n",
       " 'shredded monterey jack cheese',\n",
       " 'shrimp',\n",
       " 'smoked paprika',\n",
       " 'sour cream',\n",
       " 'soy sauce',\n",
       " 'spaghetti',\n",
       " 'spinach',\n",
       " 'spring onions',\n",
       " 'sriracha',\n",
       " 'star anise',\n",
       " 'strawberries',\n",
       " 'sugar',\n",
       " 'sweet onion',\n",
       " 'sweet potatoes',\n",
       " 'sweetened condensed milk',\n",
       " 'taco seasoning',\n",
       " 'thai chile',\n",
       " 'thyme',\n",
       " 'tomatillos',\n",
       " 'tomato paste',\n",
       " 'tomato purée',\n",
       " 'tomato sauce',\n",
       " 'tomatoes',\n",
       " 'tortilla chips',\n",
       " 'tortillas',\n",
       " 'tumeric',\n",
       " 'unsalted butter',\n",
       " 'unsweetened cocoa powder',\n",
       " 'vanilla',\n",
       " 'vegetable broth',\n",
       " 'vegetable oil',\n",
       " 'vegetables',\n",
       " 'vinegar',\n",
       " 'water',\n",
       " 'water chestnuts',\n",
       " 'whipping cream',\n",
       " 'white onion',\n",
       " 'white pepper',\n",
       " 'white rice',\n",
       " 'white sugar',\n",
       " 'white vinegar',\n",
       " 'white wine',\n",
       " 'white wine vinegar',\n",
       " 'whole milk',\n",
       " 'worcestershire sauce',\n",
       " 'yellow corn meal',\n",
       " 'yellow onion',\n",
       " 'yoghurt',\n",
       " 'yukon gold potatoes',\n",
       " 'zucchini']"
      ]
     },
     "execution_count": 159,
     "metadata": {},
     "output_type": "execute_result"
    }
   ],
   "source": [
    "filtered_popular_ingredients"
   ]
  },
  {
   "cell_type": "code",
   "execution_count": null,
   "id": "0a5d8c19",
   "metadata": {},
   "outputs": [],
   "source": [
    "['green onions' 'scallions']\n",
    "['parmigiano reggiano cheese', 'parmesan cheese']"
   ]
  },
  {
   "cell_type": "code",
   "execution_count": 160,
   "id": "fb2154dd",
   "metadata": {},
   "outputs": [
    {
     "data": {
      "text/html": [
       "<div>\n",
       "<style scoped>\n",
       "    .dataframe tbody tr th:only-of-type {\n",
       "        vertical-align: middle;\n",
       "    }\n",
       "\n",
       "    .dataframe tbody tr th {\n",
       "        vertical-align: top;\n",
       "    }\n",
       "\n",
       "    .dataframe thead th {\n",
       "        text-align: right;\n",
       "    }\n",
       "</style>\n",
       "<table border=\"1\" class=\"dataframe\">\n",
       "  <thead>\n",
       "    <tr style=\"text-align: right;\">\n",
       "      <th></th>\n",
       "      <th>cuisine</th>\n",
       "      <th>ingredients</th>\n",
       "    </tr>\n",
       "  </thead>\n",
       "  <tbody>\n",
       "    <tr>\n",
       "      <th>39754</th>\n",
       "      <td>vietnamese</td>\n",
       "      <td>[jasmine rice, bay leaves, sticky rice, rotiss...</td>\n",
       "    </tr>\n",
       "    <tr>\n",
       "      <th>39755</th>\n",
       "      <td>indian</td>\n",
       "      <td>[mint leaves, cilantro leaves, ghee, tomatoes,...</td>\n",
       "    </tr>\n",
       "    <tr>\n",
       "      <th>39756</th>\n",
       "      <td>mexican</td>\n",
       "      <td>[vegetable oil, cinnamon sticks, water, all-pu...</td>\n",
       "    </tr>\n",
       "    <tr>\n",
       "      <th>39757</th>\n",
       "      <td>greek</td>\n",
       "      <td>[red bell pepper, garlic cloves, extra-virgin ...</td>\n",
       "    </tr>\n",
       "    <tr>\n",
       "      <th>39758</th>\n",
       "      <td>greek</td>\n",
       "      <td>[milk, salt, ground cayenne pepper, ground lam...</td>\n",
       "    </tr>\n",
       "    <tr>\n",
       "      <th>39759</th>\n",
       "      <td>korean</td>\n",
       "      <td>[red chili peppers, sea salt, onions, water, c...</td>\n",
       "    </tr>\n",
       "    <tr>\n",
       "      <th>39760</th>\n",
       "      <td>southern_us</td>\n",
       "      <td>[butter, large eggs, cornmeal, baking powder, ...</td>\n",
       "    </tr>\n",
       "    <tr>\n",
       "      <th>39761</th>\n",
       "      <td>chinese</td>\n",
       "      <td>[honey, chicken breast halves, cilantro leaves...</td>\n",
       "    </tr>\n",
       "    <tr>\n",
       "      <th>39762</th>\n",
       "      <td>indian</td>\n",
       "      <td>[curry powder, salt, chicken, water, vegetable...</td>\n",
       "    </tr>\n",
       "    <tr>\n",
       "      <th>39763</th>\n",
       "      <td>italian</td>\n",
       "      <td>[fettuccine pasta, low-fat cream cheese, garli...</td>\n",
       "    </tr>\n",
       "    <tr>\n",
       "      <th>39764</th>\n",
       "      <td>mexican</td>\n",
       "      <td>[chili powder, worcestershire sauce, celery, r...</td>\n",
       "    </tr>\n",
       "    <tr>\n",
       "      <th>39765</th>\n",
       "      <td>indian</td>\n",
       "      <td>[coconut, unsweetened coconut milk, mint leave...</td>\n",
       "    </tr>\n",
       "    <tr>\n",
       "      <th>39766</th>\n",
       "      <td>irish</td>\n",
       "      <td>[rutabaga, ham, thick-cut bacon, potatoes, fre...</td>\n",
       "    </tr>\n",
       "    <tr>\n",
       "      <th>39767</th>\n",
       "      <td>italian</td>\n",
       "      <td>[low-fat sour cream, grated parmesan cheese, s...</td>\n",
       "    </tr>\n",
       "    <tr>\n",
       "      <th>39768</th>\n",
       "      <td>mexican</td>\n",
       "      <td>[shredded cheddar cheese, crushed cheese crack...</td>\n",
       "    </tr>\n",
       "    <tr>\n",
       "      <th>39769</th>\n",
       "      <td>irish</td>\n",
       "      <td>[light brown sugar, granulated sugar, butter, ...</td>\n",
       "    </tr>\n",
       "    <tr>\n",
       "      <th>39770</th>\n",
       "      <td>italian</td>\n",
       "      <td>[kraft zesty italian dressing, purple onion, b...</td>\n",
       "    </tr>\n",
       "    <tr>\n",
       "      <th>39771</th>\n",
       "      <td>irish</td>\n",
       "      <td>[eggs, citrus fruit, raisins, sourdough starte...</td>\n",
       "    </tr>\n",
       "    <tr>\n",
       "      <th>39772</th>\n",
       "      <td>chinese</td>\n",
       "      <td>[boneless chicken skinless thigh, minced garli...</td>\n",
       "    </tr>\n",
       "    <tr>\n",
       "      <th>39773</th>\n",
       "      <td>mexican</td>\n",
       "      <td>[green chile, jalapeno chilies, onions, ground...</td>\n",
       "    </tr>\n",
       "  </tbody>\n",
       "</table>\n",
       "</div>"
      ],
      "text/plain": [
       "           cuisine                                        ingredients\n",
       "39754   vietnamese  [jasmine rice, bay leaves, sticky rice, rotiss...\n",
       "39755       indian  [mint leaves, cilantro leaves, ghee, tomatoes,...\n",
       "39756      mexican  [vegetable oil, cinnamon sticks, water, all-pu...\n",
       "39757        greek  [red bell pepper, garlic cloves, extra-virgin ...\n",
       "39758        greek  [milk, salt, ground cayenne pepper, ground lam...\n",
       "39759       korean  [red chili peppers, sea salt, onions, water, c...\n",
       "39760  southern_us  [butter, large eggs, cornmeal, baking powder, ...\n",
       "39761      chinese  [honey, chicken breast halves, cilantro leaves...\n",
       "39762       indian  [curry powder, salt, chicken, water, vegetable...\n",
       "39763      italian  [fettuccine pasta, low-fat cream cheese, garli...\n",
       "39764      mexican  [chili powder, worcestershire sauce, celery, r...\n",
       "39765       indian  [coconut, unsweetened coconut milk, mint leave...\n",
       "39766        irish  [rutabaga, ham, thick-cut bacon, potatoes, fre...\n",
       "39767      italian  [low-fat sour cream, grated parmesan cheese, s...\n",
       "39768      mexican  [shredded cheddar cheese, crushed cheese crack...\n",
       "39769        irish  [light brown sugar, granulated sugar, butter, ...\n",
       "39770      italian  [kraft zesty italian dressing, purple onion, b...\n",
       "39771        irish  [eggs, citrus fruit, raisins, sourdough starte...\n",
       "39772      chinese  [boneless chicken skinless thigh, minced garli...\n",
       "39773      mexican  [green chile, jalapeno chilies, onions, ground..."
      ]
     },
     "execution_count": 160,
     "metadata": {},
     "output_type": "execute_result"
    }
   ],
   "source": [
    "train_set.replace('light brown sugar', 'brown sugar').tail(20)"
   ]
  },
  {
   "cell_type": "code",
   "execution_count": 221,
   "id": "1eb4a8aa",
   "metadata": {
    "scrolled": false
   },
   "outputs": [
    {
     "data": {
      "text/plain": [
       "['active dry yeast', 'fast-rising active dry yeast']"
      ]
     },
     "execution_count": 221,
     "metadata": {},
     "output_type": "execute_result"
    }
   ],
   "source": [
    "contains('active', unique_ingredients)"
   ]
  },
  {
   "cell_type": "code",
   "execution_count": 185,
   "id": "90c7bdfb",
   "metadata": {},
   "outputs": [],
   "source": [
    "import nltk\n",
    "import os\n",
    "from nltk.tokenize import word_tokenize\n",
    "from nltk.probability import FreqDist\n",
    "#fdist = FreqDist()\n",
    "#word_tokenize(text)"
   ]
  },
  {
   "cell_type": "code",
   "execution_count": 292,
   "id": "7c495c7e",
   "metadata": {},
   "outputs": [],
   "source": [
    "def remove_adj(sentence):\n",
    "    adjective_tags = [\"JJ\", \"JJR\", \"JJS\"]\n",
    "    tokens = nltk.word_tokenize(sentence)\n",
    "    tags = nltk.pos_tag(tokens)\n",
    "    for i in range(len(tags)):\n",
    "        word = [word for word,pos in tags if (pos not in adjective_tags)]\n",
    "    return ' '.join(word)"
   ]
  },
  {
   "cell_type": "code",
   "execution_count": 191,
   "id": "e6f566d3",
   "metadata": {},
   "outputs": [
    {
     "name": "stderr",
     "output_type": "stream",
     "text": [
      "[nltk_data] Downloading package punkt to C:\\Users\\Ronak\n",
      "[nltk_data]     Desai\\AppData\\Roaming\\nltk_data...\n",
      "[nltk_data]   Package punkt is already up-to-date!\n",
      "[nltk_data] Downloading package averaged_perceptron_tagger to\n",
      "[nltk_data]     C:\\Users\\Ronak Desai\\AppData\\Roaming\\nltk_data...\n",
      "[nltk_data]   Unzipping taggers\\averaged_perceptron_tagger.zip.\n"
     ]
    },
    {
     "data": {
      "text/plain": [
       "True"
      ]
     },
     "execution_count": 191,
     "metadata": {},
     "output_type": "execute_result"
    }
   ],
   "source": [
    "nltk.download('punkt')\n",
    "nltk.download('averaged_perceptron_tagger')"
   ]
  },
  {
   "cell_type": "code",
   "execution_count": 212,
   "id": "dc7b85ce",
   "metadata": {},
   "outputs": [
    {
     "data": {
      "text/plain": [
       "'onions'"
      ]
     },
     "execution_count": 212,
     "metadata": {},
     "output_type": "execute_result"
    }
   ],
   "source": [
    "remove_adj('green onions')"
   ]
  },
  {
   "cell_type": "code",
   "execution_count": 213,
   "id": "7ab25dd2",
   "metadata": {},
   "outputs": [],
   "source": [
    "from sklearn.feature_extraction.text import TfidfVectorizer"
   ]
  },
  {
   "cell_type": "code",
   "execution_count": 216,
   "id": "ba2fee54",
   "metadata": {},
   "outputs": [],
   "source": [
    "vectorizer = TfidfVectorizer()\n",
    "x = vectorizer.fit_transform(filtered_popular_ingredients)"
   ]
  },
  {
   "cell_type": "code",
   "execution_count": 220,
   "id": "d583a24e",
   "metadata": {
    "scrolled": true
   },
   "outputs": [
    {
     "name": "stdout",
     "output_type": "stream",
     "text": [
      "  (0, 277)\t0.60635138897985\n",
      "  (0, 83)\t0.5144667007342779\n",
      "  (0, 0)\t0.60635138897985\n",
      "active\n"
     ]
    }
   ],
   "source": [
    "print(x[0])\n",
    "print(vectorizer.get_feature_names()[0])"
   ]
  },
  {
   "cell_type": "code",
   "execution_count": 226,
   "id": "ba45516a",
   "metadata": {},
   "outputs": [
    {
     "ename": "SyntaxError",
     "evalue": "invalid syntax (2974611492.py, line 4)",
     "output_type": "error",
     "traceback": [
      "\u001b[1;36m  Input \u001b[1;32mIn [226]\u001b[1;36m\u001b[0m\n\u001b[1;33m    if word.contains([])\u001b[0m\n\u001b[1;37m                        ^\u001b[0m\n\u001b[1;31mSyntaxError\u001b[0m\u001b[1;31m:\u001b[0m invalid syntax\n"
     ]
    }
   ],
   "source": [
    "def remove_tm(list):\n",
    "    new_list = list.copy()\n",
    "    for word in list:\n",
    "        if word.contains([])\n",
    "        "
   ]
  },
  {
   "cell_type": "code",
   "execution_count": 245,
   "id": "1c601a9b",
   "metadata": {},
   "outputs": [],
   "source": [
    "def gen_basic_words(all_words):\n",
    "    words_list = [[] for _ in range(len(all_words))]\n",
    "    i = 0\n",
    "    for word in all_words:\n",
    "        words_list[i] = contains(word, all_words)\n",
    "        i+=1\n",
    "    #print(words_list)\n",
    "    words_list_v2 = []\n",
    "    for words in words_list:\n",
    "        if len(words)>1:\n",
    "            if is_smallest(words[0], words):\n",
    "                words_list_v2.append(words)\n",
    "    words_list_v3 = ['']*len(words_list_v2)\n",
    "    for i in range(len(words_list_v3)):\n",
    "        words_list_v3[i] = words_list_v2[i][0]\n",
    "    filtered = all_words.copy().tolist()\n",
    "    for word_i in all_words:\n",
    "        for word_j in words_list_v3:\n",
    "            if word_j in word_i:\n",
    "                if word_j != word_i:\n",
    "                    if word_i in filtered:\n",
    "                        filtered.remove(word_i)\n",
    "    return filtered"
   ]
  },
  {
   "cell_type": "code",
   "execution_count": 246,
   "id": "69a2e369",
   "metadata": {},
   "outputs": [],
   "source": [
    "basic_list = gen_basic_words(unique_ingredients)"
   ]
  },
  {
   "cell_type": "code",
   "execution_count": 247,
   "id": "4d34799b",
   "metadata": {},
   "outputs": [
    {
     "name": "stdout",
     "output_type": "stream",
     "text": [
      "5242\n",
      "['(    oz.) tomato sauce', '(   oz.) tomato paste', '(10 oz.) frozen chopped spinach', '(14 oz.) sweetened condensed milk', '(14.5 oz.) diced tomatoes', '(15 oz.) refried beans', '1% low-fat buttermilk', '1% low-fat chocolate milk', '1% low-fat cottage cheese', '1% low-fat milk', '2 1/2 to 3 lb. chicken, cut into serving pieces', '2% low fat cheddar chees', '2% low-fat cottage cheese', '2% lowfat greek yogurt', '2% milk shredded mozzarella cheese', '2% reduced-fat milk', '25% less sodium chicken broth', '33% less sodium cooked deli ham', '33% less sodium cooked ham', '33% less sodium ham', '33% less sodium smoked fully cooked ham', '40% less sodium taco seasoning', '7 up', '8 ounc ziti pasta, cook and drain', '95% lean ground beef', 'a taste of thai rice noodles', 'abalone', 'abbamele', 'absinthe', 'abura age', 'acai juice', 'accent', 'accompaniment', 'achiote', 'acini di pepe', 'ackee', 'acorn squash', 'active dry yeast', 'adobo', 'adzuki beans', 'agar', 'agave nectar', 'agave tequila', 'aged balsamic vinegar', 'aged cheddar cheese', 'aged gouda', 'aged manchego cheese', 'ahi', 'aioli', 'ajinomoto', 'ajwain', 'aka miso', 'alaskan king crab legs', 'alaskan king salmon', 'albacore', 'alcohol', 'ale', 'alfalfa sprouts', 'alfredo sauce', 'all beef hot dogs', 'all potato purpos', 'all purpose seasoning', 'all purpose unbleached flour', 'all-purpose flour', 'allspice', 'almond butter', 'almond extract', 'almond filling', 'almond flour', 'almond liqueur', 'almond meal', 'almond milk', 'almond oil', 'almond paste', 'almond syrup', 'almonds', 'aloe juice', 'alphabet pasta', 'alum', 'amaranth', 'amarena cherries', 'amaretti', 'amaretto', 'amba', 'amber', 'amchur', 'america', 'ammonium bicarbonate', 'amontillado sherry', 'ampalaya', 'anaheim chile', 'anasazi beans', 'ancho', 'and carrot green pea', 'and cook drain pasta ziti', 'and fat free half half', 'andouille chicken sausage', 'andouille sausage', 'andouille turkey sausages', 'angel food cake', 'angel hair', 'angled loofah', 'angostura bitters', 'angus', 'anise', 'anjou pears', 'annatto', 'any', 'aonori', 'apple brandy', 'apple butter', 'apple cider', 'apple jelly', 'apple juice', 'apple pie filling', 'apple pie spice', 'apple puree', 'apple schnapps', 'apple slice', 'apples', 'applewood smoked bacon', 'apricot brandy', 'apricot halves', 'apricot jam', 'apricot jelly', 'apricot nectar', 'apricot preserves', 'apricots', 'aquavit', 'arak', 'arame', 'arbol chile', 'arborio rice', 'arctic char', 'arepa flour', 'argo corn starch', 'arhar', 'armagnac', 'arrow root', 'arrowroot', 'artichok heart marin', 'artichoke bottoms', 'artichoke hearts', 'artichokes', 'artificial sweetener', 'artisan bread', 'arugula', 'asadero', 'asafetida', 'asafoetida', 'asakusa nori', 'ascorbic acid', 'asiago', 'asian', 'asparagus', 'aspic', 'assam', 'assorted fresh vegetables', 'asti spumante', 'atlantic cod fillets', 'atta', 'au jus gravy', 'au jus mix', 'avocado', 'awase miso', 'azteca flour tortillas', 'azuki bean', 'açai', 'baby back ribs', 'baby beets', 'baby bok choy', 'baby broccoli', 'baby carrots', 'baby corn', 'baby eggplants', 'baby gem lettuce', 'baby goat', 'baby greens', 'baby leaf lettuce', 'baby lima beans', 'baby okra', 'baby portobello mushrooms', 'baby potatoes', 'baby radishes', 'baby spinach', 'baby tatsoi', 'baby turnips', 'baby zucchini', 'bacardi', 'back bacon', 'back ribs', 'bacon', 'bacon bits', 'bacon drippings', 'bacon fat', 'bacon grease', 'bacon pieces', 'bacon rind', 'bacon salt', 'bacon slices', 'bacon, crisp-cooked and crumbled', 'bagel chips', 'bagels', 'baguette', 'bai cai', 'baileys irish cream liqueur', 'baked beans', 'baked corn tortilla chips', 'baked ham', 'baked pita chips', 'baked pizza crust', 'baked tortilla chips', 'baking chocolate', 'baking mix', 'baking potatoes', 'baking powder', 'baking soda', 'baking spray', 'baking sugar', 'baking yeast', 'balm', 'balsamic reduction', 'balsamic vinaigrette', 'balsamic vinegar', 'balsamico bianco', 'bamboo shoots', 'banana blossom', 'banana bread', 'banana extract', 'banana flower', 'banana leaves', 'banana liqueur', 'banana peppers', 'banana puree', 'banana squash', 'bananas', 'banger', 'banh hoi', 'banh pho rice noodles', 'baobab fruit powder', 'barbecue rub', 'barbecue sauce', 'barbecue seasoning', 'barbecued pork', 'barilla', 'barley', 'barolo', 'barramundi fillets', 'bartlett pear', 'basa fillets', 'base', 'basil', 'basil dried leaves', 'basil leaves', 'basil mayonnaise', 'basil olive oil', 'basil pesto sauce', 'basmati', 'bass', 'baton', 'batter', 'bawang goreng', 'bay leaf', 'bay leaves', 'bay scallops', 'bbq sauce', 'bbq seasoning', 'bean curd', 'bean dip', 'bean paste', 'bean sauce', 'bean soup', 'bean thread vermicelli', 'bean threads', 'beans', 'beansprouts', 'bear', 'beaten eggs', 'beau monde seasoning', 'beaujolais', 'bechamel', 'bee pollen', 'beef', 'beef boneless meat stew', 'beef bones', 'beef bouillon', 'beef brisket', 'beef broth', 'beef carpaccio', 'beef cheek', 'beef consomme', 'beef deli roast slice thinli', 'beef demi-glace', 'beef drippings', 'beef fillet', 'beef for stew', 'beef gravy', 'beef heart', 'beef hot dogs', 'beef jerky', 'beef kidney', 'beef liver', 'beef marrow', 'beef rib roast', 'beef rib short', 'beef ribs', 'beef roast', 'beef round', 'beef rump', 'beef sausage', 'beef shank', 'beef shin', 'beef shoulder', 'beef sirloin', 'beef smoked sausage', 'beef soup bones', 'beef steak', 'beef stew', 'beef stock', 'beef tenderloin', 'beef tendons', 'beef tongue', 'beefsteak tomatoes', 'beer', 'beet greens', 'beet juice', 'beets', 'belacan', 'belgian endive', 'bell pepper', 'beluga lentil', 'bengal gram', 'bengali 5 spice', 'beni shoga', 'benne seed', 'bermuda onion', 'berries', 'bertolli four chees rosa sauc', 'bertolli organic tradit sauc', 'bertolli tomato & basil sauce', 'bertolli vineyard premium collect marinara with burgundi wine sauc', 'bertolli vodka sauc made with fresh cream', 'bertolli® arrabbiata sauce', 'bertolli® classico olive oil', 'besan (flour)', \"best food's mayonnaise with lime juice\", 'best foods® real mayonnaise', 'betty crocker™ oatmeal cookie mix', 'beurre manié', 'bhaji', 'bhindi', 'bibb lettuce', 'bicarbonate of soda', 'biga', 'bigoli', 'bihon', 'bing cherries', 'bird chile', 'bird pepper', 'biryani masala', 'biscotti', 'biscuit dough', 'biscuit mix', 'biscuits', 'bisquick', 'bitter gourd', 'bitter melon', 'bitters', 'bittersweet chocolate', 'blacan', 'black', 'black bean and corn salsa', 'black bean garlic sauce', 'black bean sauce', 'black bean sauce with garlic', 'black bean stir fry sauce', 'black beans', 'black cardamom pods', 'black cherries', 'black chicken', 'black cod', 'black cumin seeds', 'black forest ham', 'black fungus', 'black garlic', 'black gram', 'black grapes', 'black lentil', 'black mission figs', 'black moss', 'black mushrooms', 'black mustard seeds', 'black olives', 'black onion seeds', 'black pepper', 'black pudding', 'black radish', 'black rice', 'black salt', 'black sesame seeds', 'black tea', 'black treacle', 'black truffle oil', 'black truffles', 'black trumpet mushrooms', 'black turtle beans', 'black vinegar', 'black walnut', 'black-eyed peas', 'blackberries', 'blackberry brandy', 'blackberry jam', 'blackcurrant syrup', 'blackening seasoning', 'blackpepper', 'blackstrap molasses', 'blade steak', 'blanched hazelnuts', 'blanco chees queso', 'blanco tequila', 'blood', 'blue cheese', 'blue corn tortilla chips', 'blue crabs', 'blue curaçao', 'blueberri preserv', 'blueberries', 'blueberry pie filling', 'boar', 'bob evans italian sausage', 'bocconcini', 'boiled eggs', 'boiled ham', 'boiling onions', 'boiling potatoes', 'boiling water', 'bok choy', 'bolillo', 'bologna', 'bone broth', 'bone in', 'bone marrow', 'bone-in chicken', 'bone-in pork chops', 'bone-in ribeye steak', 'bone-in short ribs', 'boned duck breast halves', 'boned lamb shoulder', 'boned skinned duck breast halves', 'boneless beef chuck roast', 'boneless beef rib eye steaks', 'boneless beef short ribs', 'boneless center cut pork chops', 'boneless chicken', 'boneless chop pork', 'boneless chops', 'boneless chuck roast', 'boneless country pork ribs', 'boneless duck breast', 'boneless ham', 'boneless lamb', 'boneless magret duck breast halves', 'boneless moulard duck breast halves', 'boneless pork loin', 'boneless pork shoulder', 'boneless pork tenderloin', 'boneless rib eye steaks', 'boneless salmon fillets', 'boneless sirloin', 'boneless skin on chicken thighs', 'boneless skinless chicken', 'boneless skinless turkey breasts', 'boneless steak', 'boneless turkey breast', 'boneless veal shoulder', 'boneless, skinless chicken breast', 'bonito', 'boquerones', 'borage', 'bordelaise sauce', 'borlotti', 'bosc pears', 'boston butt', 'boston lettuce', 'bottle gourd', 'bottled chili sauce', 'bottled clam juice', 'bottled italian dressing', 'bottled lime juice', 'bottled low sodium salsa', 'bottom round', 'boudin', 'bouillon', 'bouillon cube', 'bouillon granules', 'bouillon powder', 'bouquet', 'bourbon liqueur', 'bourbon whiskey', 'boursin', 'bow-tie pasta', 'bows', 'boy choy', 'boysenberries', 'braeburn apple', 'bragg liquid aminos', 'braggs liquid aminos', 'braising beef', 'braising steak', 'bran flakes', 'branca menta', 'brandy', 'brandy extract', 'branston pickle', 'branzino', 'brats', 'brazil nuts', 'bread', 'bread and butter pickle slices', 'bread and butter pickles', 'bread crumb fresh', 'bread crumbs', 'bread dough', 'bread flour', 'bread machine yeast', 'bread mix', 'bread rolls', 'bread slices', 'bread yeast', 'bread, cut french into loaf', 'bread, cut into italian loaf', 'breadcrumb mix', 'breadfruit', 'breadstick', 'breakfast sausage links', 'breakfast sausages', \"breakstone's sour cream\", 'breakstone’s sour cream', 'breast', 'breast of lamb', 'breasts halves', 'bresaola', 'brewed coffee', 'brewed espresso', 'brewed tea', 'breyers® natural vanilla ice cream', 'brie cheese', 'brill', 'brine', 'brioche', 'brisket', 'broad beans', 'broccoli', 'broccoli florets', 'broccoli rabe', 'broccoli romanesco', 'broccoli slaw', 'broccoli stems', 'broccolini', 'broiler', 'broth', 'brown beech mushrooms', 'brown butter', 'brown cardamom', 'brown chicken stock', 'brown gravy', 'brown hash potato', 'brown lentils', 'brown mushroom', 'brown mustard', 'brown rice', 'brown sauce', 'brown shrimp', 'brown sugar', 'brownie layer', 'brownies', 'browning', 'brussels sprouts', 'bucatini', 'buckwheat', 'budweiser', 'buffalo', 'bulb', 'bulgur', 'bulk italian sausag', 'buns', 'burdock', 'burger buns', 'burger rolls', 'burger style crumbles', 'burgers', 'burgundy', 'burrata', 'burrito seasoning mix', 'burro banana', 'butter', 'butter beans', 'butter cake', 'butter cooking spray', 'butter crackers', 'butter extract', 'butter flavor shortening', 'butter flavor vegetable shortening', 'butter lettuce', 'butter oil', 'butter pecan cake mix', 'butter pecan ice cream', 'butter salt', 'butter-flavored spray', 'butter-margarine blend', 'buttercream frosting', 'buttercup squash', 'butterflied leg of lamb', 'buttermilk', 'buttermilk cornbread', 'buttermilk ranch dressing', 'buttermilk self-rising white cornmeal mix', 'butternut', 'butterscotch chips', 'butterscotch filling', 'butterscotch sauce', 'button mushrooms', 'bâtarde', 'bénédictine', 'cabbage', 'cabernet', 'cacao nibs', 'cacao powder', 'cachaca', 'caciocavallo', 'cactus', 'caesar salad dressing', 'cajeta', 'cajun remoulade', 'cajun seasoning', 'cajun spice mix', 'cajun style stewed tomatoes', 'cajun-creole seasoning mix', 'cake', 'cake flour', 'cake mix', 'cake mix or white yellow', 'cake pound prepar', 'cake yeast', 'calabash', 'calabaza', 'calabrese sausage', 'calamansi', 'calamari', 'calamata olives', 'calf liver', 'california chile', 'calimyrna figs', 'callaloo', 'calvados', 'camellia red kidney beans', 'camembert', 'campanelle', 'campari', \"campbell's condensed cheddar cheese soup\", \"campbell's condensed cream of chicken soup\", \"campbell's condensed cream of mushroom soup\", \"campbell's condensed tomato soup\", 'canadian bacon', 'candied bacon', 'candied cherries', 'candied chestnuts', 'candied citron peel', 'candied fruit', 'candied ginger', 'candied jalapeno', 'candied lemon peel', 'candied orange peel', 'candied peel', 'candied pineapple', 'candlenuts', 'candy', 'cane sugar', 'cane syrup', 'cane vinegar', 'canela', 'canned beans', 'canned chicken', 'canned chipotles', 'canned chopped tomatoes', 'canned coconut milk', 'canned corn', 'canned jalapeno peppers', 'canned low sodium chicken broth', 'canned peas and carrots', 'canned salmon', 'canned snails', 'canned tomatoes', 'canned tuna', 'cannellini beans', 'cannelloni', 'canning salt', 'cannoli shells', 'canola', 'cantal', 'canton noodles', 'capellini', 'caper berries', 'capers', 'capicola', 'capocollo', 'capon', 'cappuccino', 'capsicum', 'cara cara orange', 'carambola', 'caraway', 'carbonated beverages', 'carbonated water', 'cardamom', 'cardamom pods', 'cardamom seeds', 'cardamon', 'cardoons', 'caribbean jerk seasoning', 'carnaroli rice', 'carnation', 'carne asada', 'carne seca', 'carnitas', 'carp', 'carpaccio', 'carrot greens', 'carrot juice', 'carrot sticks', 'carrots', 'cashew butter', 'cashew chop unsalt', 'cashew milk', 'cashew nuts', 'casings', 'cassava', 'cassia cinnamon', 'cassis liqueur', 'castellane', 'castelvetrano olives', 'caster', 'catalina dressing', 'catfish', 'catsup', 'caul fat', 'cauliflower', 'cava', 'cavatappi', 'cavatelli', 'cavenders greek seasoning', 'caviar', 'cavolo nero', 'cayenne', 'ceci bean', 'celery', 'celtic salt', 'center cut bacon', 'center cut loin pork chop', 'center cut pork chops', 'center cut pork loin chops', 'center cut pork roast', 'center-cut salmon fillet', 'century eggs', 'cereal', 'ceylon cinnamon', 'chaat masala', 'chai tea concentrate', 'challa', 'challenge butter', 'chambord', 'champagne', 'chana dal', 'channa dal', 'chanterelle', 'chapati flour', 'chapatti flour', 'char', 'char fillets', 'char siu', 'chard', 'chartreuse liqueur', 'chat masala', 'chateaubriand', 'chayotes', 'cheddar cheese', 'cheddar cheese soup', 'chees fresco queso', 'chees fresh mozzarella', 'chees mozzarella stick', 'cheese', 'cheese cubes', 'cheese curds', 'cheese dip', 'cheese ravioli', 'cheese sauce', 'cheese slices', 'cheese soup', 'cheese spread', 'cheese sticks', 'cheese tortellini', 'chenpi', 'cherries', 'cherry coke', 'cherry gelatin', 'cherry juice', 'cherry peppers', 'cherry pie filling', 'cherry preserves', 'cherry syrup', 'cherry tomatoes', 'cherry vanilla ice cream', 'cherry vinegar', 'cherrystone clams', 'chervil', 'chestnut flour', 'chestnut mushrooms', 'chestnut purée', 'chestnut spread', 'chestnuts', 'chia seeds', 'chianti', 'chicharron', 'chicken', 'chicken and rice soup', 'chicken bones', 'chicken bouillon', 'chicken breast fillets', 'chicken breast halves', 'chicken breast strips', 'chicken breast tenderloins', 'chicken breast tenders', 'chicken breasts', 'chicken broth', 'chicken broth low fat', 'chicken carcass', 'chicken chorizo sausages', 'chicken consomme', 'chicken cutlets', 'chicken demi-glace', 'chicken drumsticks', 'chicken egg', 'chicken feet', 'chicken fillets', 'chicken fingers', 'chicken flavor stuffing mix', 'chicken flavored rice', 'chicken gizzards', 'chicken gravy', 'chicken heart', 'chicken in water', 'chicken leg quarters', 'chicken legs', 'chicken livers', 'chicken meat', 'chicken noodle soup', 'chicken nugget', 'chicken pan drippings', 'chicken parts', 'chicken pieces', 'chicken salad', 'chicken sausage', 'chicken schmaltz', 'chicken stock', 'chicken stock cubes', 'chicken strips', 'chicken tenderloin', 'chicken thigh fillets', 'chicken thighs', 'chicken wing drummettes', 'chicken wingettes', 'chicken wings', 'chicken-apple sausage', 'chicken-flavored soup powder', 'chickpea flour', 'chickpeas', 'chicory', 'chiffonade', 'chihuahua cheese', 'chilcostle chile', 'chile colorado', 'chile con queso', 'chile de arbol', 'chile negro', 'chile paste', 'chile paste with garlic', 'chile pepper', 'chile piquin', 'chile powder', 'chile puree', 'chile sauce', 'chile verde', 'chilegarlic sauce', 'chiles', 'chili', 'chili bean sauce', 'chili beans', 'chili con carne', 'chili flakes', 'chili garlic paste', 'chili habanero pepper', 'chili oil', 'chili paste', 'chili pepper', 'chili powder', 'chili sauce', 'chili seasoning', 'chilled prosecco', 'chilled seltzer', 'chilli bean sauce', 'chilli paste', 'chillies', 'chiltepín', 'chimichurri', 'chinese barbecue sauce', 'chinese black bean', 'chinese buns', 'chinese chives', 'chinese cinnamon', 'chinese duck sauce', 'chinese egg noodles', 'chinese eggplants', 'chinese five-spice powder', 'chinese ginger', 'chinese ham', 'chinese hot mustard', 'chinese jujubes', 'chinese leaf', 'chinese mustard', 'chinese noodles', 'chinese pancakes', 'chinese parsley', 'chinese pea pods', 'chinese pepper', 'chinese plum sauce', 'chinese radish', 'chinese red rice vinegar', 'chinese red vinegar', 'chinese rice vinegar', 'chinese rice wine', 'chinese roast pork', 'chinese rock sugar', 'chinese rose wine', 'chinese sausage', 'chinese sesame paste', 'chinese spinach', 'chinese turnip', 'chinese wheat noodles', 'chinese winter melon', 'chinese wolfberries', 'chinkiang vinegar', 'chioggia', 'chip plain tortilla', 'chipotle', 'chipotle chile', 'chipotle paste', 'chipotle peppers', 'chipotle puree', 'chipotle salsa', 'chipotle sauce', 'chipped beef', 'chips', 'chitterlings', 'chive blossoms', 'chives', 'cho-cho', 'chocolate', 'chocolate baking bar', 'chocolate bars', 'chocolate cake mix', 'chocolate chip cookie dough ice cream', 'chocolate chip cookie mix', 'chocolate chips', 'chocolate chunks', 'chocolate cookie crumbs', 'chocolate covered coffee beans', 'chocolate covered english toffee', 'chocolate curls', 'chocolate drink', 'chocolate extract', 'chocolate flavored liqueur', 'chocolate frosting', 'chocolate fudge ice cream', 'chocolate glaze', 'chocolate graham cracker crumbs', 'chocolate graham crackers', 'chocolate ice cream', 'chocolate instant pudding', 'chocolate leaves', 'chocolate liqueur', 'chocolate milk', 'chocolate milk mix', 'chocolate morsels', 'chocolate mousse', 'chocolate sandwich cookies', 'chocolate sauce', 'chocolate shavings', 'chocolate spread', 'chocolate sprinkles', 'chocolate sticks', 'chocolate syrup', 'chocolate truffle', 'chocolate wafer cookies', 'chocolate-hazelnut spread', 'chocolatecovered espresso beans', 'cholesterol free egg substitute', 'cholula hot sauce', 'chop fine pecan', 'chop green chilies, undrain', 'chopmeat', 'chopped bacon', 'chopped cilantro', 'chopped cooked ham', 'chopped cooked meat', 'chopped fresh chives', 'chopped fresh herbs', 'chopped fresh mint', 'chopped fresh sage', 'chopped fresh thyme', 'chopped garlic', 'chopped green chilies', 'chopped ham', 'chopped hazelnuts', 'chopped leaves', 'chopped nuts', 'chopped onion', 'chopped parsley', 'chopped pecans', 'chopped potatoes', 'chopped tomatoes', 'chopped walnuts', 'chorizo', 'chorizo sausage', 'chorizo spanish', 'chourico', 'chow mein noodles', 'chowchow', 'choy sum', 'chrysanthemum', 'chuck', 'chuck roast', 'chuck short ribs', 'chuck steaks', 'chuck tender', 'chuka soba noodles', 'chunk light tuna in water', 'chunky', 'chuno sauce', 'chutney', 'chèvre', 'cider', 'cider vinegar', 'cilantro', 'cilantro leaves', 'cilantro pesto', 'cilantro root', 'cilantro sprigs', 'cilantro stems', 'cinnamon', 'cinnamon graham crackers', 'cinnamon ice cream', 'cinnamon rolls', 'cinnamon sticks', 'cinnamon sugar', 'cipollini', 'citric acid', 'citron', 'citrus', 'clam juice', 'clam sauce', 'clamato juice', 'clams', 'clams, well scrub', 'clarified butter', 'classico pasta sauce', 'claws', 'clear honey', 'clementine juice', 'clementine sections', 'clementines', 'clotted cream', 'cloud ear fungus', 'clove', 'club soda', 'coarse ground mustard', 'coarse kosher salt', 'coarse salt', 'coarse sea salt', 'coarse semolina', 'coarse sugar', 'coarse-grain salt', 'coca-cola', 'cockles', 'cocktail cherries', 'cocktail pumpernickel bread', 'cocktail sauce', 'coco', 'cocoa', 'coconut', 'coconut aminos', 'coconut butter', 'coconut chips', 'coconut cream', 'coconut extract', 'coconut flakes', 'coconut flour', 'coconut juice', 'coconut meat', 'coconut milk', 'coconut milk powder', 'coconut milk yogurt', 'coconut oil', 'coconut rum', 'coconut sugar', 'coconut syrup', 'coconut vinegar', 'coconut water', 'cod', 'cod cheeks', 'cod fillets', 'cod fish', 'cod roe', 'codfish', 'coffee', 'coffee beans', 'coffee extract', 'coffee granules', 'coffee ice cream', 'coffee liqueur', 'coffee low-fat frozen yogurt', 'cognac', 'cointreau', 'coke', 'coke zero', 'cola', 'cola soft drink', 'cola-flavored carbonated beverage', 'colby cheese', 'colby jack cheese', 'cold coffee', 'cold cut', 'cold meatloaf', 'cold milk', 'cold water', 'cold-smoked salmon', 'cole slaw mix', 'coleslaw', 'collard green leaves', 'collard greens', 'collard leaves', 'collards', \"colman's mustard powder\", 'color food green', 'color food orang', 'comice pears', 'comino', 'compote', 'compressed yeast', 'conch', 'condensed cheddar cheese soup', 'condensed chicken broth', 'condensed cream', 'condensed cream of broccoli soup', 'condensed cream of chicken soup', 'condensed cream of mushroom soup', 'condensed cream of potato soup', 'condensed fiesta nacho cheese soup', 'condensed french onion soup', 'condensed golden mushroom soup', 'condensed milk', 'condensed reduced fat reduced sodium cream of chicken soup', 'condensed reduced fat reduced sodium cream of mushroom soup', 'condensed reduced fat reduced sodium tomato soup', 'condensed soup', 'condensed tomato soup', 'condiments', 'cones', 'confectioners sugar', 'confit', 'conger eel', 'conimex wok olie', 'conimex woksaus specials vietnamese gember knoflook', 'converted rice', 'cook egg hard', 'cooked bacon', 'cooked beetroot', 'cooked brisket', 'cooked chicken', 'cooked deli ham', 'cooked fettuccini', 'cooked ham', 'cooked italian meatballs', 'cooked meat', 'cooked meatballs', 'cooked pumpkin', 'cooked quinoa', 'cooked rice', 'cooked rigatoni', 'cooked shrimp', 'cooked steak', 'cooked turkey', 'cooked vegetables', 'cooked vermicelli', 'cooked white rice', 'cooki vanilla wafer', 'cookie crumbs', 'cookies', 'cooking cream', 'cooking fat', 'cooking liquid', 'cooking oil', 'cooking salt', 'cooking sherry', 'cooking spray', 'cooking wine', 'cool whip', 'coriander', 'corkscrew pasta', 'corn', 'corn bread', 'corn chips', 'corn flakes', 'corn flour', 'corn grits', 'corn husks', 'corn kernel whole', 'corn kernels', 'corn mix muffin', 'corn muffin', 'corn niblets', 'corn oil', 'corn salsa', 'corn starch', 'corn syrup', 'corn tortilla chips', 'corn tortillas', 'corn-on-the-cob', 'cornbread', 'cornbread stuffing mix', 'corned beef', 'cornflake crumbs', 'cornflakes', 'cornflour', 'cornichons', 'cornish game hens', 'cornish hens', 'cornmeal', 'cornstarch noodles', 'cotija', 'cottage cheese', 'coulis', 'country bread', 'country crock calcium plus vitamin d', 'country crock honey spread', 'country crock® spread', 'country gravy', 'country ham', 'country loaf', 'country style bread', 'country style italian bread', 'country white bread', 'couscous', \"cox's orange pippin\", 'crab', 'crab boil', 'crab meat', 'crab sticks', 'crabmeat', 'cracked wheat', 'cracker crumbs', 'cracker meal', 'crackers', 'cranberries', 'cranberry beans', 'cranberry juice', 'cranberry sauce', 'crawfish', 'crayfish', 'cream', 'cream cheese', 'cream ic peach', 'cream of chicken soup', 'cream of coconut', 'cream of mushroom soup', 'cream of potato soup', 'cream of shrimp soup', 'cream of tartar', 'cream of tomato soup', 'cream powder', 'cream sauce', 'cream sherry', 'cream style corn', 'cream style cottage cheese', 'cream sweeten whip', 'cream yogurt', 'creamed coconut', 'creamed horseradish', 'creamed spinach', 'creamer potatoes', 'creamy gravy', 'creamy peanut butter', 'crema', 'creme anglaise', 'creme de cacao', 'cremini', 'creole mustard', 'creole seafood seasoning', 'creole seasoning', 'creole seasoning mix', 'creole spice mix', 'creole style seasoning', 'crepes', 'crescent dinner rolls', 'crescent rolls', 'cress', 'crimini mushrooms', 'crisco', 'crisps', 'crispy bacon', 'croissant dough', 'croissants', 'cross rib roast', 'crosswise', 'crostini', 'crouton italian season', 'croutons', 'crumb crust', 'crumb topping', 'crumbled cheese', 'crumbled cornbread', 'crumbled goat cheese', 'crumbled gorgonzola', 'crumbled ricotta salata cheese', 'crumbles', 'crumbs', 'crumpet', 'crushed cheese crackers', 'crushed garlic', 'crushed graham crackers', 'crushed ice', 'crushed peppercorn', 'crushed pineapple', 'crushed pistachio', 'crushed pretzels', 'crushed red pepper', 'crushed saltines', 'crushed tomatoes', 'crust', 'crusty bread', 'crusty loaf', 'crusty rolls', 'crusty sandwich rolls', 'crusty whole wheat toast', 'crystal farms butter', 'crystal farms reduced fat shredded marble jack cheese', 'crystal farms shredded gouda cheese', 'crystal farms® shredded cheddar cheese', 'crystal hot sauce', 'crystallized ginger', 'crème de cassis', 'crème de framboise', 'crème de menthe', 'crème fraîche', 'cuban peppers', 'cube steaks', 'cubed beef', 'cubed bread', 'cubed ham', 'cubed mango', 'cubed meat', 'cubed pancetta', 'cubed potatoes', 'cubed pumpkin', 'cucumber', 'cucuzza', 'culantro', 'culinary lavender', 'cultured buttermilk', 'cumberland sausage', 'cumin', 'cumin seed', 'cuminseed', 'cummin', 'curaçao', 'curds', 'cured chorizo', 'cured meats', 'cured pork', 'curing salt', 'curly endive', 'curly leaf spinach', 'curly parsley', 'curly-leaf parsley', 'currant', 'currant jelly', 'curry', 'custard', 'cut up chicken', 'cutlet', 'cuttlefish', 'daal', 'daikon', 'dairy free coconut ice cream', 'daisy sour cream', 'daiya', 'dal', 'dandelion', 'dangmyun', 'darjeeling tea leaves', 'dark chicken stock', 'dark chocolate', 'dark crème de cacao', 'dark lager', 'dark leafy greens', 'dark meat', 'dark miso', 'dark molasses', 'dark muscovado sugar', 'dark rum', 'dark rye flour', 'dark sesame oil', 'dark soy', 'dark turkey meat', 'dasheen', 'dashi', 'date molasses', 'date sugar', 'dates', 'day old bread', 'decorating sugars', 'deep dish pie crust', 'deep-fried tofu', 'delallo extra virgin olive oil', 'delallo penne ziti', 'deli ham', 'deli rolls', 'delicata squash', 'demerara sugar', 'demi-glace', 'dende oil', 'dessert wine', 'deveined shrimp', \"devil's food cake mix\", 'deviled ham', 'dhal', 'dhaniya powder', 'diamond crystal® kosher salt', 'diced bacon', 'diced chicken', 'diced green chilies', 'diced ham', 'diced lamb', 'diced mushrooms', 'diced onions', 'diced pimentos', 'diced potatoes', 'diced red onions', 'diced tomatoes', 'diced tomatoes and green chilies', 'diced tomatoes in juice', 'diced tomatoes with garlic and onion', 'diced yellow onion', 'diet dr. pepper', 'digestive biscuit', 'dijon', 'dill', 'dinner rolls', 'dip mix', 'dipping chocolate', 'dipping sauces', 'disco empanada frozen', 'distilled malt vinegar', 'distilled vinegar', 'ditalini', 'do chua', 'doenzang', 'dole seven lettuces', 'doritos', 'doubanjiang', 'double concentrate tomato paste', 'double cream', 'double crust', 'double smoked bacon', 'double-dark soi sauc', 'dough', 'dr pepper', 'dr. pepper', 'dragon fruit', 'drambuie', 'dressing', 'dri fruit tropic', 'dri leav rosemari', 'dri leav thyme', 'dri oregano leaves, crush', 'dri thyme leaves, crush', 'dried apple', 'dried apricot', 'dried barberries', 'dried basil', 'dried beans', 'dried beef', 'dried cascabel chile', 'dried cherry', 'dried chestnuts', 'dried chile', 'dried chipotle pepper', 'dried chives', 'dried cloud ears', 'dried cornhusks', 'dried currants', 'dried fettuccine', 'dried fig', 'dried fish flakes', 'dried fruit', 'dried hibiscus blossoms', 'dried kelp', 'dried kidney beans', 'dried lavender', 'dried leaves oregano', 'dried lentils', 'dried mango', 'dried minced garlic', 'dried minced onion', 'dried mint flakes', 'dried mission figs', 'dried mixed herbs', 'dried mushrooms', 'dried navy beans', 'dried neem leaves', 'dried orange peel', 'dried oregano', 'dried oysters', 'dried pappardelle', 'dried parsley', 'dried pasta', 'dried peach', 'dried pear', 'dried pineapple', 'dried pinto beans', 'dried plum', 'dried porcini mushrooms', 'dried prawns', 'dried raspberry', 'dried red chile peppers', 'dried rice noodles', 'dried rigatoni', 'dried rosemary', 'dried sage', 'dried sardines', 'dried scallops', 'dried shallots', 'dried shiitake mushrooms', 'dried shrimp', 'dried soba', 'dried split peas', 'dried strawberries', 'dried tagliatelle', 'dried tarragon leaves', 'dried tart cherries', 'dried thai chili', 'dried thyme', 'dried tomatoes', 'dried udon', 'dried wood ear mushrooms', 'drippings', 'drum', 'drummettes', 'drumstick', 'dry coconut', 'dry fettuccine', 'dry gin', 'dry hard cider', 'dry jack', 'dry lasagna', 'dry milk powder', 'dry mustard', 'dry pasta', 'dry red wine', 'dry roasted peanuts', 'dry rub', 'dry sherry', 'dry vermouth', 'dry white wine', 'dry yeast', 'duck', 'duck bones', 'duck breast halves', 'duck breasts', 'duck drippings', 'duck drumsticks', 'duck egg', 'duck fat', 'duck liver', 'duck sauce', 'duck stock', 'ducklings', 'dukkah', 'dulce de leche', 'dulong', 'dumpling dough', 'dumpling skins', 'dumpling wrappers', 'dumplings', 'dungeness crabs', 'durum wheat flour', 'duxelles', 'e-fu noodl', 'ear of corn', 'earl grey tea bags', 'earl grey tea leaves', 'ears', 'earth balance buttery spread', 'earth balance natural buttery spread', 'eating apple', 'eau de vie', 'edam', 'edible flowers', 'edible gold leaf', 'eel', 'egg beaters', 'egg bread', 'egg noodles', 'egg noodles, cooked and drained', 'egg pasta', 'egg roll skins', 'egg roll wrappers', 'egg roll wraps', 'egg substitute', 'egg whites', 'egg yolks', \"eggland's best® eggs\", 'eggnog', 'eggplant', 'eggroll wrappers', 'eggs', 'elbow macaroni', 'elbow pasta', 'elderflower cordial', 'elmlea single', 'emerils original essence', 'emmenthal', 'empanada', 'empanada dough', 'empanada wrappers', 'enchilada sauce', 'endive', 'energy drink', 'english breakfast tea', 'english muffins', 'english mustard', 'english toffee bits', 'english walnuts', 'enokitake', 'enriched white rice', 'epazote', 'equal sweetener', 'erythritol', 'escargot', 'escarole', 'espresso', 'espresso beans', 'espresso powder', 'essence', 'essence seasoning', 'estancia pinot noir', 'european style butter', 'evapor low-fat milk', 'evaporated cane juice', 'evaporated low-fat 2% milk', 'evaporated milk', 'evaporated skim milk', 'everglades seasoning', 'extra', 'extra fine granulated sugar', 'extra firm silken tofu', 'extra firm tofu', 'extra large eggs', 'extra large shrimp', 'extra lean ground beef', 'extra lean minced beef', 'extra light olive oil', 'extra sharp cheddar cheese', 'extra sharp white cheddar cheese', 'extra wide egg noodles', 'extra-lean ground beef', 'extra-virgin olive oil', 'extract', 'eye of round roast', 'eye of round steak', 'eye of the round', 'eye steaks', 'fajita seasoning mix', 'fajita size flour tortillas', 'falafel', 'farfalline', 'farina', 'farmer cheese', 'farofa', 'farro', 'fast rising yeast', 'fat', 'fat free cream of mushroom soup', 'fat free frozen top whip', 'fat free greek yogurt', 'fat free ground turkey breast', 'fat free ice cream', 'fat free lemon curd', 'fat free less sodium chicken broth', 'fat free less sodium vegetable broth', 'fat free milk', 'fat free reduced sodium chicken broth', 'fat free whipped topping', 'fat free yogurt', 'fat skimmed chicken broth', 'fat skimmed reduced sodium chicken broth', 'fat-free buttermilk', 'fat-free cheddar cheese', 'fat-free chicken broth', 'fat-free cottage cheese', 'fat-free mayonnaise', 'fat-free parmesan cheese', 'fat-free reduced-sodium chicken broth', 'fat-free refried beans', 'fat-free shredded cheddar cheese', 'fat-trimmed beef flank steak', 'fatback', 'fatfre cream of chicken soup', 'fatfree lowsodium chicken broth', 'fava beans', 'fedelini', 'feet', 'fennel', 'fennel fronds', 'fennel seeds', 'fenugreek', 'fern', 'feta cheese', 'fettuccine pasta', 'fettuccine, cook and drain', 'fettucine', 'fiber one', 'ficelle', 'fideos', 'field lettuce', 'field peas', 'fig jam', 'figs', 'file powder', 'filet', 'filet mignon', 'filipino eggplant', 'fillet medallions', 'fillet of beef', 'fillet red snapper', 'fillet steaks', 'fillets', 'filling', 'filo', 'filé', 'fine egg noodles', 'fine grain salt', 'fine granulated sugar', 'fine grind white cornmeal', 'fine salt', 'fine sea salt', 'finely chopped fresh parsley', 'finely ground coffee', 'fines herbes', 'finger chili', 'fingerling', 'fino sherry', 'fire roasted diced tomatoes', 'firm silken tofu', 'firm tofu', 'fish', 'fish balls', 'fish bones', 'fish broth', 'fish fillets', 'fish fingers', 'fish paste', 'fish sauce', 'fish steaks', 'fish stock', 'fishcake', 'fisher pecan halves', 'fisher pecans', 'five spice', 'five-spice powder', 'flageolet', 'flaked', 'flan', 'flank steak', 'flanken short ribs', 'flat cut', 'flat iron steaks', 'flat leaf parsley', 'flat leaf spinach', 'flatbread', 'flavored oil', 'flavored rice mix', 'flavored syrup', 'flavored tortilla chips', 'flavored vinegar', 'flavored vodka', 'flavored wine', 'flavoring', 'flax egg', 'flax seed meal', 'flax seeds', 'flaxseed', 'fleur de sel', 'flora buttery', 'flora cuisine', 'flora original', 'flora pro.activ', 'florets', 'flounder', 'flour', 'flour for dusting', 'flour tortillas', 'flour tortillas (not low fat)', 'flower petals', 'flowering chives', 'flowering garlic chives', 'focaccia', 'foccacia', 'foie gras', 'fontina', 'food colouring', 'food gel', 'food paste color', 'forest fruit', 'forest mushroom', 'fowl', 'framboise eau-de-vie', 'framboise liqueur', 'frangelico', 'frangipane', 'frankfurters', 'franks', 'free range chicken breasts', 'free range egg', 'free-range chickens', 'free-range eggs', 'fregola', 'french bread', 'french dressing', 'french fri frozen', 'french fried onions', 'french fries', 'french lentils', 'french mustard', 'french onion soup', 'french rolls', 'french sandwich rolls', 'french style sandwich rolls', 'french toast', 'fresca', 'fresh basil', 'fresh bean', 'fresh cheese', 'fresh chevre', 'fresh chicken stock', 'fresh chile', 'fresh chili', 'fresh chives', 'fresh chorizo', 'fresh cilantro', 'fresh cod', 'fresh corn', 'fresh fava bean', 'fresh ginger', 'fresh green bean', 'fresh green peas', 'fresh ham', 'fresh herbs', 'fresh lavender', 'fresh leav spinach', 'fresh lemon', 'fresh lima beans', 'fresh lime', 'fresh marjoram', 'fresh masa', 'fresh mexican cheese', 'fresh mint', 'fresh mozzarella', 'fresh mozzarella balls', 'fresh mushrooms', 'fresh onion', 'fresh orange', 'fresh oregano', 'fresh parmesan cheese', 'fresh parsley', 'fresh parsley leaves', 'fresh pasta', 'fresh peas', 'fresh pineapple', 'fresh poblano pepper', 'fresh pork fat', 'fresh prawn', 'fresh raspberries', 'fresh red chili', 'fresh rosemary', 'fresh sage', 'fresh salmon', 'fresh shiitake mushrooms', 'fresh spinach', 'fresh tarragon', 'fresh thyme', 'fresh thyme leaves', 'fresh tofu', 'fresh tomato salsa', 'fresh tomatoes', 'fresh tuna steaks', 'fresh turmeric', 'fresh udon', 'fresh veget', 'fresh white truffles', 'fresh yeast', 'freshly grated parmesan', 'freshly ground pepper', 'fresno pepper', 'fried eggs', 'fried garlic', 'fried rice', 'fried wonton strips', 'frisee', 'friselle', 'fritos', 'frogs legs', 'fromage blanc', 'fronds', 'frosting', 'frozen banana', 'frozen basil', 'frozen broccoli', 'frozen carrots', 'frozen cherries', 'frozen chopped broccoli', 'frozen chopped spinach', 'frozen chopped spinach, thawed and squeezed dry', 'frozen cod fillets', 'frozen corn', 'frozen fruit', 'frozen garden peas', 'frozen green beans', 'frozen hash browns', 'frozen lemonade concentrate', 'frozen lima beans', 'frozen limeade', 'frozen mango', 'frozen mashed potatoes', 'frozen meatballs', 'frozen mini ravioli', 'frozen mixed berries', 'frozen mixed thawed vegetables,', 'frozen mixed vegetables', 'frozen okra', 'frozen onion rings', 'frozen orange juice concentrate', 'frozen pastry puff sheets', 'frozen peach slices', 'frozen peaches', 'frozen peas', 'frozen peppers and onions', 'frozen petit pois', 'frozen pie crust', 'frozen pizza dough', 'frozen popcorn chicken', 'frozen potatoes', 'frozen pound cake', 'frozen raspberries', 'frozen ravioli', 'frozen seafood', 'frozen spinach', 'frozen spring roll wrappers', 'frozen stir fry vegetable blend', 'frozen strawberries', 'frozen sweet corn', 'frozen sweet peas', 'frozen sweetened raspberries', 'frozen tater tots', 'frozen vegetables', 'frozen whip topping, thaw', 'frozen whipped topping', 'frozen whole kernel corn', 'fructose', 'fruit', 'fruit cocktail', 'fruit filling', 'fruit juice', 'fruit puree', 'fruitcake', 'fry mix', 'fryer chickens', 'fryers', 'frying oil', 'fudge brownie mix', 'fudge cake mix', 'fuji apple', 'full fat coconut milk', 'full fat sour cream', 'full-fat plain yogurt', 'fully cooked ham', 'fully cooked luncheon meat', 'furikake', 'fusilli', 'fuyu persimmons', 'gaeta olives', 'gai lan', 'galanga', 'galliano', 'game', 'ganache', 'garam masala', 'garbanzo bean flour', 'garbanzo beans', 'garbonzo bean', 'garden peas', 'gari', 'garlic', 'garlic and herb seasoning', 'garlic bread', 'garlic chili sauce', 'garlic chives', 'garlic flakes', 'garlic herb feta', 'garlic herb spreadable cheese', 'garlic juice', 'garlic mayonnaise', 'garlic naan', 'garlic oil', 'garlic olive oil', 'garlic paste', 'garlic pepper blend', 'garlic pepper seasoning', 'garlic powder', 'garlic puree', 'garlic salt', 'garlic sauce', 'garlic shoots', 'garnish', 'gelatin', 'gelatin sheet', 'gelato', 'gemelli', 'genmai miso', 'genoa salami', 'genoise', 'george dickel', 'german mustard', 'ghee', 'gherkins', 'giant white beans', 'giardiniera', 'giblet', 'gin', 'ginger', 'ginger juice', 'ginger liqueur', 'ginger paste', 'ginger piece', 'ginger purée', 'ginger root', 'ginger syrup', 'gingerroot', 'gingersnap', 'ginkgo nut', 'ginseng', 'glace cherries', 'glace de viande', 'glass noodles', 'glaze', 'glazed pecans', 'globe eggplant', 'glucose', 'gluten', 'glutinous rice', 'gnocchetti sardi', 'gnocchi', 'goat', 'goat cheese', 'goat milk feta', 'goat s milk cheese', 'gobo root', 'gochugaru', 'goji berries', 'gold medal all purpose flour', 'gold medal flour', 'gold potatoes', 'gold tequila', 'golden beets', 'golden mushroom soup', 'golden raisins', 'golden syrup', 'golden zucchini', 'goma', 'good seasons italian dressing mix', 'goose', 'gorgonzola', 'gorgonzola dolce', 'gouda', 'gourmet garden garlic paste', 'gourmet garden oregano', 'gourmet garden parsley', 'goya extra virgin olive oil', 'goya ground cumin', 'goya hot sauce', 'goya sazon', 'graham cracker crumbs', 'graham cracker crusts', 'graham cracker pie crust', 'graham crackers', 'graham flour', 'grained', 'gram dal', 'gram flour', 'gran marnier', 'grana', 'grand marnier', 'granita', 'granola', 'granular no-calorie sucralose sweetener', 'granular sucrolose sweetener', 'granulated garlic', 'granulated sugar', 'granulated tapioca', 'granulated white sugar', 'grape juice', 'grape leaves', 'grape tomatoes', 'grape vine leaves', 'grapefruit', 'grapes', 'grapeseed oil', 'grappa', 'grass-fed butter', 'grassfed beef', 'grate lime peel', 'grated carrot', 'grated coconut', 'grated gruyère cheese', 'grated horseradish', 'grated jack cheese', 'grated kefalotiri', 'grated lemon peel', 'grated lemon zest', 'grated nutmeg', 'grated orange', 'grated parmesan cheese', 'grated parmesan romano', 'grated pecorino', 'grated romano cheese', 'grating cheese', 'gravenstein apple', 'graviera', 'gravlax', 'gravy', 'gravy granules', 'gravy master', 'gravy mix mushroom', 'gray salt', 'great northern beans', 'greater yam', 'greek dressing', 'greek feta', 'greek seasoning', 'greek seasoning mix', 'greek style plain yogurt', 'greek style seasoning', 'greek yogurt', 'greek-style vinaigrette', 'green beans', 'green bellpepper', 'green cardamom', 'green chile', 'green chilies', 'green figs', 'green garlic', 'green giant whole kernel sweet corn', 'green giant™ sliced mushrooms', 'green gram', 'green grape', 'green leaf lettuce', 'green lentil', 'green mango', 'green olives', 'green onion bottoms', 'green onions', 'green papaya', 'green peas', 'green pepper', 'green pesto', 'green plantains', 'green pumpkin seeds', 'green soybeans', 'green split peas', 'green tea', 'green tomato relish', 'green tomatoes', 'greens', 'gremolata', 'grenadine', 'grill seasoning', 'grilled chicken', 'grissini', 'grit quick', 'grits', 'ground beef', 'ground bison', 'ground cardamom', 'ground cashew', 'ground chicken', 'ground chile', 'ground chuck', 'ground cinnamon', 'ground coffee', 'ground cumin', 'ground espresso', 'ground fennel', 'ground ginger', 'ground hazelnuts', 'ground italian sausage', 'ground lamb', 'ground meat', 'ground mustard', 'ground nutmeg', 'ground nuts', 'ground oregano', 'ground paprika', 'ground peanut', 'ground pecans', 'ground pepper', 'ground peppercorn', 'ground poppy seed', 'ground pork', 'ground red pepper', 'ground roasted sichuan peppers', 'ground rosemary', 'ground round', 'ground sage', 'ground sausage', 'ground sichuan pepper', 'ground sirloin', 'ground sumac', 'ground thyme', 'ground tumeric', 'ground turkey', 'ground turkey breast', 'ground turkey sausage', 'ground turmeric', 'ground veal', 'ground walnuts', 'ground white pepper', 'groundnut', 'grouper', 'gruyere cheese', 'guacamole', 'guajillo', 'guanabana', 'guava', 'guinea hens', 'guinness lager', 'gumbo', 'gyoza', 'habanero', 'habanero chile', 'habanero hot sauce', 'habanero pepper', 'habanero powder', 'habas', 'hachiya', 'haddock', 'hake fillets', 'hakusai', 'half & half', 'halibut', 'halloumi cheese', 'haloumi', 'ham', 'ham hock', 'ham steak', 'hamachi', 'hamburger', 'hand', 'hanger steak', 'hard cheese', 'hard cider', 'hard salami', 'hard shelled clams', 'hard-boiled egg', 'haricot beans', 'haricots verts', 'harissa', 'harusame', 'hash brown', 'hatcho miso', 'havarti', 'hawaiian salt', 'hawaiian sweet rolls', 'hazelnut butter', 'hazelnut flour', 'hazelnut liqueur', 'hazelnut meal', 'hazelnut oil', 'hazelnuts', 'head on shrimp', 'hearts of palm', 'hearts of romaine', 'heavy cream', 'heavy whipping cream', 'heeng', 'heinz chili sauce', 'heinz ketchup', 'heinz tomato ketchup', 'heinz worcestershire sauce', 'heirloom squash', 'heirloom tomatoes', 'helix snails', \"hellmann' or best food light mayonnais\", \"hellmann' or best food real mayonnais\", \"hellmann''s light mayonnaise\", \"hellmann's® real mayonnaise\", 'hemp seeds', 'hen', 'hen of the woods', 'herb cheese', 'herb dressing', 'herb seasoned stuffing', 'herb seasoning', 'herb vinegar', 'herbed goat cheese', 'herbes de provence', 'herbs', 'herbsaint', 'herdez salsa', 'hero rolls', 'herring fillets', 'hibiscus', 'hibiscus flowers', 'hibiscus tea', 'hickory smoke', 'hickory-flavored liquid smoke', 'hidden valley® farmhouse originals italian with herbs dressing', 'hidden valley® original ranch salad® dressing & seasoning mix', 'hidden valley® original ranch® dips mix', 'hidden valley® original ranch® dressing', 'hidden valley® original ranch® light dressing', 'hidden valley® original ranch® spicy ranch dressing', 'hierba santa', 'hijiki', 'hillshire farms low fat sausage', 'himalayan salt', 'hing (powder)', 'hoagi or roll', 'hoagie buns', 'hoagie rolls', 'hoisin sauce', 'hoja santa', 'holland house white wine vinegar', 'hollandaise sauce', 'holy basil', 'homemade chicken broth', 'homemade chicken stock', 'homemade meatballs', 'homemade stock', 'homemade vegetable stock', 'homemade yogurt', 'hominy', 'honey', 'honey glazed ham', 'honey graham crackers', 'honey liqueur', 'honey mustard', 'honey roasted peanuts', 'honey whiskey', 'honey-flavored greek style yogurt', 'honeycomb tripe', 'honeydew', 'honeysuckle white® hot italian turkey sausage links', 'hong kong-style noodles', 'hoop cheese', 'hops', 'horseradish', 'horseradish mustard', 'horseradish root', 'horseradish sauce', 'hot cherry pepper', 'hot chili', 'hot chocolate mix', 'hot dog bun', 'hot dogs', 'hot fudge topping', 'hot italian pork sausage', 'hot italian sausages', 'hot italian turkey sausage', 'hot italian turkey sausage links', 'hot mustard', 'hot pepper', 'hot pork sausage', 'hot red pepper flakes', 'hot salsa', 'hot sauce', 'hot sausage', 'hot smoked paprika', 'hot spanish paprika', 'hot tea', 'hot water', 'hots', 'house seasoning', 'hubbard squash', 'huckleberries', 'huitlacoche', 'hummus', 'hungarian hot paprika', 'hungarian paprika', 'hungarian sweet paprika', 'hyssop', \"i can't believ it' not butter! made with olive oil spread\", \"i can't believe it's not butter!® all purpose sticks\", \"i can't believe it's not butter!® spread\", 'ibarra', 'ic pop', 'ice', 'ice cream', 'ice cream salt', 'ice cubes', 'ice water', 'iceberg', 'iced tea', 'icing', 'idaho potatoes', 'idli', 'ikura', 'imitation seafood', 'indian flat bread', 'indian spice', 'instant banana cream pudding', 'instant butterscotch pudding mix', 'instant coffee', 'instant espresso', 'instant oats', 'instant potato flakes', 'instant pudding mix', 'instant rice', 'instant tapioca', 'instant tea powder', 'instant white rice', 'instant yeast', 'iodized salt', 'irish bacon', 'irish cream liqueur', 'irish oats', 'irish whiskey', 'italian basil', 'italian bread', 'italian cheese', 'italian chicken sausage', 'italian eggplant', 'italian herbs', 'italian loaf', 'italian meatballs', 'italian parsley leaves', 'italian pizza crust', 'italian plum tomatoes', 'italian pork sausage', 'italian rolls', 'italian salad dressing', 'italian sauce', 'italian sausage', 'italian seasoned breadcrumbs', 'italian seasoned diced tomatoes', 'italian seasoning', 'italian style rolls', 'italian style seasoning', 'italian style stewed tomatoes', 'italian tomatoes', 'italian turkey sausage', 'italian turkey sausage links', 'italian vinaigrette', 'italian-style meatballs', 'jack', 'jack cheese', 'jack daniels', 'jackfruit', 'jagermeister liqueur', 'jaggery', 'jalape', 'jalapeno chilies', 'jam', 'jamaica', 'jambon de bayonne', 'jameson whiskey', 'jamon serrano', 'japanese breadcrumbs', 'japanese eggplants', 'japanese mayonnaise', 'japanese mountain yam', 'japanese peanuts', 'japanese pumpkin', 'japanese radish', 'japanese rice', 'japanese soy sauce', 'japanese turnips', 'jarlsberg', 'jasmine', 'jeera', 'jell-o gelatin', 'jelli strawberri', 'jello', 'jelly', 'jerk marinade', 'jerk paste', 'jerk rub seasoning', 'jerk sauce', 'jerk seasoning', 'jerk seasoning mix', 'jicama', 'jimmies', 'jimmy dean all natural regular pork sausage', 'jimmy dean pork sausage', 'johnsonville andouille', 'johnsonville hot & spicy breakfast links', 'johnsonville hot & spicy sausage slices', 'johnsonville mild italian sausage links', 'johnsonville smoked sausage', 'jonshonville® cajun style chicken sausage', 'jose cuervo', 'juice', 'juice concentrate', 'jujube', 'jumbo macaroni shells', 'jumbo pasta shells', 'jumbo shell pasta , cook and drain', 'jumbo shells', 'jumbo shrimp', 'juniper berries', 'kabocha squash', 'kabuli channa', 'kaffir lime', 'kahlua', 'kahlúa', 'kaiser rolls', 'kalamansi juice', 'kalamata', 'kalonji', 'kamaboko', 'kampyo', 'kamut flour', 'kangkong', 'kappa', 'karashi', 'karo', 'kasha', 'kashmiri chile', 'kasseri', 'kasu', 'katakuriko', 'katsuo bushi', 'kecap manis', 'keema', 'kefalotyri', 'kefir', 'kelp', 'kelp noodles', 'kerrygold pure irish butter', 'ketchup', 'ketjap', 'kewpie mayonnaise', 'kewra', 'key lime', 'kha', 'khoa', 'kidney', 'kidney beans', 'kielbasa', 'kikkoman less sodium soy sauce', 'kikkoman oyster sauce', 'kikkoman soy sauce', 'kim chee', 'kim crawford sauvignon blanc', 'kimchi', 'kinchay', 'king crab', 'king crab legs', 'king oyster mushroom', 'king prawns', 'king salmon', 'kingfish', 'kippers', 'kirsch', 'kiwi', 'klondike rose red skin potato', 'knoblauch', 'knockwurst', 'knorr chicken flavor bouillon', 'knorr chicken stock pots', 'knorr chipotl minicub', 'knorr cilantro minicub', 'knorr garlic minicub', 'knorr homestyl stock   beef', 'knorr homestyl stock   chicken', 'knorr italian side   creami garlic shell', 'knorr leek recip mix', 'knorr onion minicubes', 'knorr parslei minicub', 'knorr pasta side', 'knorr reduc sodium chicken flavor bouillon', 'knorr rice side   cheddar broccoli', 'knorr tomato bouillon with chicken flavor', 'knorr® fiesta sides spanish rice', 'knorr® fiesta sides™ - mexican rice', 'knorr® pasta sides™ - alfredo', 'knorr® pasta sides™ - butter & herb', 'knorr® pasta sides™ - chicken flavor', 'knorr® vegetable recipe mix', 'knox unflavored gelatin', 'knudsen 2% milkfat low fat cottage cheese', 'knudsen light sour cream', 'knudsen sour cream', 'kochu chang', 'kochujang', 'kohlrabi', 'kokum', 'komatsuna', 'konbu', 'konnyaku', 'korean chile', 'korean vermicelli', 'korma paste', 'kosher salt', 'kosher wine', 'kraft big slice pepper jack cheese slices', 'kraft mayonnaise', 'kraft mexican style 2% milk finely shredded four cheese', 'kraft mexican style finely shredded four cheese', 'kraft mexican style shredded four cheese with a touch of philadelphia', 'kraft miracle whip dressing', 'kraft original barbecue sauce', 'kraft reduced fat shredded mozzarella cheese', 'kraft sharp cheddar cheese', 'kraft shredded cheddar cheese', 'kraft shredded colby & monterey jack cheese', 'kraft shredded low-moisture part-skim mozzarella cheese', 'kraft shredded mozzarella cheese', 'kraft shredded pepper jack cheese', 'kraft slim cut mozzarella cheese slices', 'kraft sun dried tomato vinaigrette', 'kraft zesty italian dressing', 'kraft zesty lime vinaigrette dressing', 'kumquats', 'kung pao sauce', 'lady fingers', 'ladyfingers', 'lager', 'laksa paste', 'lamb', 'lamb breast', 'lamb chops', 'lamb cubes', 'lamb cutlet', 'lamb fillet', 'lamb for stew', 'lamb kidneys', 'lamb leg', 'lamb loin', 'lamb neck', 'lamb racks', 'lamb rib chops', 'lamb rib roast', 'lamb sausage', 'lamb seasoning', 'lamb shanks', 'lamb shoulder', 'lamb shoulder chops', 'lamb steaks', 'lamb stew meat', 'lamb stock', 'lamb strips', 'lambrusco', 'lambs liver', 'land o lakes® butter', 'langoustines', 'lap cheong', 'lapsang', 'lard', 'lardons', 'large curd cottage cheese', 'large eggs', 'large flour tortillas', 'large marshmallows', 'large sausage casing', 'large shrimp', 'large snails', 'large tomato', 'lasagna noodles', 'lasagna sheets', 'lasagne', 'laurel leaves', 'lavash', 'lavender', 'lavender buds', 'lavender flowers', 'lavender honey', 'lea & perrins worcestershire sauce', 'leaf lettuce', 'leaf parsley', 'lean bacon', 'lean beef', 'lean chuck roast', 'lean ground beef', 'lean ground turkey', 'lean minced beef', 'lean minced lamb', 'lean steak', 'leaves', 'lecithin', 'leek tops', 'leeks', 'leftover gravy', 'leftover meat', 'leftover steak', 'leg of lamb', 'leg of veal', 'leg quarters', 'legumes', 'lemon', 'lemon cake mix', 'lemon curd', 'lemon dressing', 'lemon extract', 'lemon grass', 'lemon juice', 'lemon lime beverage', 'lemon olive oil', 'lemon peel', 'lemon pepper', 'lemon pudding', 'lemon rind', 'lemon slices', 'lemon soda', 'lemon thyme', 'lemon twists', 'lemon verbena', 'lemon vodka', 'lemon wedge', 'lemon zest', 'lemon-lime soda', 'lemonade', 'lemonade concentrate', 'lemongrass', 'lentilles du puy', 'lentils', 'less sodium chicken broth', 'less sodium fat free chicken broth', 'less sodium mushroom flavored soy sauce', 'less sodium reduced fat ham', 'less sodium soy sauce', 'lettuce', 'lettuce leaves', 'levain bread', 'licor 43', 'licorice root', 'light brown muscavado sugar', 'light butter', 'light chicken stock', 'light coconut milk', 'light cream', 'light kidney beans', 'light lager', 'light margarine', 'light mayonnaise', 'light molasses', 'light pancake syrup', 'light red kidney beans', 'light rum', 'light sour cream', 'light soy sauce', 'light tuna', 'light tuna packed in olive oil', 'light whipping cream', 'lillet', 'lily buds', 'lily flowers', 'lima beans', 'lime', 'lime juice', 'lime leaves', 'lime peel', 'lime rind', 'lime slices', 'lime wedges', 'lime zest', 'limeade', 'limeade concentrate', 'limoncello', 'lingcod', 'linguica', 'linguine', 'linguine, cook and drain', 'linguini', 'linguisa', 'links', 'lipton onion soup mix', 'lipton recip secret golden onion soup mix', 'lipton tea bags', 'lipton® recipe secrets® onion soup mix', 'liqueur', 'liquid', 'liquid aminos', 'liquid egg substitute', 'liquid honey', 'liquid smoke', 'liquid sweetener', 'liquor', 'lite coconut milk', 'littleneck clams', 'liver', 'liver pate', 'liver sausage', 'liverwurst', 'lo bok', 'lo mein noodles', 'loaves', 'lobster', 'loin', 'loin pork chops', 'loin pork roast', 'london broil', 'long beans', 'long buns', 'long grain and wild rice mix', 'long grain white rice', 'long green', 'long pasta', 'long pepper', 'long-grain rice', 'longan', 'lop chong', 'lotus leaves', 'lotus roots', 'lotus seed paste', 'lotus seeds', 'louisiana hot sauce', 'low fat cream', 'low fat graham cracker crumbs', 'low fat low sodium chicken broth', 'low fat mild italian turkey sausage', 'low fat monterey jack cheese', 'low fat mozzarella', 'low fat part skim ricotta chees', 'low fat plain yoghurt', 'low fat reduced sodium pasta sauce', 'low fat shred cheddar chees sharp varieti', 'low fat tortilla chip', 'low moisture mozzarella', 'low salt chicken broth', 'low sodium 96% fat free ham', 'low sodium broth', 'low sodium chicken', 'low sodium chicken broth', 'low sodium chicken stock', 'low sodium chili sauce', 'low sodium diced tomatoes', 'low sodium fat free vegetable broth', 'low sodium low fat pasta sauce', 'low sodium low fat vegetable broth', 'low sodium parmesan cheese', 'low sodium pinto beans', 'low sodium salt', 'low sodium soy sauce', 'low sodium stock', 'low sodium store bought chicken stock', 'low sodium taco seasoning', 'low sodium teriyaki sauce', 'low sodium tomato', 'low sodium vegetable broth', 'low sodium vegetable juice', 'low sodium vegetable stock', 'low sodium worcestershire sauce', 'low-fat buttermilk', 'low-fat caesar dressing', 'low-fat cheddar', 'low-fat cheese', 'low-fat chicken broth', 'low-fat coconut milk', 'low-fat cottage cheese', 'low-fat deli ham', 'low-fat feta', 'low-fat firm silken tofu', 'low-fat flour tortillas', 'low-fat goat cheese', 'low-fat greek yogurt', 'low-fat marinara sauce', 'low-fat mayonnaise', 'low-fat milk', 'low-fat monterey jack', 'low-fat mozzarella cheese', 'low-fat natural yogurt', 'low-fat parmesan cheese', 'low-fat pasta sauce', 'low-fat plain greek yogurt', 'low-fat plain yogurt', 'low-fat refried beans', 'low-fat ricotta', 'low-fat salad dressing', 'low-fat sesame-ginger dressing', 'low-fat sharp cheddar cheese', 'low-fat shredded cheddar cheese', 'low-fat smoked sausage', 'low-fat soft goat cheese', 'low-fat sour cream', 'low-fat soy milk', 'low-fat spaghetti sauce', 'low-fat sweetened condensed milk', 'low-fat tartar sauce', 'low-fat vanilla ice cream', 'low-fat vanilla wafers', 'low-fat vanilla yogurt', 'low-fat vegetable primavera spaghetti sauce', 'low-fat vegetarian chili with beans', 'low-fat white sauce', 'low-fat yogurt', 'lower sodium chicken broth', 'lower sodium soy sauce', 'lowfat pepper jack cheese', 'lowfat plain greekstyl yogurt', 'lox', 'luke warm water', 'lumpia skins', 'lumpia wrappers', 'luncheon meat', 'lychees', 'maca powder', 'macadamia nuts', 'macaroni', 'macaroni and cheese dinner', 'macarons', 'mace', 'mackerel', 'madagascar bourbon vanilla extract', 'madeira', 'madeleine', 'mae ploy sweet chili sauce', 'maggi', 'mahlab', 'maida flour', 'maifun', 'maitake mushrooms', 'makers mark whisky', 'maldon sea salt', 'malt', 'malt powder', 'malt syrup', 'malt vinegar', 'malted milk powder', 'maltose', 'manchego cheese', 'mandarin juice', 'mandarin orange juice', 'mandarin orange segments', 'mandarin oranges', 'mandarin pancakes', 'mango', 'mango juice', 'mango nectar', 'mango salsa', 'manicotti', 'manioc flour', 'manischewitz matzo meal', 'manischewitz potato starch', 'manouri', 'mantou', 'manzanilla', 'maple extract', 'maple flavored extract', 'maple sugar', 'maple syrup', 'maraschino', 'margarine', 'margarine spread', 'margarita mix', 'margarita salt', 'margherita pepperoni', 'marinade', 'marinara sauce', 'marjoram', 'marjoram leaves', 'marmalade', 'marmite', 'marrons', 'marrow', 'marrow bones', 'marsala wine', 'marshmallow creme', 'marshmallow fluff', 'marshmallow vodka', 'marshmallows', 'marzipan', 'masa', 'masa dough', 'masa harina', 'masago', 'masala', 'mascarpone', 'mashed banana', 'mashed potatoes', 'masoor dal', 'masur dal', 'matcha', 'matsutake mushrooms', 'mature cheddar', 'matzo cake meal', 'matzo meal', 'matzos', 'maui onion', 'mayonaise', 'mazola® chicken flavor bouillon powder', 'mccormick ground cumin', 'mccormick parsley flakes', 'mccormick poppy seed', 'mccormick taco seasoning', 'mccormick® pure vanilla extract', 'meal', 'meat', 'meat bones', 'meat cuts', 'meat drippings', 'meat extract', 'meat fats', 'meat filling', 'meat glaze', 'meat loaf mix', 'meat marinade', 'meat sauce', 'meat seasoning', 'meat stock', 'meat tenderizer', 'meat-filled tortellini', 'meatballs', 'meatloaf', 'medium cheddar cheese', 'medium egg noodles', 'medium eggs', 'medium firm tofu', 'medium potatoes', 'medium salsa', 'medium shrimp', 'medium tomatoes', 'medium whole wheat tortillas', 'medium zucchini', 'medium-grain rice', 'medjool date', 'mein', 'melba toast', 'melissa', 'mellow white miso', 'melon', 'melon liqueur', 'melted butter', 'melted fat', 'mentaiko', 'mentsuyu', 'merguez sausage', 'meringue', 'merlot', 'merluza', 'mesclun', 'mesquite flavored seasoning mix', 'mesquite seasoning', 'methi', 'methi leaves', 'mexican cheese', 'mexican cheese blend', 'mexican chocolate', 'mexican chorizo', 'mexican cooking sauce', 'mexican oregano', 'mexican seasoning mix', 'mexican style 4 cheese blend', 'mexican vanilla extract', 'mexicorn', 'meyer lemon', 'mezcal', 'mi', 'mian', 'microgreens', 'mie', 'mild cheddar cheese', 'mild italian sausage', 'mild olive oil', 'mild pork sausage', 'mild salsa', 'mild sausage', 'milk', 'milk & cream', 'milk chocolate', 'milkfish', 'millet', 'min', 'minced beef', 'minced chicken', 'minced garlic', 'minced ginger', 'minced meat', 'minced onion', 'minced peperoncini', 'minced pork', 'mincemeat', 'mineral water', 'mini chocolate chips', 'mini m&ms', 'mini marshmallows', 'mini pepperoni slices', 'mini phyllo dough shells', 'miniature chocolate chips', 'miniature semisweet chocolate chips', 'mint', 'mint chocolate chip ice cream', 'mint extract', 'mint leaves', 'mint sauce', 'mint sprigs', 'mint syrup', 'minute rice', 'minute steaks', 'minute white rice', 'mirin', 'mirlitons', 'miso', 'miso paste', 'miso sesame grilling sauce', 'mission figs', 'miswa', 'mitsuba', 'mixed fruit', 'mixed greens', 'mixed mushrooms', 'mixed nuts', 'mixed peel', 'mixed seafood', 'mixed spice', 'mixed vegetables', 'mizkan rice vinegar', 'mizuna', 'mo hanh', 'mo qua', 'mochi', 'mojo marinade', 'molasses', 'mole paste', 'mole poblano', 'mole sauce', 'monkfish', 'monterey jack', 'montreal steak seasoning', 'mooli', 'moong dal', 'moonshine', 'moose', 'morcilla', 'morel', 'moroccan seasoning', 'morsels', 'mortadella', 'morton salt', 'mostaccioli', 'mostarda', 'mountain dew soda', 'mousse', 'mozzarella balls', 'mozzarella cheese', 'mozzarella string cheese', 'mrs. dash', 'msg', 'muenster', 'muesli', 'muffin', 'muffin mix', 'mullet', 'multi-grain penne pasta', 'mung bean noodles', 'mung bean sprouts', 'mung bean vermicelli', 'mung beans', 'muscadet', 'muscadine grapes', 'muscat', 'muscovado sugar', 'muscovy', 'mushroom broth', 'mushroom caps', 'mushroom powder', 'mushroom soup', 'mushroom soy sauce', 'mushrooms', 'mussels', 'mustard', 'mustard greens', 'mustard oil', 'mustard powder', 'mustard sauce', 'mustard seeds', 'mutton', 'myzithra', 'naan', 'nacho cheese tortilla chips', 'nacho chips', 'nakano seasoned rice vinegar', 'nam pla', 'nam prik', 'nama shoyu', 'nashi', 'natto', 'natural peanut butter', 'natural pistachios', 'natural sugar', 'natural yogurt', 'navel oranges', 'navy beans', 'neapolitan ice cream', 'nectarines', 'nestle table cream', 'neufchâtel', 'neutral oil', 'new mexico chile pods', 'new potatoes', 'new york strip steaks', 'new york style panetini® toasts', 'ngo gai', 'nian gao', 'nido milk powder', 'nielsen-massey vanilla extract', 'nigari tofu', 'nigella seeds', 'nilla wafers', 'niçoise olives', 'no salt added chicken broth', 'no-calorie sweetener', 'no-salt-added diced tomatoes', 'non dairy milk', 'non dairy sour cream', 'non dairy yogurt', 'non fat chicken stock', 'non stick spray', 'non-dairy margarine', 'non-fat sour cream', 'nondairy whipped topping', 'nonfat buttermilk', 'nonfat chicken broth', 'nonfat cottage cheese', 'nonfat dried milk', 'nonfat dry milk', 'nonfat frozen yogurt', 'nonfat greek yogurt', 'nonfat half-and-half', 'nonfat italian dressing', 'nonfat mayonnaise', 'nonfat milk', 'nonfat mozzarella cheese', 'nonfat plain greek yogurt', 'nonfat powdered milk', 'nonfat ricotta cheese', 'nonfat sweetened condensed milk', 'nonfat vanilla frozen yogurt', 'nonfat vanilla yogurt', 'nonfat yogurt', 'nonhydrogenated margarine', 'nonpareils', 'nonstick spray', 'noodles', 'nopalitos', 'nori', 'nori flakes', 'nori paper', 'nori sheets', 'nuoc cham', 'nuoc mam', 'nuoc nam', 'nut meal', 'nut oil', 'nutella', 'nutmeg', 'nutritional yeast', 'nuts', 'oat bran', 'oat flour', 'oat groats', 'oat milk', 'oatmeal', 'oats', 'ocean perch', 'octopuses', 'ogura-an', 'oil', 'oil cured olives', 'oil of orange', 'okra', 'okra pods', 'old bay blackened seasoning', 'old bay seasoning', 'old el paso flour tortillas', 'old el paso taco seasoning mix', 'old el paso™ refried beans', 'old el paso™ taco seasoning mix', 'old fashioned stone ground grits', 'old ginger', 'old-fashioned oatmeal', 'old-fashioned oats', 'oleo', 'oliv pit ripe', 'olive oil', 'olive oil cooking spray', 'olive oil flavored cooking spray', 'olive oil mayonnaise', 'olive oil spray', 'olive tapenade', 'olives', 'oloroso sherry', 'one third less sodium chicken broth', 'onion flakes', 'onion gravy', 'onion powder', 'onion rings', 'onion salt', 'onion slices', 'onion soup', 'onion soup mix', 'onion tops', 'onions', 'opo squash', 'orange', 'orange bitters', 'orange blossom extract', 'orange blossom honey', 'orange extract', 'orange flavored brandy', 'orange flower water', 'orange glaze', 'orange juice', 'orange juice concentrate', 'orange liqueur', 'orange peel', 'orange pekoe tea', 'orange rind', 'orange roughy', 'orange segments', 'orange slices', 'orange soda', 'orange zest', 'orchid', 'orecchiette', 'oregano', 'oregano leaves', 'oreo® cookies', 'organic butter', 'organic chicken', 'organic coconut milk', 'organic granulated sugar', 'organic low sodium chicken broth', 'organic milk', 'organic soy sauce', 'organic sugar', 'organic tomato', 'organic unsalted butter', 'organic vegetable broth', 'organic vegetable stock', 'orgeat syrup', 'oriental radish', 'ortega tostada shells', 'orzo', 'oscar mayer bacon', 'oscar mayer cotto salami', 'oscar mayer deli fresh smoked ham', 'other', 'ouzo', 'ox tongue', 'oxtails', 'oyster mushrooms', 'oyster sauce', 'oyster-flavor sauc', 'oysters', 'paccheri', 'pace picante sauce', 'padron peppers', 'paella rice', 'pain au levain', 'pak choi', 'palm oil', 'palm sugar', 'palm vinegar', 'pam cooking spray', 'pam no-stick cooking spray', 'pan drippings', 'pancake', 'pancake mix', 'pancetta', 'pancetta slices', 'panch phoran', 'pancit', 'pandan essence', 'pandan extract', 'pandanus leaf', 'pane di casa', 'paneer', 'panela', 'panettone', 'pangasius', 'panko', 'panko breadcrumbs', 'pansies', 'papad', 'papalo', 'papaya', 'pappadams', 'pappardelle', 'pappardelle pasta', 'paprika', 'paprika paste', 'paratha', 'parboiled rice', 'pareve margarine', 'parma ham', 'parmagiano reggiano', 'parmesan cheese', 'parmigiana-reggiano', 'parmigiano', 'parsley', 'parsley flakes', 'parsley leaves', 'parsley root', 'parsley sprigs', 'parsnips', 'part-skim mozzarella', 'part-skim mozzarella cheese', 'part-skim ricotta cheese', 'pasilla', 'passata', 'passion fruit', 'passover wine', 'pasta', 'pasta rotel', 'pasta sauce', 'pasta shapes', 'pasta sheets', 'pasta shell small', 'pasta shells', 'pasta spiral', 'pasta wagon wheel', 'pasta water', 'paste tomato', 'pastina', 'pastis', 'pastry', 'pastry cream', 'pastry dough', 'pastry flour', 'pastry shell', 'pastry tart shell', 'patis', 'pattypan squash', 'pea eggplants', 'pea pods', 'pea shoots', 'peach juice', 'peach nectar', 'peach pie filling', 'peach preserves', 'peach purée', 'peach salsa', 'peach schnapps', 'peach slices', 'peach sorbet', 'peach vodka', 'peaches', 'peaches in heavy syrup', 'peaches in light syrup', 'peaches in syrup', 'peanut brittle', 'peanut butter', 'peanut butter chips', 'peanut oil', 'peanut powder', 'peanut sauce', 'peanuts', 'peapods', 'pear juice', 'pear nectar', 'pear tomatoes', 'pearl onions', 'pearl rice', 'pearl tapioca', 'pears', 'peas', 'peasant bread', 'pecan halves', 'pecan meal', 'pecan pie', 'pecans', 'pecorino cheese', 'pecorino romano cheese', 'pectin', 'peeled diced tomatoes', 'peeled prawns', 'peeled shrimp', 'peeled tomatoes', 'pekin duck breast halves', 'penn pasta, cook and drain', 'penne', 'penne pasta', 'penne rigate', 'peperoncini', 'peperoncino', 'pepitas', 'peppadews', 'pepper', 'pepper cheese', 'pepper flakes', 'pepper jack', 'pepper leaves', 'pepper sauce', 'peppercorns', 'peppered bacon', 'pepperidge farm puff pastry', 'peppermint', 'peppermint schnapps', 'pepperocini', 'pepperoncini', 'pepperoni', 'pepperoni slices', 'pepperoni turkei', 'perch fillets', 'perciatelli', 'perilla', 'pernod', 'persimmon', 'pesto', 'pesto sauce', 'petite peas', 'petits pois', 'pheasant', 'philadelphia cooking creme', 'phyllo', 'phyllo dough', 'phyllo pastry', 'picante sauce', 'picholine', 'pickapeppa sauce', 'pickle juice', 'pickle relish', 'pickle spears', 'pickle wedges', 'pickled beets', 'pickled carrots', 'pickled garlic', 'pickled jalapeno peppers', 'pickled jalapenos', 'pickled okra', 'pickled onion', 'pickled radish', 'pickled vegetables', 'pickles', 'pickling liquid', 'pickling salt', 'pickling spices', 'pico de gallo', 'pie crust', 'pie crust mix', 'pie dough', 'pie filling', 'pie pastry', 'pie shell', 'piecrust', 'pierogi', 'pies', 'pig', 'pike', 'pillsbury pie crusts', 'pillsbury thin pizza crust', 'pillsbury™ classic pizza crust', 'pillsbury™ crescent recipe creations® refrigerated seamless dough sheet', 'piloncillo', 'pilsner', \"piment d'espelette\", 'piment despelette', 'pimento stuffed green olives', 'pimento stuffed olives', 'pimenton', 'pimentos', 'pina colada mix', 'pineapple', 'pineapple chunks', 'pineapple preserves', 'pineapple rings', 'pineapple salsa', 'pineapple syrup', 'pinenuts', 'pinhead oatmeal', 'pink beans', 'pink food coloring', 'pink lady apple', 'pink lentil', 'pink peppercorns', 'pink salmon', 'pink salt', 'pinot blanc', 'pinot grigio', 'pinot noir', 'pinto beans', 'piquillo peppers', 'piri-piri sauce', 'pisco', 'pistachio nuts', 'pistachios', 'pistou', 'pita bread', 'pita chips', 'pita loaves', 'pita pockets', 'pita rounds', 'pita wedges', 'pita wraps', 'pitas', 'pitted cherries', 'pitted date', 'pitted green olives', 'pitted olives', 'pitted prunes', 'pizza crust', 'pizza crust mix', 'pizza doughs', 'pizza sauce', 'pizza seasoning', 'pizza shells', 'pizza toppings', 'plain breadcrumbs', 'plain chocolate', 'plain dry bread crumb', 'plain flour', 'plain low fat greek yogurt', 'plain seltzer', 'plain soy yogurt', 'plain whole-milk yogurt', 'plain yogurt', 'plantains', 'plum jam', 'plum sauce', 'plum tomatoes', 'plum wine', 'plums', 'poblano', 'poblano chilies', 'poblano peppers', 'pocket bread', 'poha', 'poi', 'pointed peppers', 'poire williams', 'polenta', 'polish sausage', 'pollock', 'pomelo', 'pompano fillets', 'ponzu', 'poolish', 'popcorn', 'popcorn chicken', 'poppadoms', 'popped popcorn', 'poppy seed dressing', 'poppy seed filling', 'poppy seeds', 'poppyseeds', 'porcini', 'porcini powder', 'pork', 'pork and beans', 'pork back ribs', 'pork belly', 'pork bones', 'pork butt', 'pork cheeks', 'pork chops', 'pork chops, 1 inch thick', 'pork country-style ribs', 'pork cubes', 'pork cutlets', 'pork fillet', 'pork heart', 'pork hocks', 'pork lard', 'pork leg', 'pork liver', 'pork loin', 'pork loin chops', 'pork loin rib chops', 'pork meat', 'pork neck', 'pork picnic roast', 'pork rib chops', 'pork ribs', 'pork rind', 'pork roast', 'pork roll', 'pork rub', 'pork sausage casing', 'pork sausage links', 'pork sausages', 'pork shanks', 'pork shoulder', 'pork shoulder butt', 'pork shoulder roast', 'pork sirloin', 'pork spare ribs', 'pork spareribs', 'pork stew meat', 'pork stock', 'pork tail', 'pork tenderloin', 'pork tenderloin medallions', 'pork tongue', 'porridge oats', 'port', 'port wine', 'portabello mushroom', 'porter', 'portobello caps', 'portuguese rolls', 'posole', 'pot pie', 'pot roast', 'pot stickers', 'potato bread', 'potato chips', 'potato flakes', 'potato flour', 'potato nuggets', 'potato rolls', 'potato starch', 'potato starch flour', 'potatoes', \"potatoes o'brien\", 'potsticker wrappers', 'poultry', 'pound cake', 'pound cake mix', 'poundcake', 'poured fondant', 'poussins', 'powdered buttermilk', 'powdered garlic', 'powdered gelatin', 'powdered milk', 'powdered sugar', 'powdered turmeric', 'powdered vanilla pudding mix', 'pozole', 'praline', 'prawns', 'prepar pesto', 'prepar salsa', 'prepared horseradish', 'prepared lasagne', 'prepared mustard', 'prepared pasta sauce', 'prepared pie crusts', 'prepared pizza crust', 'preserv raspberri seedless', 'preserved lemon', 'preserves', 'pressed tofu', 'prime rib', 'processed cheese', 'progresso balsamic vinegar', 'progresso diced tomatoes', 'progresso reduced sodium chicken broth', 'progresso™ chicken broth', 'promise buttery spread', 'prosciutto', 'proscuitto', 'prosecco', 'protein powder', 'provolone cheese', 'prune juice', 'prune puree', 'prunes', 'psyllium husks', 'pudding', 'pudding powder', 'puff paste', 'puff pastry', 'puff pastry cups', 'puff pastry sheets', 'puffed rice', 'pullman loaf', 'pummelo', 'pumpernickel', 'pumpernickel bread', 'pumpkin', 'pumpkin pie spice', 'pumpkin purée', 'pumpkin seed mole', 'pumpkin seed oil', 'pumpkin seeds', 'pumpkinseed kernels', 'pure acai puree', 'pure olive oil', 'pure vanilla', 'pure vanilla extract', 'pure wesson vegetable oil', 'purple grapes', 'purple onion', 'purple potatoes', 'puy lentils', 'pâte brisée', 'pâté', 'quahog clams', 'quail', 'quatre épices', 'queso anejo', 'queso blanco', 'queso fresco', 'queso manchego', 'quick oats', 'quick yeast', 'quick-cooking oats', 'quick-cooking tapioca', 'quickcooking grits', 'quince paste', 'quinces', 'quinoa', 'quinoa flour', \"quorn chik''n tenders\", 'quorn crumbles', 'rabbit', 'rack of lamb', 'raclette', 'radicchio', 'radish slices', 'radish sprouts', 'radishes', 'ragu', 'ragu cheesi classic alfredo sauc', 'ragu cheesi doubl cheddar sauc', 'ragu old world style pasta sauc', 'ragu old world style sweet tomato basil pasta sauc', 'ragu old world style tradit pasta sauc', 'ragu pizza quick sauc', 'ragu sauce', 'ragu traditional sauce', 'ragu® robusto!® pasta sauce', 'rainbow trout', 'raisin bread', 'raisins', 'raita', 'rajma', 'raki', 'ramen', 'ramps', 'ranch dip', 'ranch dressing', 'ranch salad dressing mix', 'ranch style beans', 'ranch-style seasoning', 'rape', 'rapeseed oil', 'rapid rise yeast', 'ras el hanout', 'raspberries', 'raspberry fruit spread', 'raspberry jam', 'raspberry juice', 'raspberry lambic', 'raspberry liqueur', 'raspberry preserves', 'raspberry puree', 'raspberry sauce', 'raspberry sherbet', 'raspberry vinegar', 'ratatouille', 'ravioli', 'ravva', 'raw almond', 'raw cashews', 'raw honey', 'raw milk', 'raw pistachios', 'raw prawn', 'raw sugar', 'raw tiger prawn', 'razor clams', 'ready-made pie crusts', 'reblochon', 'recipe crumbles', 'red', 'red beans', 'red beets', 'red bliss potato', 'red currants', 'red drum', 'red food coloring', 'red gold® diced tomatoes', 'red grape', 'red jalapeno peppers', 'red kidnei beans, rins and drain', 'red kidney beans', 'red leaf lettuce', 'red lentils', 'red miso', 'red mustard', 'red pepper', 'red pepper flakes', 'red pepper hot sauce', 'red potato', 'red quinoa', 'red radishes', 'red raspberries', 'red rice', 'red serrano peppers', 'red snapper', 'red sockeye', 'red velvet cake mix', 'red vermouth', 'red vinegar', 'red vinegar white white, wine,', 'red wine', 'red wine vinaigrette', 'red wine vinegar', 'redfish', 'reduced fat cheddar cheese', 'reduced fat coconut milk', 'reduced fat cream of mushroom soup', 'reduced fat firm tofu', 'reduced fat italian dressing', 'reduced fat mayonnaise', 'reduced fat mexican cheese', 'reduced fat milk', 'reduced fat monterey jack cheese', 'reduced fat mozzarella', 'reduced fat ranch dressing', 'reduced fat reduced sodium cream of mushroom soup', 'reduced fat reduced sodium tomato and herb pasta sauce', 'reduced fat ricotta cheese', 'reduced fat sharp cheddar cheese', 'reduced fat shredded cheese', 'reduced fat swiss cheese', 'reduced fat whipped topping', 'reduced sodium chicken broth', 'reduced sodium chicken stock', 'reduced sodium condensed cream of chicken soup', 'reduced sodium cream of mushroom soup', 'reduced sodium fat free chicken broth', 'reduced sodium garbanzos', 'reduced sodium ham', 'reduced sodium kidney beans', 'reduced sodium refried beans', 'reduced sodium smoked ham', 'reduced sodium soy sauce', 'reduced sodium tamari', 'reduced sodium teriyaki sauce', 'reduced sodium vegetable broth', 'reduced sodium vegetable stock', 'reduced sugar ketchup', 'reduced-fat cheese', 'reduced-fat sour cream', 'reduced-sodium tamari sauce', 'refined sugar', 'refried beans', 'refrigerated chocolate chip cookie dough', 'refrigerated dinner rolls', 'refrigerated fettuccine', 'refrigerated pizza dough', 'refrigerated seamless crescent dough', 'regular chicken broth', 'regular or convert rice', 'regular sour cream', 'regular soy sauce', 'regular sugar', 'regular tofu', 'relish', 'remoulade', 'rennet', 'reposado', 'rhubarb', 'rib', 'rib eye steaks', 'rib pork chops', 'rib roast', 'rib-eye roast', 'riblets', 'ricard', 'rice', 'rice bran', 'rice cakes', 'rice crackers', 'rice flour', 'rice milk', 'rice mix', 'rice noodles', 'rice paddy herb', 'rice paper', 'rice pilaf', 'rice powder', 'rice stick noodles', 'rice sticks', 'rice syrup', 'rice vermicelli', 'rice vinegar', 'rice wine', 'rich chicken stock', 'rich turkey stock', 'ricotta', 'ricotta cheese', 'ricotta salata', 'riesling', 'rigatoni', 'rigatoni or large tube pasta', 'rioja', 'ripe olives', 'riso', 'ritz crackers', 'ro-tel diced tomatoes & green chilies', 'roast', 'roast beef', 'roast breast of chicken', 'roast duck meat', 'roast pork seasoning mix', 'roast red peppers, drain', 'roast turkey', 'roasted cashews', 'roasted chestnuts', 'roasted garlic', 'roasted ground cumin', 'roasted hazelnuts', 'roasted peanuts', 'roasted pistachios', 'roasted pumpkin seeds', 'roasted red peppers', 'roasted salted cashews', 'roasted sesame seeds', 'roasted tomatoes', 'roasted unsalted cashews', 'roasted white sesame seeds', 'roasting chickens', 'roasting hen', 'robert mondavi fume blanc', 'robiola', 'rock salt', 'rock shrimp', 'rock sugar', 'rocket leaves', 'rockfish', 'roe', 'rolled oats', 'rolls', 'roma tomatoes', 'romaine lettuce', 'romana', 'romano cheese', 'rooster', 'root vegetables', 'roquefort', 'rose essence', 'rose hip tea bags', 'rose petals', 'rose water', 'rosemary', 'rosemary leaves', 'rosemary needles', 'rosemary sprigs', 'rosewater', 'rosé wine', 'rotel diced tomatoes & green chilies', 'rotel pasta, cook and drain', 'rotel tomatoes', 'rotelle', 'roti', 'rouille', 'round loaf', 'round sourdough bread', 'round steaks', 'rounds', 'roux', 'royal olives', 'rub', 'rub seasoning', 'rubbed sage', 'ruby port', 'rum', 'rum extract', 'rum raisin ice cream', 'rump roast', 'rump steak', 'runny honey', 'rusk', 'russet', 'rustic bread', 'rustic rub', 'rutabaga', 'rye', 'rye bread', 'rye flour', 'rye whiskey', 'saba', 'sablefish', 'sack', 'safflower', 'saffron', 'sage', 'sage leaves', 'sago', 'sago pearls', 'saigon cinnamon', 'sake', 'saki', 'salad', 'salad dressing', 'salad dressing mix', 'salad greens', 'salad leaves', 'salad oil', 'salad seasoning mix', 'salami', 'salmon', 'salmon fillets', 'salmon roe', 'salmon sashimi', 'salmon steaks', 'salsa', 'salsa verde', 'salsify', 'salt', 'salt free cajun creole seasoning', 'salt free herb seasoning', 'salt free seasoning', 'salt free southwest chipotle seasoning', 'salt pork', 'salt water', 'salted butter', 'salted cashews', 'salted fish', 'salted peanuts', 'salted pistachios', 'salted roast peanuts', 'salted roasted pecans', 'salted seaweed', 'saltine crumbs', 'saltines', 'saltpeter', 'sambuca', 'samphire', 'san marzano diced tomatoes', 'san marzano tomatoes', 'sanding sugar', 'sandwich bread', 'sandwich buns', 'sandwich rolls', 'sandwich steak', 'sandwich wraps', 'sandwiches', 'sangiovese', 'sangria', 'sansho', 'sardines', 'sargento® artisan blends® shredded parmesan cheese', 'sargento® traditional cut shredded 4 cheese mexican', 'sargento® traditional cut shredded mozzarella cheese', 'sashimi grade tuna', 'sato imo', 'satsuma imo', 'satsuma juice', 'satsuma orange', 'satsumas', 'sauce', 'sauce mix', 'sauce tomato', 'sauerkraut', 'sausage links', 'sausage meat', 'sausages', 'sauterne', 'sauvignon blanc', 'savoiardi', 'savory', 'savoy spinach', 'sazon', 'sazon goya', 'sazon seasoning', 'scallion greens', 'scallions', 'scallops', 'scape pesto', 'schmaltz', 'schnapps', 'scotch', 'scotch bonnet chile', 'scotch whisky', 'scrod', 'sea bream', 'sea salt', 'sea salt flakes', 'sea scallops', 'seafood', 'seafood breader', 'seafood glaze', 'seafood seasoning', 'seafood stock', 'seasoned flour', 'seasoned ground turkey', 'seasoned rice wine vinegar', 'seasoning', 'seasoning mix', 'seasoning rub', 'seasoning salt', 'seaweed', 'seedless watermelon', 'seeds', 'seitan', 'self raising flour', 'self rising flour', 'self-rising cornmeal', 'seltzer', 'seltzer water', 'semi firm tofu', 'semi-soft cheese', 'semisweet chocolate', 'semisweet vegan chocolate chips', 'semolina', 'semolina flour', 'serrano', 'serrano chile', 'serrano chilies', 'serrano ham', 'serrano peppers', 'sesame', 'sesame butter', 'sesame oil', 'sesame paste', 'sesame salt', 'sesame seed paste', 'sesame seeds', 'sesame seeds buns', 'seville orange juice', 'seville oranges', 'shallots', 'shanghai bok choy', 'shanghai noodles', 'shank half', 'shanks', 'shao hsing wine', 'shaoxing', 'shark', 'sharp cheddar cheese', 'sharp white cheddar cheese', 'shaved chocolate', 'shaved parmesan cheese', 'sheepshead', 'sheep’s milk cheese', 'shell pasta', 'shell steak', 'shell-on shrimp', 'shelled pistachios', 'shelled shrimp', 'shellfish', 'shells', 'sherbet', 'sherry', 'sherry vinegar', 'sherry wine', 'shichimi togarashi', 'shiitake', 'shimeji mushrooms', 'shirataki', 'shiraz', 'shiro miso', 'shiromiso', 'shishito chile', 'shiso', 'shoepeg corn', 'shoga', 'short pasta', 'short rib', 'short-grain rice', 'shortbread', 'shortcakes', 'shortcrust pastry', 'shortening', 'shoulder meat', 'shoulder roast', 'shoulder steak', 'shoyu', 'shredded bamboo', 'shredded basil', 'shredded carrots', 'shredded cheddar cheese', 'shredded cheese', 'shredded coconut', 'shredded colby', 'shredded lettuce', 'shredded low-fat sharp cheddar', 'shredded lowfat monterey jack cheese', 'shredded monterey jack cheese', 'shredded mozzarella cheese', 'shredded nori', 'shredded parmesan cheese', 'shredded pepper jack cheese', 'shredded reduced fat reduced sodium swiss cheese', 'shredded romano cheese', 'shredded sharp cheddar cheese', 'shredded swiss cheese', 'shredded zucchini', 'shrimp', 'shrimp chips', 'shrimp heads', 'shrimp meat', 'shrimp paste', 'shrimp powder', 'shrimp shells', 'shrimp small uncook', 'shrimp stock', 'shrimp tails', 'shuck corn', 'shucked oysters', 'shungiku', 'sicilian olives', 'side pork', 'silken tofu', 'silver', 'simple syrup', 'single crust pie', 'single malt scotch', 'sirloin', 'sirloin steak', 'sirloin tip', 'skate', 'skim milk', 'skinless chicken breasts', 'skinless chicken thighs', 'skinless cod fillets', 'skinless salmon fillets', 'skinless snapper fillets', 'skirt steak', 'slab bacon', 'slaw', 'slaw mix', 'sliced beets', 'sliced carrots', 'sliced chicken', 'sliced chorizo', 'sliced fresh fruit', 'sliced green olives', 'sliced ham', 'sliced mango', 'sliced meat', 'sliced mushrooms', 'sliced olives', 'sliced pears', 'sliced salami', 'sliced shallots', 'sliced tomatoes', 'sliced turkey', 'slider buns', 'slider rolls', 'sloe gin', 'small curd cottage cheese', 'small eggs', 'small pasta', 'small potatoes', 'small shells', 'small tomatoes', 'small white beans', 'small yellow onion', 'smart balance cooking spray', 'smithfield ham', 'smoked & dried fish', 'smoked bacon', 'smoked bratwurst', 'smoked cheddar cheese', 'smoked chicken sausages', 'smoked chorizo', 'smoked eel', 'smoked fully cooked ham', 'smoked gouda', 'smoked ham', 'smoked hog jowl', 'smoked mozzarella', 'smoked paprika', 'smoked pork', 'smoked rashers', 'smoked salmon', 'smoked sausage', 'smoked sea salt', 'smoked streaky bacon', 'smoked sweet spanish paprika', 'smoked trout', 'smoked turkey', 'smoked whitefish', 'snail shells', 'snails', 'snapper fillets', 'snapper head', 'snappers', 'snaps', 'snow crab', 'snow pea pods', 'snow peas', 'soaking liquid', 'soba', 'soba noodles', 'sobrasada', 'soda', 'soda bread', 'soda water', 'sodium free chicken broth', 'sodium free chicken stock', 'sodium reduced chicken broth', 'sofrito', 'soft buns', 'soft fresh goat cheese', \"soft goat's cheese\", 'soft margarine', 'soft rolls', 'soft sandwich rolls', 'soft shelled crabs', 'soft taco size flour tortillas', 'soft tofu', 'soft-boiled egg', 'soft-shell clams', 'soft-shelled crabs', 'soft-wheat flour', 'softened butter', 'sole', 'sole fillet', 'solid pack pumpkin', 'solid white tuna', 'somen', 'sooji', 'soppressata', 'sorbet', 'sorghum', 'sorrel', 'soup', 'soup bones', 'soup mix', 'soup pasta', 'sour cherries', 'sour cream', 'sour milk', 'sour mix', 'sour orange juice', 'sour salt', 'sourdough', 'sourdough bread', 'sourdough loaf', 'sourdough rolls', 'sourdough starter', 'soursop', 'southern comfort', 'southwest seasoning', 'soy', 'soy chorizo', 'soy crumbles', 'soy glaze', 'soy marinade', 'soy milk', 'soy nuts', 'soy sauce', 'soy vay® hoisin garlic marinade & sauce', 'soy vay® toasted sesame dressing & marinade', 'soy vay® veri veri teriyaki® marinade & sauce', 'soy yogurt', 'soya bean', 'soya cheese', 'soya flour', 'soybean oil', 'soybean sprouts', 'spaghetti', 'spaghetti sauce seasoning mix', 'spaghetti squash', 'spaghetti, cook and drain', 'spaghettini', 'spam', 'spanish chorizo', 'spanish olives', 'spanish onion', 'spanish paprika', 'spanish rice', 'spanish smoked paprika', 'spareribs', 'sparkling lemonade', 'sparkling sugar', 'sparkling wine', 'spearmint', 'speck', 'spelt', 'spice cake mix', 'spice islands ground cumin seed', 'spice islands oregano', 'spice islands® minced garlic', 'spiced rum', 'spices', 'spicy mayonnaise', 'spicy pork sausage', 'spicy salami', 'spicy sausage', 'spinach', 'spinach leaves', 'spinach tortilla', 'splenda', 'split peas', 'split yellow lentils', 'sponge', 'sports drink', 'spot prawns', 'spring greens', 'spring mix', 'spring onions', 'spring roll skins', 'spring roll wrappers', 'spring rolls', 'spring water', 'spring! water', 'sprinkles', 'sprite', 'sprouts', 'squabs', 'squash', 'squash blossoms', 'squash seeds', 'squid', 'squirt', 'sriracha', 'st germain liqueur', 'standing rib roast', 'starch', 'starchy potatoes', 'steak', 'steak fillets', 'steak sauce', 'steak seasoning', 'steak tips', 'steamed rice', 'steamed white rice', 'steamer', 'steel-cut oatmeal', 'steel-cut oats', 'stellette', 'stem ginger', 'stevia', 'stew', 'stew meat', 'stewed tomatoes', 'stewing beef', 'stewing hen', 'stewing steak', 'stick butter', 'sticky rice', 'stilton', 'stir fry beef meat', 'stir fry sauce', 'stir fry vegetable blend', 'stock', 'stolichnaya', 'stone flower', 'stone ground mustard', 'stone-ground cornmeal', 'stonefire italian artisan pizza crust', 'stonefire italian thin pizza crust', 'store bought low sodium chicken broth', 'store-bought pound cake', 'stout', 'strained yogurt', 'straw mushrooms', 'strawberries', 'strawberry extract', 'strawberry gelatin', 'strawberry ice cream', 'strawberry jam', 'strawberry preserves', 'strawberry syrup', 'strawberry yogurt', 'streaky bacon', 'string beans', 'string cheese', 'strip loin', 'strip steaks', 'strozzapreti', 'stuffing', 'stuffing mix', 'sturgeon', 'sub buns', 'sub rolls', 'sucanat', 'success white rice', 'sucralose sweetener', 'suet', 'sugar', 'sugar cane', 'sugar cookie dough', 'sugar cubes', 'sugar in the raw', 'sugar pea', 'sugar pumpkin', 'sugar substitute', 'sugar syrup', 'sugarcane', 'sultana', 'sumac', 'sumac powder', 'summer squash', 'sun dried tomato dressing', 'sunchokes', 'sundae syrup', 'sundried tomato paste', 'sundried tomato pesto', 'sunflower kernels', 'sunflower oil', 'sunflower seed butter', 'sunflower seeds', 'superfine sugar', 'superfine white sugar', 'sushi grade tuna', 'sushi nori', 'sushi rice', 'sushi vinegar', 'swanson chicken broth', 'swanson chicken stock', 'swanson vegetable broth', 'swede', 'sweet & sour stir fry sauce', 'sweet and sour sauce', 'sweet basil', 'sweet bean sauce', 'sweet biscuit crumbs', 'sweet cherries', 'sweet chili sauce', 'sweet chocolate', 'sweet chorizo', 'sweet corn', 'sweet cream butter', 'sweet gherkin', 'sweet italian pork sausage', 'sweet italian sausag links, cut into', 'sweet italian sausage', 'sweet mini bells', 'sweet mustard', 'sweet onion', 'sweet paprika', 'sweet peas', 'sweet pepper', 'sweet pickle', 'sweet potato starch', 'sweet potato vermicelli', 'sweet potatoes', 'sweet relish', 'sweet rice', 'sweet sherry', 'sweet soy', 'sweet tea', 'sweet turkey sausage', 'sweet vermouth', 'sweet white miso', 'sweet white wine', 'sweet yellow corn', 'sweetbreads', 'sweetened coconut', 'sweetened condensed milk', 'sweetener', 'swerve sweetener', 'swiss', 'swiss cheese', 'swiss steak', 'swordfish', 'syd hot rub', 'syrup', 'szechuan sauce', 'szechwan peppercorns', 't-bone steak', 'tabasco pepper sauce', 'tabasco® chipotle pepper sauce', 'table cream', 'table salt', 'table syrup', 'table wine', 'taco bell home originals', 'taco bell taco seasoning mix', 'taco bell® home originals® taco seasoning mix', 'taco meat', 'taco sauce', 'taco seasoned cheese', 'taco seasoning', 'taco seasoning mix', 'taco seasoning reduced sodium', 'taco shells', 'taco toppings', 'tagliarini', 'tagliatelle', 'taiwanese bok choy', 'tallow', 'tamari soy sauce', 'tamari tamari', 'tamarind', 'tandoori masala mix', 'tandoori paste', 'tandoori seasoning', 'tandoori spices', 'tangelos', 'tangerine', 'tap water', 'tapatio hot sauce', 'tapenade', 'tapioca', 'tapioca flour', 'tapioca pearls', 'tapioca starch', 'tarama', 'taro', 'tarragon', 'tarragon leaves', 'tarragon vinegar', 'tart', 'tart cherries', 'tart crust', 'tart filling', 'tart shells', 'tartar sauce', 'tartlet shells', 'tasso', 'tater tots', 'tatsoi', 'tawny port', 'tea bags', 'tea cake', 'tea leaves', 'teardrop tomatoes', 'teas', 'teff', 'teleme', 'tempeh', 'tenderloin', 'tenderloin roast', 'tenderloin steaks', 'tentacles', 'tequila', 'teriyaki marinade', 'teriyaki sauce', 'tex mex seasoning', 'tex-mex shredded cheese', 'texas pete hot sauce', 'texas toast bread', 'textured soy protein', 'thai basil', 'thai chile', 'thai chili garlic sauce', 'thai eggplants', 'thai fish sauce', 'thai noodles', 'thick curds', 'thick-cut bacon', 'thickeners', 'thin deli ham', 'thin pizza crust', 'thin spaghetti', 'thousand island dressing', 'thyme', 'thyme leaves', 'thyme sprig', 'ti leaves', 'tiger prawn', 'tikka paste', 'tilapia', 'tipo 00 flour', 'toast', 'toast points', 'toasted buns', 'toasted cashews', 'toasted coconut', 'toasted nori', 'toasted nuts', 'toasted peanuts', 'toasted pecans', 'toasted pine nuts', 'toasted pumpkinseeds', 'toasted sesame oil', 'toasted sesame seeds', 'toasted walnuts', 'toasted wheat germ', 'tobiko', 'toffee bits', 'toffee sauce', 'tofu', 'tofu puffs', 'tofu sour cream', 'togarashi', 'tokyo negi', 'tom yum paste', 'tomate verde', 'tomatillo salsa', 'tomatillos', 'tomato basil sauce', 'tomato garlic pasta sauce', 'tomato jam', 'tomato juice', 'tomato ketchup', 'tomato paste', 'tomato purée', 'tomato salsa', 'tomato sauce', 'tomato sauce low sodium', 'tomato soup', 'tomatoes', 'tomatoes on the vine', 'tomatoes with juice', 'tongue', 'tonic water', 'tonkatsu sauce', \"tony chachere's seasoning\", 'toor dal', 'top loin', 'top round roast', 'top round steak', 'top sirloin', 'topping', 'topside steak', 'torn romain lettuc leav', 'torpedo rolls', 'tortellini', 'tortellini, cook and drain', 'tortelloni', 'tortilla chips', 'tortilla shells', 'tortilla wraps', 'tortillas', 'tostada shells', 'tostadas', 'tostitos', 'toulouse sausage', 'treacle', 'tree ear mushrooms', 'tree ears', 'treviso', 'tri tip', 'tri-tip roast', 'tri-tip steak', 'tricolor quinoa', 'tripe', 'triple sec', 'triscuits', 'tropical fruits', 'trout', 'trout fillet', 'true cinnamon', 'truffle butter', 'truffle oil', 'truffle puree', 'truffle salt', 'truffles', 'truvía® baking blend', 'truvía® natural sweetener', 'tuaca', 'tubetti', 'tumeric', 'tuna', 'tuna fillets', 'tuna in oil', 'tuna packed in olive oil', 'tuna packed in water', 'tuna steaks', 'tuna, drain and flake', 'tuong', 'tupelo honey', 'turbinado', 'turbot', 'turkey', 'turkey bacon', 'turkey breakfast sausage', 'turkey breast', 'turkey breast cutlets', 'turkey breast deli meat', 'turkey breast steaks', 'turkey breast tenderloins', 'turkey broth', 'turkey burger', 'turkey carcass', 'turkey gravy', 'turkey ham', 'turkey hot dogs', 'turkey legs', 'turkey meat', 'turkey meatballs', 'turkey mince', 'turkey salami', 'turkey sausage', 'turkey sausage links', 'turkey stock', 'turkey tenderloins', 'turkey thigh', 'turmeric root', 'turnip greens', 'turnips', 'turtle', 'tuscan sausage', 'tuttorosso diced tomatoes', 'tvp', 'twists', 'tzatziki', 'udon', 'ume plum vinegar', 'umeboshi', 'unagi', 'unbaked pie crusts', 'unbleached flour', \"uncle ben's original converted brand rice\", 'uncle bens', 'uncooked ziti', 'unflavored gelatin', 'unhulled sesame seeds', 'uni', 'unsalted butter', 'unsalted cashews', 'unsalted chicken stock', 'unsalted dry roast peanuts', 'unsalted margarine', 'unsalted peanut butter', 'unsalted pecans', 'unsalted roasted peanuts', 'unsalted shelled pistachio', 'unsalted vegetable stock', 'unseasoned breadcrumbs', 'unsmoked bacon', 'unsulphured molasses', 'unsweetened chocolate', 'unsweetened dried coconut', 'unsweetened shredded dried coconut', 'unsweetened soymilk', 'urad dal', 'usukuchi soy sauce', 'v 8 juice', 'v8', 'val', 'vanilla', 'vanilla almondmilk', 'vanilla bean ice cream', 'vanilla bean seeds', 'vanilla beans', 'vanilla cake mix', 'vanilla cream', 'vanilla essence', 'vanilla extract', 'vanilla frosting', 'vanilla frozen yogurt', 'vanilla glaze', 'vanilla ice cream', 'vanilla instant pudding', 'vanilla low-fat frozen yogurt', 'vanilla low-fat ic cream', 'vanilla lowfat yogurt', 'vanilla pods', 'vanilla powder', 'vanilla pudding', 'vanilla soy milk', 'vanilla sugar', 'vanilla vodka', 'vanilla wafer crumbs', 'vanilla wafers', 'vanilla yogurt', 'varnish clams', 'veal', 'veal bones', 'veal breast', 'veal chops', 'veal cutlets', 'veal demi-glace', 'veal escalopes', 'veal for stew', 'veal kidneys', 'veal knuckle', 'veal loin', 'veal medallions', 'veal rib chops', 'veal scallopini', 'veal scallops', 'veal shanks', 'veal shoulder', 'veal stock', 'veal tongue', 'vegan butter', 'vegan cheese', 'vegan chicken flavored bouillon', 'vegan coffee creamer', 'vegan margarine', 'vegan mayonnaise', 'vegan parmesan cheese', 'vegan sour cream', 'vegan worcestershire sauce', 'vegan yogurt', 'veget soup mix', 'vegeta seasoning', 'vegetable bouillon', 'vegetable broth', 'vegetable demi-glace', 'vegetable fats', 'vegetable juice', 'vegetable juice cocktail', 'vegetable oil', 'vegetable oil cooking spray', 'vegetable oil spray', 'vegetable seasoning', 'vegetable shortening', 'vegetable slaw', 'vegetable soup', 'vegetable stock', 'vegetable stock powder', 'vegetable-filled ravioli', 'vegetables', 'vegetarian chicken', 'vegetarian oyster sauce', 'vegetarian protein crumbles', 'vegetarian refried beans', 'veggie crumbles', 'veggie patties', 'veggies', 'velveeta', 'venison', 'verjuice', 'verjus', 'vermicelli', 'vermicelli noodles', 'vermouth', 'vidalia', 'vietnamese fish sauce', 'vin santo', 'vinaigrette', 'vinaigrette dressing', 'vindaloo paste', 'vine leaves', 'vine ripened tomatoes', 'vine tomatoes', 'vinegar', 'violets', 'virgin olive oil', 'virginia ham', 'vodka', 'vodka sauce', 'wafer', 'waffle', 'waffle fries', 'wagon wheels', 'wakame', 'walnut halves', 'walnut oil', 'walnut pieces', 'walnuts', 'warm buns', 'warm water', 'wasabe', 'wasabi', 'water', 'water chestnut powder', 'water chestnuts', 'water crackers', 'water spinach', 'watermelon', 'watermelon radishes', 'watermelon seeds', 'wax beans', 'waxy potatoes', 'wheat', 'wheat berries', 'wheat bran', 'wheat bread', 'wheat crackers', 'wheat flour', 'wheat free soy sauce', 'wheat germ', 'wheat starch', 'wheatberries', 'wheels', 'whey', 'whipped butter', 'whipped cream', 'whipped dessert topping', 'whipped topping', 'whipping cream', 'whiskey', 'white almond bark', 'white baking bar', 'white beans', 'white bread', 'white cake mix', 'white cheddar cheese', 'white cheese', 'white chocolate', 'white corn', 'white cornmeal', 'white fleshed fish', 'white flour', 'white frostings', 'white italian tuna in olive oil', 'white kidney beans', 'white lily flour', 'white miso', 'white mushrooms', 'white onion', 'white peaches', 'white pepper', 'white peppercorns', 'white quinoa', 'white radish', 'white rice', 'white rice flour', 'white rice vinegar', 'white rum', 'white sesame seeds', 'white sugar', 'white tequila', 'white truffle oil', 'white tuna', 'white tuna in water', 'white vermouth', 'white vinegar', 'white wine', 'white wine vinegar', 'white zinfandel', 'whitefish', 'whitefish fillets', 'whole chicken', 'whole crab', 'whole garam masala', 'whole grain bread', 'whole grain buns', 'whole grain mustard', 'whole grain pasta', 'whole grain rice', 'whole grain roll', 'whole kernel corn, drain', 'whole milk', 'whole nutmegs', 'whole okra', 'whole peel tomatoes, undrain and chop', 'whole peppercorn', 'whole snapper', 'whole turkey', 'whole wheat buns', 'whole wheat dough', 'whole wheat fettuccine', 'whole wheat flour', 'whole wheat linguine', 'whole wheat pasta', 'whole wheat penne', 'whole wheat pita', 'whole wheat pizza crust', 'whole wheat pizza dough', 'whole wheat potato buns', 'whole wheat rigatoni', 'whole wheat seasoned breadcrumbs', 'whole wheat sourdough bread', 'whole wheat spaghetti', 'whole wheat submarine loaves', 'whole wheat tortillas', 'wholemeal flour', 'wide egg noodles', 'wide rice noodles', 'wieners', 'wild garlic', 'wild mushrooms', 'wild rice', 'wild salmon', 'wildflower honey', 'wine', 'wine syrup', 'wine vinegar', 'winesap', 'wing sauce', 'winter melon', 'winter squash', 'wish bone guacamol ranch dress', 'wish bone ranch dress', 'wish bone red wine vinaigrett dress', 'wish-bone', 'wolf brand chili', 'won ton skins', 'won ton wrappers', 'wondra', 'wonton noodles', 'wonton skins', 'wonton wrappers', 'wood ear mushrooms', 'wood mushrooms', 'worcestershire sauce', 'worcestershire sauce low sodium', 'xanthan gum', 'xuxu', 'yaki-nori', 'yakisoba noodles', 'yam bean', 'yam noodles', 'yams', 'yeast', 'yeast extract', 'yellow bean sauce', 'yellow cake mix', 'yellow chives', 'yellow corn', 'yellow corn meal', 'yellow crookneck squash', 'yellow food coloring', 'yellow lentils', 'yellow miso', 'yellow mustard', 'yellow onion', 'yellow peas', 'yellow peppers', 'yellow rice', 'yellow rock sugar', 'yellow split peas', 'yellow squash', 'yellow tomato', 'yellowfin', 'yellowtail', 'yoghurt', 'yoghurt natural low fat', 'yogurt cheese', 'yogurt dressing', 'yogurt low fat', 'yolk', 'yoplait', 'young nettle', 'yu choy', 'yuca', 'yucca', 'yukon gold', 'yuzu', \"za'atar\", 'zatarains creole seasoning', 'zest', 'zesty italian dressing', 'zinfandel', 'ziti', 'zucchini', 'zucchini blossoms']\n"
     ]
    }
   ],
   "source": [
    "print(len(basic_list))\n",
    "print(basic_list)"
   ]
  },
  {
   "cell_type": "code",
   "execution_count": 233,
   "id": "c3205ec8",
   "metadata": {},
   "outputs": [],
   "source": [
    "filtered_popular_ingredients = most_popular_ingredients.copy().tolist()\n",
    "for word_i in most_popular_ingredients:\n",
    "    for word_j in common_words:\n",
    "        if word_j in word_i:\n",
    "            if word_j != word_i:\n",
    "                filtered_popular_ingredients.remove(word_i)\n",
    "print(filtered_popular_ingredients)\n",
    "print(len(filtered_popular_ingredients))"
   ]
  },
  {
   "cell_type": "code",
   "execution_count": 234,
   "id": "772388be",
   "metadata": {},
   "outputs": [
    {
     "data": {
      "text/plain": [
       "[1, 2]"
      ]
     },
     "execution_count": 234,
     "metadata": {},
     "output_type": "execute_result"
    }
   ],
   "source": [
    "a.copy()"
   ]
  },
  {
   "cell_type": "code",
   "execution_count": 235,
   "id": "3f1ffca1",
   "metadata": {},
   "outputs": [],
   "source": [
    "a.remove(1)"
   ]
  },
  {
   "cell_type": "code",
   "execution_count": 236,
   "id": "4832e3d9",
   "metadata": {},
   "outputs": [
    {
     "data": {
      "text/plain": [
       "[2]"
      ]
     },
     "execution_count": 236,
     "metadata": {},
     "output_type": "execute_result"
    }
   ],
   "source": [
    "a"
   ]
  },
  {
   "cell_type": "code",
   "execution_count": 237,
   "id": "494ddddc",
   "metadata": {},
   "outputs": [],
   "source": [
    "a = [1, 2]"
   ]
  },
  {
   "cell_type": "code",
   "execution_count": 242,
   "id": "076b599e",
   "metadata": {},
   "outputs": [
    {
     "data": {
      "text/plain": [
       "[1, 2]"
      ]
     },
     "execution_count": 242,
     "metadata": {},
     "output_type": "execute_result"
    }
   ],
   "source": [
    "np.array(a).tolist()"
   ]
  },
  {
   "cell_type": "code",
   "execution_count": 249,
   "id": "dbf10c62",
   "metadata": {},
   "outputs": [
    {
     "data": {
      "text/plain": [
       "'apple'"
      ]
     },
     "execution_count": 249,
     "metadata": {},
     "output_type": "execute_result"
    }
   ],
   "source": [
    "a = ['apple', 'banana']\n",
    "min(a, key=len)\n",
    "    "
   ]
  },
  {
   "cell_type": "code",
   "execution_count": 276,
   "id": "29db164f",
   "metadata": {},
   "outputs": [],
   "source": [
    "def gen_base_words(ingredient_list):\n",
    "    my_list = []\n",
    "    for ingredient in ingredient_list:\n",
    "        current_word = min(contains(ingredient, ingredient_list), key=len)\n",
    "        i = 0\n",
    "        flag = True\n",
    "        while (i < len(my_list) and flag):\n",
    "            if my_list[i] in current_word:\n",
    "                flag = False\n",
    "            i+=1\n",
    "        if flag:\n",
    "            my_list.append(current_word)\n",
    "    return my_list         "
   ]
  },
  {
   "cell_type": "code",
   "execution_count": 277,
   "id": "8b3310fe",
   "metadata": {},
   "outputs": [
    {
     "name": "stdout",
     "output_type": "stream",
     "text": [
      "2644\n"
     ]
    }
   ],
   "source": [
    "base_words = gen_base_words(unique_ingredients)\n",
    "print(len(base_words))"
   ]
  },
  {
   "cell_type": "code",
   "execution_count": 278,
   "id": "e239079e",
   "metadata": {},
   "outputs": [
    {
     "name": "stdout",
     "output_type": "stream",
     "text": [
      "['(    oz.) tomato sauce', '(   oz.) tomato paste', '(10 oz.) frozen chopped spinach', '(14 oz.) sweetened condensed milk', '(14.5 oz.) diced tomatoes', '(15 oz.) refried beans', '1% low-fat buttermilk', '1% low-fat chocolate milk', '1% low-fat cottage cheese', '1% low-fat milk', '2 1/2 to 3 lb. chicken, cut into serving pieces', '2% low fat cheddar chees', '2% low-fat cottage cheese', '2% lowfat greek yogurt', '2% milk shredded mozzarella cheese', '2% reduced-fat milk', '25% less sodium chicken broth', '33% less sodium cooked deli ham', '33% less sodium cooked ham', '33% less sodium ham', '33% less sodium smoked fully cooked ham', '40% less sodium taco seasoning', '7 up', '8 ounc ziti pasta, cook and drain', '95% lean ground beef', 'a taste of thai rice noodles', 'abalone', 'abbamele', 'absinthe', 'abura age', 'acai juice', 'accent', 'accompaniment', 'achiote', 'acini di pepe', 'ackee', 'acorn squash', 'active dry yeast', 'adobo', 'adzuki beans', 'agar', 'agave nectar', 'agave tequila', 'aged balsamic vinegar', 'aged cheddar cheese', 'aged gouda', 'aged manchego cheese', 'ahi', 'aioli', 'ajinomoto', 'ajwain', 'aka miso', 'alaskan king crab legs', 'alaskan king salmon', 'albacore', 'alcohol', 'ale', 'alfalfa sprouts', 'alfredo sauce', 'all beef hot dogs', 'all potato purpos', 'all purpose seasoning', 'all purpose unbleached flour', 'all-purpose flour', 'allspice', 'almond butter', 'almond extract', 'almond filling', 'almond flour', 'almond liqueur', 'almond meal', 'almond milk', 'almond oil', 'almond paste', 'almond syrup', 'almonds', 'aloe juice', 'alphabet pasta', 'alum', 'amaranth', 'amarena cherries', 'amaretti', 'amaretto', 'amba', 'amber', 'amchur', 'america', 'ammonium bicarbonate', 'amontillado sherry', 'ampalaya', 'anaheim chile', 'anasazi beans', 'ancho', 'and carrot green pea', 'and cook drain pasta ziti', 'and fat free half half', 'andouille chicken sausage', 'andouille sausage', 'andouille turkey sausages', 'angel food cake', 'angel hair', 'angled loofah', 'angostura bitters', 'angus', 'anise', 'anjou pears', 'annatto', 'any', 'aonori', 'apple brandy', 'apple butter', 'apple cider', 'apple jelly', 'apple juice', 'apple pie filling', 'apple pie spice', 'apple puree', 'apple schnapps', 'apple slice', 'apples', 'applewood smoked bacon', 'apricot brandy', 'apricot halves', 'apricot jam', 'apricot jelly', 'apricot nectar', 'apricot preserves', 'apricots', 'aquavit', 'arak', 'arame', 'arbol chile', 'arborio rice', 'arctic char', 'arepa flour', 'argo corn starch', 'arhar', 'armagnac', 'arrow root', 'arrowroot', 'artichok heart marin', 'artichoke bottoms', 'artichoke hearts', 'artichokes', 'artificial sweetener', 'artisan bread', 'arugula', 'asadero', 'asafetida', 'asafoetida', 'asakusa nori', 'ascorbic acid', 'asiago', 'asian', 'asparagus', 'aspic', 'assam', 'assorted fresh vegetables', 'asti spumante', 'atlantic cod fillets', 'atta', 'au jus gravy', 'au jus mix', 'avocado', 'awase miso', 'azteca flour tortillas', 'azuki bean', 'açai', 'baby back ribs', 'baby beets', 'baby bok choy', 'baby broccoli', 'baby carrots', 'baby corn', 'baby eggplants', 'baby gem lettuce', 'baby goat', 'baby greens', 'baby leaf lettuce', 'baby lima beans', 'baby okra', 'baby portobello mushrooms', 'baby potatoes', 'baby radishes', 'baby spinach', 'baby tatsoi', 'baby turnips', 'baby zucchini', 'bacardi', 'back bacon', 'back ribs', 'bacon', 'bagel chips', 'bagels', 'baguette', 'bai cai', 'baileys irish cream liqueur', 'baked beans', 'baked corn tortilla chips', 'baked ham', 'baked pita chips', 'baked pizza crust', 'baked tortilla chips', 'baking chocolate', 'baking mix', 'baking potatoes', 'baking powder', 'baking soda', 'baking spray', 'baking sugar', 'baking yeast', 'balm', 'balsamic reduction', 'balsamic vinaigrette', 'balsamic vinegar', 'balsamico bianco', 'bamboo shoots', 'banana blossom', 'banana bread', 'banana extract', 'banana flower', 'banana leaves', 'banana liqueur', 'banana peppers', 'banana puree', 'banana squash', 'bananas', 'banger', 'banh hoi', 'banh pho rice noodles', 'baobab fruit powder', 'barbecue rub', 'barbecue sauce', 'barbecue seasoning', 'barbecued pork', 'barilla', 'barley', 'barolo', 'barramundi fillets', 'bartlett pear', 'basa fillets', 'base', 'basil', 'basmati', 'bass', 'baton', 'batter', 'bawang goreng', 'bay leaf', 'bay leaves', 'bay scallops', 'bbq sauce', 'bbq seasoning', 'bean curd', 'bean dip', 'bean paste', 'bean sauce', 'bean soup', 'bean thread vermicelli', 'bean threads', 'beans', 'bear', 'beaten eggs', 'beau monde seasoning', 'beaujolais', 'bechamel', 'bee pollen', 'beef', 'beer', 'beet greens', 'beet juice', 'beets', 'belacan', 'belgian endive', 'bell pepper', 'beluga lentil', 'bengal gram', 'bengali 5 spice', 'beni shoga', 'benne seed', 'bermuda onion', 'berries', 'bertolli four chees rosa sauc', 'bertolli organic tradit sauc', 'bertolli vineyard premium collect marinara with burgundi wine sauc', 'bertolli vodka sauc made with fresh cream', 'bertolli® arrabbiata sauce', 'bertolli® classico olive oil', 'besan (flour)', \"best food's mayonnaise with lime juice\", 'best foods® real mayonnaise', 'betty crocker™ oatmeal cookie mix', 'beurre manié', 'bhaji', 'bhindi', 'bibb lettuce', 'bicarbonate of soda', 'biga', 'bigoli', 'bihon', 'bing cherries', 'bird chile', 'bird pepper', 'biryani masala', 'biscotti', 'biscuit dough', 'biscuit mix', 'biscuits', 'bisquick', 'bitter gourd', 'bitter melon', 'bitters', 'blacan', 'black', 'blade steak', 'blanched hazelnuts', 'blanco chees queso', 'blanco tequila', 'blood', 'blue cheese', 'blue corn tortilla chips', 'blue crabs', 'blue curaçao', 'blueberri preserv', 'blueberry pie filling', 'boar', 'bob evans italian sausage', 'bocconcini', 'boiled eggs', 'boiled ham', 'boiling onions', 'boiling potatoes', 'boiling water', 'bok choy', 'bolillo', 'bologna', 'bone broth', 'bone in', 'bone marrow', 'bone-in chicken', 'bone-in pork chops', 'bone-in ribeye steak', 'bone-in short ribs', 'boned duck breast halves', 'boned lamb shoulder', 'boned skinned duck breast halves', 'boneless center cut pork chops', 'boneless chicken', 'boneless chop pork', 'boneless chops', 'boneless chuck roast', 'boneless country pork ribs', 'boneless duck breast', 'boneless ham', 'boneless lamb', 'boneless magret duck breast halves', 'boneless moulard duck breast halves', 'boneless pork loin', 'boneless pork shoulder', 'boneless pork tenderloin', 'boneless rib eye steaks', 'boneless salmon fillets', 'boneless sirloin', 'boneless skin on chicken thighs', 'boneless skinless chicken', 'boneless skinless turkey breasts', 'boneless steak', 'boneless turkey breast', 'boneless veal shoulder', 'boneless, skinless chicken breast', 'bonito', 'boquerones', 'borage', 'bordelaise sauce', 'borlotti', 'bosc pears', 'boston butt', 'boston lettuce', 'bottle gourd', 'bottled chili sauce', 'bottled clam juice', 'bottled italian dressing', 'bottled lime juice', 'bottled low sodium salsa', 'bottom round', 'boudin', 'bouillon', 'bouquet', 'bourbon liqueur', 'bourbon whiskey', 'boursin', 'bow-tie pasta', 'bows', 'boy choy', 'braeburn apple', 'bragg liquid aminos', 'braggs liquid aminos', 'braising steak', 'bran flakes', 'branca menta', 'brandy', 'branston pickle', 'branzino', 'brats', 'brazil nuts', 'bread', 'breakfast sausage links', 'breakfast sausages', \"breakstone's sour cream\", 'breakstone’s sour cream', 'breast', 'bresaola', 'brewed coffee', 'brewed espresso', 'brewed tea', 'breyers® natural vanilla ice cream', 'brie cheese', 'brill', 'brine', 'brioche', 'brisket', 'broccoli', 'broiler', 'broth', 'brown beech mushrooms', 'brown butter', 'brown cardamom', 'brown chicken stock', 'brown gravy', 'brown hash potato', 'brown lentils', 'brown mushroom', 'brown mustard', 'brown rice', 'brown sauce', 'brown shrimp', 'brown sugar', 'brownie layer', 'brownies', 'browning', 'brussels sprouts', 'bucatini', 'buckwheat', 'budweiser', 'buffalo', 'bulb', 'bulgur', 'bulk italian sausag', 'buns', 'burdock', 'burger rolls', 'burger style crumbles', 'burgers', 'burgundy', 'burrata', 'burrito seasoning mix', 'burro banana', 'butter', 'button mushrooms', 'bâtarde', 'bénédictine', 'cabbage', 'cabernet', 'cacao nibs', 'cacao powder', 'cachaca', 'caciocavallo', 'cactus', 'caesar salad dressing', 'cajeta', 'cajun remoulade', 'cajun seasoning', 'cajun spice mix', 'cajun style stewed tomatoes', 'cajun-creole seasoning mix', 'cake', 'calabash', 'calabaza', 'calabrese sausage', 'calamansi', 'calamari', 'calamata olives', 'calf liver', 'california chile', 'calimyrna figs', 'callaloo', 'calvados', 'camembert', 'campanelle', 'campari', \"campbell's condensed cheddar cheese soup\", \"campbell's condensed cream of chicken soup\", \"campbell's condensed cream of mushroom soup\", \"campbell's condensed tomato soup\", 'candied cherries', 'candied chestnuts', 'candied citron peel', 'candied fruit', 'candied ginger', 'candied jalapeno', 'candied lemon peel', 'candied orange peel', 'candied peel', 'candied pineapple', 'candlenuts', 'candy', 'cane sugar', 'cane syrup', 'cane vinegar', 'canela', 'canned chicken', 'canned chipotles', 'canned chopped tomatoes', 'canned coconut milk', 'canned corn', 'canned jalapeno peppers', 'canned peas and carrots', 'canned salmon', 'canned snails', 'canned tomatoes', 'canned tuna', 'cannelloni', 'canning salt', 'cannoli shells', 'canola', 'cantal', 'canton noodles', 'capellini', 'capers', 'capicola', 'capocollo', 'capon', 'cappuccino', 'capsicum', 'cara cara orange', 'carambola', 'caraway', 'carbonated beverages', 'carbonated water', 'cardamom', 'cardamon', 'cardoons', 'caribbean jerk seasoning', 'carnaroli rice', 'carnation', 'carne asada', 'carne seca', 'carnitas', 'carp', 'carrot greens', 'carrot juice', 'carrot sticks', 'carrots', 'cashew chop unsalt', 'cashew milk', 'cashew nuts', 'casings', 'cassava', 'cassia cinnamon', 'cassis liqueur', 'castellane', 'castelvetrano olives', 'caster', 'catalina dressing', 'catfish', 'catsup', 'caul fat', 'cauliflower', 'cava', 'cavenders greek seasoning', 'caviar', 'cavolo nero', 'cayenne', 'ceci bean', 'celery', 'celtic salt', 'center cut loin pork chop', 'center cut pork chops', 'center cut pork loin chops', 'center cut pork roast', 'center-cut salmon fillet', 'century eggs', 'cereal', 'ceylon cinnamon', 'chaat masala', 'chai tea concentrate', 'challa', 'chambord', 'champagne', 'chana dal', 'channa dal', 'chanterelle', 'chapati flour', 'chapatti flour', 'char', 'chat masala', 'chateaubriand', 'chayotes', 'cheddar cheese', 'chees fresco queso', 'chees fresh mozzarella', 'chees mozzarella stick', 'cheese', 'chenpi', 'cherries', 'cherry coke', 'cherry gelatin', 'cherry juice', 'cherry peppers', 'cherry pie filling', 'cherry preserves', 'cherry syrup', 'cherry tomatoes', 'cherry vanilla ice cream', 'cherry vinegar', 'cherrystone clams', 'chervil', 'chestnut flour', 'chestnut mushrooms', 'chestnut purée', 'chestnut spread', 'chestnuts', 'chia seeds', 'chianti', 'chicken', 'chickpea flour', 'chickpeas', 'chicory', 'chiffonade', 'chilcostle chile', 'chile colorado', 'chile con queso', 'chile de arbol', 'chile negro', 'chile paste', 'chile pepper', 'chile piquin', 'chile powder', 'chile puree', 'chile sauce', 'chile verde', 'chilegarlic sauce', 'chiles', 'chili', 'chilled prosecco', 'chilled seltzer', 'chilli paste', 'chillies', 'chiltepín', 'chimichurri', 'chinese chives', 'chinese cinnamon', 'chinese duck sauce', 'chinese egg noodles', 'chinese eggplants', 'chinese five-spice powder', 'chinese ginger', 'chinese ham', 'chinese hot mustard', 'chinese jujubes', 'chinese leaf', 'chinese mustard', 'chinese noodles', 'chinese parsley', 'chinese pea pods', 'chinese pepper', 'chinese plum sauce', 'chinese radish', 'chinese red rice vinegar', 'chinese red vinegar', 'chinese rice vinegar', 'chinese rice wine', 'chinese roast pork', 'chinese rock sugar', 'chinese rose wine', 'chinese sausage', 'chinese sesame paste', 'chinese spinach', 'chinese turnip', 'chinese wheat noodles', 'chinese winter melon', 'chinkiang vinegar', 'chioggia', 'chip plain tortilla', 'chipotle', 'chips', 'chitterlings', 'chive blossoms', 'chives', 'cho-cho', 'chocolate', 'cholesterol free egg substitute', 'cholula hot sauce', 'chop fine pecan', 'chopmeat', 'chopped cilantro', 'chopped cooked ham', 'chopped cooked meat', 'chopped fresh herbs', 'chopped fresh mint', 'chopped fresh sage', 'chopped fresh thyme', 'chopped garlic', 'chopped ham', 'chopped hazelnuts', 'chopped leaves', 'chopped nuts', 'chopped onion', 'chopped parsley', 'chopped pecans', 'chopped potatoes', 'chopped tomatoes', 'chopped walnuts', 'chorizo', 'chourico', 'chow mein noodles', 'chowchow', 'choy sum', 'chrysanthemum', 'chuck', 'chuka soba noodles', 'chunk light tuna in water', 'chunky', 'chuno sauce', 'chutney', 'chèvre', 'cider', 'cilantro', 'cinnamon', 'cipollini', 'citric acid', 'citron', 'citrus', 'clam juice', 'clam sauce', 'clamato juice', 'clams', 'classico pasta sauce', 'claws', 'clear honey', 'clementine juice', 'clementine sections', 'clementines', 'clotted cream', 'cloud ear fungus', 'clove', 'club soda', 'coarse ground mustard', 'coarse kosher salt', 'coarse salt', 'coarse sea salt', 'coarse semolina', 'coarse sugar', 'coarse-grain salt', 'coca-cola', 'cockles', 'cocktail sauce', 'coco', 'cod', 'coffee', 'cognac', 'cointreau', 'coke', 'cola', 'cold cut', 'cold meatloaf', 'cold milk', 'cold water', 'cold-smoked salmon', 'cole slaw mix', 'coleslaw', 'collard green leaves', 'collard greens', 'collard leaves', 'collards', \"colman's mustard powder\", 'color food green', 'color food orang', 'comice pears', 'comino', 'compote', 'compressed yeast', 'conch', 'condensed cream', 'condensed french onion soup', 'condensed golden mushroom soup', 'condensed milk', 'condensed reduced fat reduced sodium cream of mushroom soup', 'condensed reduced fat reduced sodium tomato soup', 'condensed soup', 'condensed tomato soup', 'condiments', 'cones', 'confectioners sugar', 'confit', 'conger eel', 'conimex wok olie', 'conimex woksaus specials vietnamese gember knoflook', 'converted rice', 'cook egg hard', 'cooked beetroot', 'cooked deli ham', 'cooked fettuccini', 'cooked ham', 'cooked italian meatballs', 'cooked meat', 'cooked pumpkin', 'cooked quinoa', 'cooked rice', 'cooked rigatoni', 'cooked shrimp', 'cooked steak', 'cooked turkey', 'cooked vegetables', 'cooked vermicelli', 'cooked white rice', 'cooki vanilla wafer', 'cookie crumbs', 'cookies', 'cooking cream', 'cooking fat', 'cooking liquid', 'cooking oil', 'cooking salt', 'cooking sherry', 'cooking spray', 'cooking wine', 'cool whip', 'coriander', 'corkscrew pasta', 'corn', 'cotija', 'coulis', 'country crock calcium plus vitamin d', 'country crock honey spread', 'country crock® spread', 'country gravy', 'country ham', 'country loaf', 'couscous', \"cox's orange pippin\", 'crab', 'cracked wheat', 'cracker crumbs', 'cracker meal', 'crackers', 'cranberry juice', 'cranberry sauce', 'crawfish', 'crayfish', 'cream', 'crema', 'creme anglaise', 'creme de cacao', 'cremini', 'creole mustard', 'creole seafood seasoning', 'creole seasoning', 'creole spice mix', 'creole style seasoning', 'crepes', 'crescent dinner rolls', 'crescent rolls', 'cress', 'crimini mushrooms', 'crisco', 'crisps', 'croissant dough', 'croissants', 'cross rib roast', 'crosswise', 'crostini', 'crouton italian season', 'croutons', 'crumb crust', 'crumb topping', 'crumbled gorgonzola', 'crumbles', 'crumbs', 'crumpet', 'crushed garlic', 'crushed ice', 'crushed pineapple', 'crushed pistachio', 'crushed pretzels', 'crushed red pepper', 'crushed saltines', 'crushed tomatoes', 'crust', 'crystal hot sauce', 'crystallized ginger', 'crème de cassis', 'crème de framboise', 'crème de menthe', 'crème fraîche', 'cuban peppers', 'cube steaks', 'cubed ham', 'cubed mango', 'cubed meat', 'cubed pancetta', 'cubed potatoes', 'cubed pumpkin', 'cucumber', 'cucuzza', 'culantro', 'culinary lavender', 'cumberland sausage', 'cumin', 'cummin', 'curaçao', 'curds', 'cured meats', 'cured pork', 'curing salt', 'curly endive', 'curly leaf spinach', 'curly parsley', 'curly-leaf parsley', 'currant', 'curry', 'custard', 'cutlet', 'cuttlefish', 'daal', 'daikon', 'daiya', 'dal', 'dandelion', 'dangmyun', 'darjeeling tea leaves', 'dark crème de cacao', 'dark lager', 'dark leafy greens', 'dark meat', 'dark miso', 'dark molasses', 'dark muscovado sugar', 'dark rum', 'dark rye flour', 'dark sesame oil', 'dark soy', 'dark turkey meat', 'dasheen', 'dashi', 'date molasses', 'date sugar', 'dates', 'decorating sugars', 'deep-fried tofu', 'delallo extra virgin olive oil', 'delallo penne ziti', 'deli ham', 'deli rolls', 'delicata squash', 'demerara sugar', 'demi-glace', 'dende oil', 'dessert wine', 'deveined shrimp', 'deviled ham', 'dhal', 'dhaniya powder', 'diamond crystal® kosher salt', 'diced ham', 'diced lamb', 'diced mushrooms', 'diced onions', 'diced pimentos', 'diced potatoes', 'diced red onions', 'diced tomatoes', 'diced yellow onion', 'diet dr. pepper', 'digestive biscuit', 'dijon', 'dill', 'dinner rolls', 'dip mix', 'dipping sauces', 'disco empanada frozen', 'distilled malt vinegar', 'distilled vinegar', 'ditalini', 'do chua', 'doenzang', 'dole seven lettuces', 'doritos', 'doubanjiang', 'double concentrate tomato paste', 'double-dark soi sauc', 'dough', 'dr pepper', 'dr. pepper', 'dragon fruit', 'drambuie', 'dressing', 'dri fruit tropic', 'dri leav rosemari', 'dri leav thyme', 'dri oregano leaves, crush', 'dri thyme leaves, crush', 'dried apple', 'dried apricot', 'dried cascabel chile', 'dried cherry', 'dried chile', 'dried cloud ears', 'dried fettuccine', 'dried fig', 'dried fish flakes', 'dried fruit', 'dried hibiscus blossoms', 'dried kelp', 'dried lavender', 'dried leaves oregano', 'dried lentils', 'dried mango', 'dried minced garlic', 'dried minced onion', 'dried mint flakes', 'dried mission figs', 'dried mixed herbs', 'dried mushrooms', 'dried neem leaves', 'dried orange peel', 'dried oregano', 'dried oysters', 'dried pappardelle', 'dried parsley', 'dried pasta', 'dried peach', 'dried pear', 'dried pineapple', 'dried plum', 'dried porcini mushrooms', 'dried prawns', 'dried raspberry', 'dried rice noodles', 'dried rigatoni', 'dried rosemary', 'dried sage', 'dried sardines', 'dried scallops', 'dried shallots', 'dried shiitake mushrooms', 'dried shrimp', 'dried soba', 'dried split peas', 'dried tagliatelle', 'dried tarragon leaves', 'dried thyme', 'dried tomatoes', 'dried udon', 'dried wood ear mushrooms', 'drippings', 'drum', 'dry fettuccine', 'dry gin', 'dry jack', 'dry lasagna', 'dry milk powder', 'dry mustard', 'dry pasta', 'dry red wine', 'dry roasted peanuts', 'dry rub', 'dry sherry', 'dry vermouth', 'dry white wine', 'dry yeast', 'duck', 'dukkah', 'dulce de leche', 'dulong', 'dumpling skins', 'dumpling wrappers', 'dumplings', 'durum wheat flour', 'duxelles', 'e-fu noodl', 'earl grey tea bags', 'earl grey tea leaves', 'ears', 'eating apple', 'eau de vie', 'edam', 'edible flowers', 'edible gold leaf', 'eel', 'egg beaters', 'egg noodles', 'egg pasta', 'egg roll skins', 'egg roll wrappers', 'egg roll wraps', 'egg substitute', 'egg whites', 'egg yolks', \"eggland's best® eggs\", 'eggnog', 'eggplant', 'eggroll wrappers', 'eggs', 'elbow macaroni', 'elbow pasta', 'elderflower cordial', 'elmlea single', 'emerils original essence', 'emmenthal', 'empanada', 'enchilada sauce', 'endive', 'energy drink', 'english breakfast tea', 'english muffins', 'english mustard', 'english toffee bits', 'english walnuts', 'enokitake', 'enriched white rice', 'epazote', 'equal sweetener', 'erythritol', 'escargot', 'escarole', 'espresso', 'essence', 'estancia pinot noir', 'evapor low-fat milk', 'evaporated cane juice', 'evaporated low-fat 2% milk', 'evaporated milk', 'evaporated skim milk', 'everglades seasoning', 'extra', 'eye of round roast', 'eye of round steak', 'eye of the round', 'eye steaks', 'fajita seasoning mix', 'fajita size flour tortillas', 'falafel', 'farfalline', 'farina', 'farofa', 'farro', 'fast rising yeast', 'fat', 'fedelini', 'feet', 'fennel', 'fenugreek', 'fern', 'fettuccine pasta', 'fettuccine, cook and drain', 'fettucine', 'fiber one', 'ficelle', 'fideos', 'field lettuce', 'field peas', 'fig jam', 'figs', 'file powder', 'filet', 'fillet red snapper', 'fillet steaks', 'fillets', 'filling', 'filo', 'filé', 'fine grain salt', 'fine granulated sugar', 'fine salt', 'fine sea salt', 'finely chopped fresh parsley', 'fines herbes', 'fingerling', 'fino sherry', 'firm silken tofu', 'firm tofu', 'fish', 'five spice', 'five-spice powder', 'flageolet', 'flaked', 'flan', 'flat cut', 'flat iron steaks', 'flat leaf parsley', 'flat leaf spinach', 'flavored oil', 'flavored rice mix', 'flavored syrup', 'flavored vinegar', 'flavored vodka', 'flavored wine', 'flavoring', 'flax egg', 'flax seed meal', 'flax seeds', 'flaxseed', 'fleur de sel', 'flora cuisine', 'flora original', 'flora pro.activ', 'florets', 'flounder', 'flour', 'flower petals', 'focaccia', 'foccacia', 'foie gras', 'fontina', 'food colouring', 'food gel', 'food paste color', 'forest fruit', 'forest mushroom', 'fowl', 'framboise eau-de-vie', 'framboise liqueur', 'frangelico', 'frangipane', 'frankfurters', 'franks', 'free range egg', 'fregola', 'french fri frozen', 'french fried onions', 'french fries', 'french lentils', 'french mustard', 'french onion soup', 'french rolls', 'french sandwich rolls', 'french style sandwich rolls', 'french toast', 'fresca', 'fresh bean', 'fresh chevre', 'fresh chile', 'fresh fava bean', 'fresh ginger', 'fresh green bean', 'fresh green peas', 'fresh ham', 'fresh herbs', 'fresh lavender', 'fresh leav spinach', 'fresh lemon', 'fresh lime', 'fresh marjoram', 'fresh masa', 'fresh mint', 'fresh mozzarella', 'fresh mushrooms', 'fresh onion', 'fresh orange', 'fresh oregano', 'fresh parsley', 'fresh pasta', 'fresh peas', 'fresh pineapple', 'fresh poblano pepper', 'fresh prawn', 'fresh rosemary', 'fresh sage', 'fresh salmon', 'fresh shiitake mushrooms', 'fresh spinach', 'fresh tarragon', 'fresh thyme', 'fresh tofu', 'fresh tomato salsa', 'fresh tomatoes', 'fresh tuna steaks', 'fresh turmeric', 'fresh udon', 'fresh veget', 'fresh white truffles', 'fresh yeast', 'freshly grated parmesan', 'freshly ground pepper', 'fresno pepper', 'fried garlic', 'fried rice', 'fried wonton strips', 'frisee', 'friselle', 'fritos', 'frogs legs', 'fromage blanc', 'fronds', 'frosting', 'frozen banana', 'frozen chopped spinach', 'frozen fruit', 'frozen garden peas', 'frozen hash browns', 'frozen lemonade concentrate', 'frozen limeade', 'frozen mango', 'frozen mashed potatoes', 'frozen meatballs', 'frozen mini ravioli', 'frozen mixed thawed vegetables,', 'frozen mixed vegetables', 'frozen okra', 'frozen onion rings', 'frozen orange juice concentrate', 'frozen pastry puff sheets', 'frozen peach slices', 'frozen peaches', 'frozen peas', 'frozen peppers and onions', 'frozen petit pois', 'frozen potatoes', 'frozen ravioli', 'frozen seafood', 'frozen spinach', 'frozen spring roll wrappers', 'frozen stir fry vegetable blend', 'frozen sweet peas', 'frozen tater tots', 'frozen vegetables', 'frozen whip topping, thaw', 'frozen whipped topping', 'fructose', 'fruit', 'fry mix', 'fryers', 'frying oil', 'fudge brownie mix', 'fuji apple', 'fully cooked luncheon meat', 'furikake', 'fusilli', 'fuyu persimmons', 'gaeta olives', 'gai lan', 'galanga', 'galliano', 'game', 'ganache', 'garam masala', 'garbonzo bean', 'garden peas', 'gari', 'garlic', 'garnish', 'gelatin', 'gelato', 'gemelli', 'genmai miso', 'genoa salami', 'genoise', 'george dickel', 'german mustard', 'ghee', 'gherkins', 'giardiniera', 'giblet', 'gin', 'glace de viande', 'glass noodles', 'glaze', 'glucose', 'gluten', 'glutinous rice', 'gnocchetti sardi', 'gnocchi', 'goat', 'gobo root', 'gochugaru', 'gold potatoes', 'gold tequila', 'golden mushroom soup', 'golden raisins', 'golden syrup', 'golden zucchini', 'goma', 'goose', 'gorgonzola', 'gouda', 'gourmet garden oregano', 'gourmet garden parsley', 'goya hot sauce', 'goya sazon', 'grained', 'gran marnier', 'grana', 'grand marnier', 'granita', 'granola', 'granular no-calorie sucralose sweetener', 'granular sucrolose sweetener', 'granulated sugar', 'granulated tapioca', 'granulated white sugar', 'grape juice', 'grape leaves', 'grape tomatoes', 'grape vine leaves', 'grapes', 'grappa', 'grated carrot', 'grated horseradish', 'grated kefalotiri', 'grated lemon zest', 'grated nutmeg', 'grated orange', 'grated parmesan romano', 'grated pecorino', 'gravenstein apple', 'graviera', 'gravlax', 'gravy', 'gray salt', 'greater yam', 'greek feta', 'greek seasoning', 'greek style plain yogurt', 'greek style seasoning', 'greek yogurt', 'greek-style vinaigrette', 'green bellpepper', 'green chile', 'green giant™ sliced mushrooms', 'green gram', 'green grape', 'green leaf lettuce', 'green lentil', 'green mango', 'green olives', 'green onion bottoms', 'green onions', 'green papaya', 'green peas', 'green pepper', 'green pesto', 'green plantains', 'green pumpkin seeds', 'green split peas', 'green tea', 'green tomato relish', 'green tomatoes', 'greens', 'gremolata', 'grenadine', 'grill seasoning', 'grissini', 'grit quick', 'grits', 'ground bison', 'ground cashew', 'ground chile', 'ground hazelnuts', 'ground italian sausage', 'ground lamb', 'ground meat', 'ground mustard', 'ground nutmeg', 'ground nuts', 'ground oregano', 'ground paprika', 'ground peanut', 'ground pecans', 'ground pepper', 'ground poppy seed', 'ground pork', 'ground red pepper', 'ground roasted sichuan peppers', 'ground rosemary', 'ground round', 'ground sage', 'ground sausage', 'ground sichuan pepper', 'ground sirloin', 'ground sumac', 'ground thyme', 'ground tumeric', 'ground turkey', 'ground turmeric', 'ground veal', 'ground walnuts', 'ground white pepper', 'groundnut', 'grouper', 'guacamole', 'guajillo', 'guanabana', 'guava', 'guinea hens', 'guinness lager', 'gumbo', 'gyoza', 'habanero', 'habas', 'hachiya', 'haddock', 'hakusai', 'half & half', 'halibut', 'haloumi', 'ham', 'hand', 'hanger steak', 'hard salami', 'hard-boiled egg', 'haricots verts', 'harissa', 'harusame', 'hash brown', 'hatcho miso', 'havarti', 'hawaiian salt', 'hawaiian sweet rolls', 'hazelnut liqueur', 'hazelnut meal', 'hazelnut oil', 'hazelnuts', 'head on shrimp', 'hearts of palm', 'hearts of romaine', 'heeng', 'heinz ketchup', 'heinz tomato ketchup', 'heinz worcestershire sauce', 'heirloom squash', 'heirloom tomatoes', 'helix snails', \"hellmann' or best food light mayonnais\", \"hellmann' or best food real mayonnais\", \"hellmann''s light mayonnaise\", \"hellmann's® real mayonnaise\", 'hemp seeds', 'hen', 'herb seasoned stuffing', 'herb seasoning', 'herb vinegar', 'herbes de provence', 'herbs', 'herdez salsa', 'hero rolls', 'hibiscus', 'hickory smoke', 'hickory-flavored liquid smoke', 'hierba santa', 'hijiki', 'himalayan salt', 'hing (powder)', 'hoagi or roll', 'hoagie rolls', 'hoisin sauce', 'hoja santa', 'holland house white wine vinegar', 'hollandaise sauce', 'homemade meatballs', 'homemade stock', 'homemade vegetable stock', 'homemade yogurt', 'hominy', 'honey', 'hong kong-style noodles', 'hops', 'horseradish', 'hot cherry pepper', 'hot dog bun', 'hot dogs', 'hot fudge topping', 'hot italian pork sausage', 'hot italian sausages', 'hot italian turkey sausage', 'hot mustard', 'hot pepper', 'hot pork sausage', 'hot red pepper flakes', 'hot salsa', 'hot sauce', 'hot sausage', 'hot smoked paprika', 'hot spanish paprika', 'hot tea', 'hot water', 'hots', 'house seasoning', 'hubbard squash', 'huitlacoche', 'hummus', 'hyssop', 'ibarra', 'ic pop', 'ice', 'icing', 'idaho potatoes', 'idli', 'ikura', 'imitation seafood', 'instant oats', 'instant potato flakes', 'instant pudding mix', 'instant tapioca', 'instant tea powder', 'instant yeast', 'iodized salt', 'irish oats', 'irish whiskey', 'italian loaf', 'italian meatballs', 'italian parsley leaves', 'italian plum tomatoes', 'italian pork sausage', 'italian rolls', 'italian sauce', 'italian sausage', 'italian seasoning', 'italian style rolls', 'italian style seasoning', 'italian style stewed tomatoes', 'italian tomatoes', 'italian turkey sausage', 'italian vinaigrette', 'italian-style meatballs', 'jack', 'jagermeister liqueur', 'jaggery', 'jalape', 'jam', 'japanese mayonnaise', 'japanese mountain yam', 'japanese peanuts', 'japanese pumpkin', 'japanese radish', 'japanese soy sauce', 'japanese turnips', 'jarlsberg', 'jasmine', 'jeera', 'jelli strawberri', 'jello', 'jelly', 'jerk marinade', 'jerk paste', 'jerk rub seasoning', 'jerk sauce', 'jerk seasoning', 'jicama', 'jimmies', 'jimmy dean all natural regular pork sausage', 'jimmy dean pork sausage', 'johnsonville andouille', 'johnsonville hot & spicy breakfast links', 'johnsonville smoked sausage', 'jose cuervo', 'jujube', 'jumbo macaroni shells', 'jumbo pasta shells', 'jumbo shell pasta , cook and drain', 'jumbo shells', 'jumbo shrimp', 'kabocha squash', 'kabuli channa', 'kaffir lime', 'kahlua', 'kahlúa', 'kaiser rolls', 'kalamata', 'kalonji', 'kamaboko', 'kampyo', 'kangkong', 'kappa', 'karashi', 'karo', 'kasha', 'kashmiri chile', 'kasseri', 'kasu', 'katakuriko', 'katsuo bushi', 'kecap manis', 'keema', 'kefalotyri', 'kefir', 'kelp', 'ketchup', 'ketjap', 'kewpie mayonnaise', 'kewra', 'key lime', 'kha', 'khoa', 'kidney', 'kielbasa', 'kikkoman less sodium soy sauce', 'kikkoman oyster sauce', 'kikkoman soy sauce', 'kim chee', 'kim crawford sauvignon blanc', 'kimchi', 'kinchay', 'king oyster mushroom', 'king prawns', 'king salmon', 'kippers', 'kirsch', 'kiwi', 'klondike rose red skin potato', 'knoblauch', 'knockwurst', 'knorr chipotl minicub', 'knorr leek recip mix', 'knorr onion minicubes', 'knorr parslei minicub', 'knorr pasta side', 'knorr® pasta sides™ - alfredo', 'knorr® vegetable recipe mix', 'kochu chang', 'kochujang', 'kohlrabi', 'kokum', 'komatsuna', 'konbu', 'konnyaku', 'korean chile', 'korma paste', 'kosher salt', 'kosher wine', 'kraft mayonnaise', 'kraft sun dried tomato vinaigrette', 'kumquats', 'kung pao sauce', 'lady fingers', 'ladyfingers', 'lager', 'laksa paste', 'lamb', 'langoustines', 'lap cheong', 'lapsang', 'lard', 'large marshmallows', 'large sausage casing', 'large shrimp', 'large snails', 'large tomato', 'lasagna noodles', 'lasagna sheets', 'lasagne', 'laurel leaves', 'lavash', 'lavender', 'lea & perrins worcestershire sauce', 'leaf lettuce', 'leaf parsley', 'lean steak', 'leaves', 'lecithin', 'leek tops', 'leeks', 'leftover meat', 'leftover steak', 'leg of veal', 'leg quarters', 'legumes', 'lemon', 'lentilles du puy', 'lentils', 'less sodium mushroom flavored soy sauce', 'less sodium soy sauce', 'lettuce', 'licor 43', 'light mayonnaise', 'light molasses', 'light rum', 'light soy sauce', 'light tuna', 'lillet', 'lily buds', 'lily flowers', 'lime', 'limoncello', 'linguica', 'linguine', 'linguini', 'linguisa', 'links', 'lipton onion soup mix', 'lipton recip secret golden onion soup mix', 'lipton tea bags', 'lipton® recipe secrets® onion soup mix', 'liqueur', 'liquid', 'liquor', 'liver', 'lo bok', 'lo mein noodles', 'loaves', 'lobster', 'loin', 'london broil', 'long green', 'long pasta', 'long pepper', 'longan', 'lop chong', 'lotus roots', 'lotus seed paste', 'lotus seeds', 'low moisture mozzarella', 'low sodium salt', 'low sodium soy sauce', 'low sodium stock', 'low sodium taco seasoning', 'low sodium teriyaki sauce', 'low sodium tomato', 'low sodium vegetable stock', 'low sodium worcestershire sauce', 'lower sodium soy sauce', 'lox', 'luke warm water', 'lumpia skins', 'lumpia wrappers', 'luncheon meat', 'lychees', 'maca powder', 'macadamia nuts', 'macaroni', 'macarons', 'mace', 'mackerel', 'madeira', 'madeleine', 'maggi', 'mahlab', 'maifun', 'maitake mushrooms', 'makers mark whisky', 'maldon sea salt', 'malt', 'mandarin orange segments', 'mandarin oranges', 'mango', 'manicotti', 'manischewitz matzo meal', 'manischewitz potato starch', 'manouri', 'mantou', 'manzanilla', 'maple sugar', 'maple syrup', 'maraschino', 'margherita pepperoni', 'marinade', 'marinara sauce', 'marjoram', 'marmalade', 'marmite', 'marrons', 'marrow', 'marsala wine', 'marshmallow creme', 'marshmallow fluff', 'marshmallow vodka', 'marshmallows', 'marzipan', 'masa', 'mashed banana', 'mashed potatoes', 'matcha', 'matsutake mushrooms', 'mature cheddar', 'matzo meal', 'matzos', 'maui onion', 'mayonaise', 'mccormick parsley flakes', 'mccormick poppy seed', 'mccormick taco seasoning', 'meal', 'meat', 'medium potatoes', 'medium salsa', 'medium shrimp', 'medium tomatoes', 'medium whole wheat tortillas', 'medium zucchini', 'medjool date', 'mein', 'melba toast', 'melissa', 'mellow white miso', 'melon', 'mentaiko', 'mentsuyu', 'merguez sausage', 'meringue', 'merlot', 'merluza', 'mesclun', 'mesquite flavored seasoning mix', 'mesquite seasoning', 'methi', 'mexican cooking sauce', 'mexican oregano', 'mexican seasoning mix', 'mezcal', 'mi', 'mo hanh', 'mo qua', 'mochi', 'molasses', 'mole paste', 'mole poblano', 'mole sauce', 'montreal steak seasoning', 'mooli', 'moonshine', 'moose', 'morcilla', 'morel', 'moroccan seasoning', 'morsels', 'mortadella', 'morton salt', 'mostaccioli', 'mostarda', 'mountain dew soda', 'mousse', 'mozzarella balls', 'mrs. dash', 'msg', 'muenster', 'muesli', 'muffin', 'mullet', 'multi-grain penne pasta', 'mung bean noodles', 'mung bean sprouts', 'muscadet', 'muscat', 'muscovado sugar', 'muscovy', 'mushroom caps', 'mushroom powder', 'mushroom soup', 'mushroom soy sauce', 'mushrooms', 'mussels', 'mustard', 'mutton', 'myzithra', 'naan', 'nam pla', 'nam prik', 'nama shoyu', 'nashi', 'natto', 'natural pistachios', 'natural sugar', 'natural yogurt', 'navel oranges', 'nectarines', 'neufchâtel', 'neutral oil', 'new mexico chile pods', 'new potatoes', 'new york strip steaks', 'new york style panetini® toasts', 'ngo gai', 'nian gao', 'nigella seeds', 'nilla wafers', 'niçoise olives', 'no-calorie sweetener', 'non dairy yogurt', 'non stick spray', 'nondairy whipped topping', 'nonpareils', 'nonstick spray', 'noodles', 'nopalitos', 'nori', 'nuoc mam', 'nuoc nam', 'nut oil', 'nutella', 'nutmeg', 'nutritional yeast', 'nuts', 'oat bran', 'oat groats', 'oats', 'ocean perch', 'octopuses', 'ogura-an', 'oil', 'okra', 'old bay seasoning', 'oleo', 'oliv pit ripe', 'olive tapenade', 'olives', 'oloroso sherry', 'onion flakes', 'onion powder', 'onion rings', 'onion salt', 'onion soup', 'onion tops', 'onions', 'opo squash', 'orange', 'orchid', 'orecchiette', 'oregano', 'organic soy sauce', 'organic sugar', 'organic tomato', 'organic vegetable stock', 'orgeat syrup', 'oriental radish', 'ortega tostada shells', 'orzo', 'other', 'ouzo', 'ox tongue', 'oxtails', 'oyster sauce', 'oyster-flavor sauc', 'oysters', 'paccheri', 'pace picante sauce', 'padron peppers', 'pain au levain', 'pak choi', 'palm sugar', 'palm vinegar', 'pancetta', 'panch phoran', 'pancit', 'pandanus leaf', 'pane di casa', 'paneer', 'panela', 'panettone', 'pangasius', 'panko', 'pansies', 'papad', 'papalo', 'papaya', 'pappadams', 'pappardelle', 'paprika', 'paratha', 'parmagiano reggiano', 'parsley', 'parsnips', 'part-skim mozzarella', 'pasilla', 'passata', 'passover wine', 'pasta', 'paste tomato', 'pastina', 'pastis', 'pastry', 'patis', 'pattypan squash', 'pea pods', 'pea shoots', 'peach nectar', 'peach preserves', 'peach purée', 'peach salsa', 'peach schnapps', 'peach sorbet', 'peach vodka', 'peaches', 'peanut brittle', 'peanut powder', 'peanut sauce', 'peapods', 'pear nectar', 'pear tomatoes', 'pearl tapioca', 'peas', 'pecan halves', 'pecan pie', 'pecans', 'pectin', 'penne', 'peperoncini', 'peperoncino', 'pepitas', 'peppadews', 'pepper', 'perciatelli', 'perilla', 'pernod', 'persimmon', 'pesto', 'petits pois', 'pheasant', 'philadelphia cooking creme', 'phyllo', 'picante sauce', 'picholine', 'pickapeppa sauce', 'pickle relish', 'pickle wedges', 'pickled onion', 'pickled radish', 'pickled vegetables', 'pickles', 'pickling salt', 'pico de gallo', 'pie shell', 'pierogi', 'pies', 'pig', 'pike', 'piloncillo', 'pilsner', \"piment d'espelette\", 'piment despelette', 'pimenton', 'pimentos', 'pineapple', 'pink food coloring', 'pink lady apple', 'pink lentil', 'pink salmon', 'pink salt', 'pinot blanc', 'pinot grigio', 'pinot noir', 'piri-piri sauce', 'pisco', 'pistachios', 'pistou', 'pita pockets', 'pita rounds', 'pita wedges', 'pita wraps', 'pitas', 'pitted date', 'pitted prunes', 'pizza sauce', 'pizza seasoning', 'pizza shells', 'pizza toppings', 'plain seltzer', 'plain soy yogurt', 'plain yogurt', 'plantains', 'plum sauce', 'plum tomatoes', 'plum wine', 'plums', 'poblano', 'poha', 'poi', 'polenta', 'polish sausage', 'pollock', 'pomelo', 'ponzu', 'poolish', 'poppadoms', 'poppy seeds', 'poppyseeds', 'porcini', 'pork', 'port', 'posole', 'pot pie', 'pot roast', 'pot stickers', 'potato flakes', 'potato nuggets', 'potato rolls', 'potato starch', 'potatoes', 'potsticker wrappers', 'poultry', 'poured fondant', 'poussins', 'powdered sugar', 'powdered turmeric', 'pozole', 'praline', 'prawns', 'prepar salsa', 'preserv raspberri seedless', 'preserves', 'pressed tofu', 'prime rib', 'prosciutto', 'proscuitto', 'prosecco', 'protein powder', 'prune puree', 'prunes', 'psyllium husks', 'pudding', 'puff paste', 'pullman loaf', 'pummelo', 'pumpernickel', 'pumpkin', 'pure acai puree', 'pure vanilla', 'purple onion', 'pâte brisée', 'pâté', 'quail', 'queso anejo', 'queso blanco', 'queso fresco', 'queso manchego', 'quick yeast', 'quick-cooking tapioca', 'quince paste', 'quinces', 'quinoa', \"quorn chik''n tenders\", 'rabbit', 'raclette', 'radicchio', 'radish sprouts', 'radishes', 'ragu', 'rainbow trout', 'raisins', 'raita', 'rajma', 'raki', 'ramen', 'ramps', 'ranch dip', 'ranch-style seasoning', 'rape', 'rapid rise yeast', 'ras el hanout', 'raspberry puree', 'raspberry sauce', 'raspberry sherbet', 'raspberry vinegar', 'ratatouille', 'ravioli', 'ravva', 'raw almond', 'raw cashews', 'raw prawn', 'raw sugar', 'raw tiger prawn', 'reblochon', 'red', 'refined sugar', 'refrigerated fettuccine', 'regular soy sauce', 'regular sugar', 'regular tofu', 'relish', 'remoulade', 'rennet', 'reposado', 'rhubarb', 'rib', 'ricard', 'rich turkey stock', 'ricotta', 'riesling', 'rigatoni', 'rioja', 'riso', 'roast', 'robert mondavi fume blanc', 'robiola', 'rock salt', 'rock shrimp', 'rock sugar', 'roe', 'rolls', 'roma tomatoes', 'romana', 'rooster', 'root vegetables', 'roquefort', 'rose hip tea bags', 'rose petals', 'rose water', 'rosemary', 'rosewater', 'rosé wine', 'rotel tomatoes', 'rotelle', 'roti', 'rouille', 'round loaf', 'round steaks', 'rounds', 'roux', 'rub', 'rum', 'rusk', 'russet', 'rutabaga', 'rye', 'saba', 'sack', 'safflower', 'saffron', 'sage', 'sago', 'sake', 'saki', 'salad', 'salmon', 'salsa', 'salsify', 'salt', 'sambuca', 'samphire', 'san marzano tomatoes', 'sanding sugar', 'sandwich steak', 'sandwich wraps', 'sandwiches', 'sangiovese', 'sangria', 'sansho', 'sardines', 'sato imo', 'satsuma imo', 'satsumas', 'sauce', 'sauerkraut', 'sauterne', 'sauvignon blanc', 'savoiardi', 'savory', 'savoy spinach', 'sazon', 'scallions', 'scallops', 'schnapps', 'scotch', 'scrod', 'sea bream', 'seafood', 'seasoning', 'seaweed', 'seeds', 'seitan', 'seltzer', 'semolina', 'serrano', 'sesame', 'shallots', 'shank half', 'shanks', 'shao hsing wine', 'shaoxing', 'shark', 'sheepshead', 'shell steak', 'shell-on shrimp', 'shelled shrimp', 'shells', 'sherbet', 'sherry', 'shiitake', 'shirataki', 'shiraz', 'shishito chile', 'shiso', 'shoga', 'shortening', 'shoulder steak', 'shoyu', 'shrimp', 'shungiku', 'silken tofu', 'silver', 'simple syrup', 'skate', 'skirt steak', 'slaw', 'small tomatoes', 'small yellow onion', 'smoked bratwurst', 'smoked hog jowl', 'smoked mozzarella', 'smoked rashers', 'smoked trout', 'smoked turkey', 'snails', 'snapper head', 'snappers', 'snaps', 'soba', 'sobrasada', 'soda', 'sofrito', 'soft tofu', 'sole', 'solid white tuna', 'somen', 'sooji', 'soppressata', 'sorbet', 'sorghum', 'sorrel', 'soup', 'soursop', 'southern comfort', 'soy', 'spaghetti', 'spam', 'spanish onion', 'sparkling sugar', 'sparkling wine', 'speck', 'spelt', 'spicy mayonnaise', 'spinach', 'splenda', 'sponge', 'spring roll skins', 'spring roll wrappers', 'spring water', 'spring! water', 'sprinkles', 'sprite', 'sprouts', 'squabs', 'squash', 'squid', 'squirt', 'sriracha', 'starch', 'steak', 'steamer', 'stellette', 'stevia', 'stew', 'stilton', 'stir fry vegetable blend', 'stock', 'stolichnaya', 'stone flower', 'stout', 'strained yogurt', 'strawberry syrup', 'strawberry yogurt', 'strozzapreti', 'stuffing', 'sturgeon', 'sucanat', 'sucralose sweetener', 'suet', 'sugar', 'sultana', 'sumac', 'sunchokes', 'sundae syrup', 'sundried tomato paste', 'sunflower kernels', 'sushi grade tuna', 'sushi vinegar', 'swede', 'sweet gherkin', 'sweet onion', 'sweet pickle', 'sweet tea', 'sweet vermouth', 'sweet white wine', 'sweetener', 'swiss', 'syrup', 'table wine', 'taco toppings', 'tagliarini', 'tagliatelle', 'tallow', 'tamari tamari', 'tamarind', 'tandoori paste', 'tangelos', 'tangerine', 'tap water', 'tapenade', 'tapioca', 'tarama', 'taro', 'tarragon', 'tart', 'tasso', 'tater tots', 'tatsoi', 'tea bags', 'teardrop tomatoes', 'teas', 'teff', 'teleme', 'tempeh', 'tentacles', 'tequila', 'thai chile', 'thickeners', 'thyme', 'tiger prawn', 'tikka paste', 'tilapia', 'toast', 'tobiko', 'toffee bits', 'tofu', 'togarashi', 'tokyo negi', 'tom yum paste', 'tomate verde', 'tomatillos', 'tomato paste', 'tomato purée', 'tomatoes', 'tongue', 'tonic water', 'topping', 'torn romain lettuc leav', 'tortellini', 'tortelloni', 'tortilla wraps', 'tortillas', 'tostadas', 'tostitos', 'treacle', 'treviso', 'tri tip', 'tripe', 'triple sec', 'triscuits', 'trout', 'truffle puree', 'truffles', 'truvía® baking blend', 'tuaca', 'tubetti', 'tumeric', 'tuna', 'tuong', 'turbinado', 'turbot', 'turkey', 'turmeric root', 'turnips', 'turtle', 'tvp', 'twists', 'tzatziki', 'udon', 'ume plum vinegar', 'umeboshi', 'unagi', 'uncle bens', 'uncooked ziti', 'uni', 'v8', 'val', 'vanilla', 'veal', 'vegan mayonnaise', 'vegan yogurt', 'vegetables', 'veggie patties', 'veggies', 'velveeta', 'venison', 'verjus', 'vermouth', 'vin santo', 'vinaigrette', 'vinegar', 'violets', 'vodka', 'wafer', 'waffle', 'wakame', 'walnut halves', 'walnut pieces', 'warm water', 'wasabe', 'wasabi', 'water', 'wheat', 'whey', 'whiskey', 'white almond bark', 'white baking bar', 'white onion', 'white radish', 'white wine', 'white zinfandel', 'whole grain roll', 'whole snapper', 'wieners', 'wine', 'wish bone guacamol ranch dress', 'wish bone ranch dress', 'wish-bone', 'won ton skins', 'won ton wrappers', 'wondra', 'wonton skins', 'wonton wrappers', 'xanthan gum', 'xuxu', 'yam bean', 'yams', 'yeast', 'yellow food coloring', 'yellow onion', 'yellow tomato', 'yellowfin', 'yellowtail', 'yoghurt', 'yolk', 'yoplait', 'young nettle', 'yu choy', 'yuca', 'yucca', 'yukon gold', 'yuzu', \"za'atar\", 'zest', 'zinfandel', 'ziti', 'zucchini']\n"
     ]
    }
   ],
   "source": [
    "print(base_words)"
   ]
  },
  {
   "cell_type": "code",
   "execution_count": 280,
   "id": "638b56d5",
   "metadata": {},
   "outputs": [
    {
     "name": "stdout",
     "output_type": "stream",
     "text": [
      "['(    oz.) tomato sauce', '(   oz.) tomato paste', '(10 oz.) frozen chopped spinach', '(14 oz.) sweetened condensed milk', '(14.5 oz.) diced tomatoes', '(15 oz.) refried beans', '1% low-fat buttermilk', '1% low-fat chocolate milk', '1% low-fat cottage cheese', '1% low-fat milk', '2 1/2 to 3 lb. chicken, cut into serving pieces', '2% low fat cheddar chees', '2% low-fat cottage cheese', '2% lowfat greek yogurt', '2% milk shredded mozzarella cheese', '2% reduced-fat milk', '25% less sodium chicken broth', '33% less sodium cooked deli ham', '33% less sodium cooked ham', '33% less sodium ham', '33% less sodium smoked fully cooked ham', '40% less sodium taco seasoning', '7 up', '8 ounc ziti pasta, cook and drain', '95% lean ground beef', 'a taste of thai rice noodles', 'abalone', 'abbamele', 'absinthe', 'abura age', 'acai juice', 'accent', 'accompaniment', 'achiote', 'acini di pepe', 'ackee', 'acorn squash', 'active dry yeast', 'adobo', 'adzuki beans', 'agar', 'agave nectar', 'agave tequila', 'aged balsamic vinegar', 'aged cheddar cheese', 'aged gouda', 'aged manchego cheese', 'ahi', 'aioli', 'ajinomoto', 'ajwain', 'aka miso', 'alaskan king crab legs', 'alaskan king salmon', 'albacore', 'alcohol', 'ale', 'alfalfa sprouts', 'alfredo sauce', 'all beef hot dogs', 'all potato purpos', 'all purpose seasoning', 'all purpose unbleached flour', 'all-purpose flour', 'allspice', 'almond butter', 'almond extract', 'almond filling', 'almond flour', 'almond liqueur', 'almond meal', 'almond milk', 'almond oil', 'almond paste', 'almond syrup', 'almonds', 'aloe juice', 'alphabet pasta', 'alum', 'amaranth', 'amarena cherries', 'amaretti', 'amaretto', 'amba', 'amber', 'amchur', 'america', 'ammonium bicarbonate', 'amontillado sherry', 'ampalaya', 'anaheim chile', 'anasazi beans', 'ancho', 'and carrot green pea', 'and cook drain pasta ziti', 'and fat free half half', 'andouille chicken sausage', 'andouille sausage', 'andouille turkey sausages', 'angel food cake', 'angel hair', 'angled loofah', 'angostura bitters', 'angus', 'anise', 'anjou pears', 'annatto', 'any', 'aonori', 'apple brandy', 'apple butter', 'apple cider', 'apple jelly', 'apple juice', 'apple pie filling', 'apple pie spice', 'apple puree', 'apple schnapps', 'apple slice', 'apples', 'applewood smoked bacon', 'apricot brandy', 'apricot halves', 'apricot jam', 'apricot jelly', 'apricot nectar', 'apricot preserves', 'apricots', 'aquavit', 'arak', 'arame', 'arbol chile', 'arborio rice', 'arctic char', 'arepa flour', 'argo corn starch', 'arhar', 'armagnac', 'arrow root', 'arrowroot', 'artichok heart marin', 'artichoke bottoms', 'artichoke hearts', 'artichokes', 'artificial sweetener', 'artisan bread', 'arugula', 'asadero', 'asafetida', 'asafoetida', 'asakusa nori', 'ascorbic acid', 'asiago', 'asian', 'asparagus', 'aspic', 'assam', 'assorted fresh vegetables', 'asti spumante', 'atlantic cod fillets', 'atta', 'au jus gravy', 'au jus mix', 'avocado', 'awase miso', 'azteca flour tortillas', 'azuki bean', 'açai', 'baby back ribs', 'baby beets', 'baby bok choy', 'baby broccoli', 'baby carrots', 'baby corn', 'baby eggplants', 'baby gem lettuce', 'baby goat', 'baby greens', 'baby leaf lettuce', 'baby lima beans', 'baby okra', 'baby portobello mushrooms', 'baby potatoes', 'baby radishes', 'baby spinach', 'baby tatsoi', 'baby turnips', 'baby zucchini', 'bacardi', 'back bacon', 'back ribs', 'bacon', 'bagel chips', 'bagels', 'baguette', 'bai cai', 'baileys irish cream liqueur', 'baked beans', 'baked corn tortilla chips', 'baked ham', 'baked pita chips', 'baked pizza crust', 'baked tortilla chips', 'baking chocolate', 'baking mix', 'baking potatoes', 'baking powder', 'baking soda', 'baking spray', 'baking sugar', 'baking yeast', 'balm', 'balsamic reduction', 'balsamic vinaigrette', 'balsamic vinegar', 'balsamico bianco', 'bamboo shoots', 'banana blossom', 'banana bread', 'banana extract', 'banana flower', 'banana leaves', 'banana liqueur', 'banana peppers', 'banana puree', 'banana squash', 'bananas', 'banger', 'banh hoi', 'banh pho rice noodles', 'baobab fruit powder', 'barbecue rub', 'barbecue sauce', 'barbecue seasoning', 'barbecued pork', 'barilla', 'barley', 'barolo', 'barramundi fillets', 'bartlett pear', 'basa fillets', 'base', 'basil', 'basmati', 'bass', 'baton', 'batter', 'bawang goreng', 'bay leaf', 'bay leaves', 'bay scallops', 'bbq sauce', 'bbq seasoning', 'bean curd', 'bean dip', 'bean paste', 'bean sauce', 'bean soup', 'bean thread vermicelli', 'bean threads', 'beans', 'bear', 'beaten eggs', 'beau monde seasoning', 'beaujolais', 'bechamel', 'bee pollen', 'beef', 'beer', 'beet greens', 'beet juice', 'beets', 'belacan', 'belgian endive', 'bell pepper', 'beluga lentil', 'bengal gram', 'bengali 5 spice', 'beni shoga', 'benne seed', 'bermuda onion', 'berries', 'bertolli four chees rosa sauc', 'bertolli organic tradit sauc', 'bertolli vineyard premium collect marinara with burgundi wine sauc', 'bertolli vodka sauc made with fresh cream', 'bertolli® arrabbiata sauce', 'bertolli® classico olive oil', 'besan (flour)', \"best food's mayonnaise with lime juice\", 'best foods® real mayonnaise', 'betty crocker™ oatmeal cookie mix', 'beurre manié', 'bhaji', 'bhindi', 'bibb lettuce', 'bicarbonate of soda', 'biga', 'bigoli', 'bihon', 'bing cherries', 'bird chile', 'bird pepper', 'biryani masala', 'biscotti', 'biscuit dough', 'biscuit mix', 'biscuits', 'bisquick', 'bitter gourd', 'bitter melon', 'bitters', 'blacan', 'black', 'blade steak', 'blanched hazelnuts', 'blanco chees queso', 'blanco tequila', 'blood', 'blue cheese', 'blue corn tortilla chips', 'blue crabs', 'blue curaçao', 'blueberri preserv', 'blueberry pie filling', 'boar', 'bob evans italian sausage', 'bocconcini', 'boiled eggs', 'boiled ham', 'boiling onions', 'boiling potatoes', 'boiling water', 'bok choy', 'bolillo', 'bologna', 'bone broth', 'bone in', 'bone marrow', 'bone-in chicken', 'bone-in pork chops', 'bone-in ribeye steak', 'bone-in short ribs', 'boned duck breast halves', 'boned lamb shoulder', 'boned skinned duck breast halves', 'boneless center cut pork chops', 'boneless chicken', 'boneless chop pork', 'boneless chops', 'boneless chuck roast', 'boneless country pork ribs', 'boneless duck breast', 'boneless ham', 'boneless lamb', 'boneless magret duck breast halves', 'boneless moulard duck breast halves', 'boneless pork loin', 'boneless pork shoulder', 'boneless pork tenderloin', 'boneless rib eye steaks', 'boneless salmon fillets', 'boneless sirloin', 'boneless skin on chicken thighs', 'boneless skinless chicken', 'boneless skinless turkey breasts', 'boneless steak', 'boneless turkey breast', 'boneless veal shoulder', 'boneless, skinless chicken breast', 'bonito', 'boquerones', 'borage', 'bordelaise sauce', 'borlotti', 'bosc pears', 'boston butt', 'boston lettuce', 'bottle gourd', 'bottled chili sauce', 'bottled clam juice', 'bottled italian dressing', 'bottled lime juice', 'bottled low sodium salsa', 'bottom round', 'boudin', 'bouillon', 'bouquet', 'bourbon liqueur', 'bourbon whiskey', 'boursin', 'bow-tie pasta', 'bows', 'boy choy', 'braeburn apple', 'bragg liquid aminos', 'braggs liquid aminos', 'braising steak', 'bran flakes', 'branca menta', 'brandy', 'branston pickle', 'branzino', 'brats', 'brazil nuts', 'bread', 'breakfast sausage links', 'breakfast sausages', \"breakstone's sour cream\", 'breakstone’s sour cream', 'breast', 'bresaola', 'brewed coffee', 'brewed espresso', 'brewed tea', 'breyers® natural vanilla ice cream', 'brie cheese', 'brill', 'brine', 'brioche', 'brisket', 'broccoli', 'broiler', 'broth', 'brown beech mushrooms', 'brown butter', 'brown cardamom', 'brown chicken stock', 'brown gravy', 'brown hash potato', 'brown lentils', 'brown mushroom', 'brown mustard', 'brown rice', 'brown sauce', 'brown shrimp', 'brown sugar', 'brownie layer', 'brownies', 'browning', 'brussels sprouts', 'bucatini', 'buckwheat', 'budweiser', 'buffalo', 'bulb', 'bulgur', 'bulk italian sausag', 'buns', 'burdock', 'burger rolls', 'burger style crumbles', 'burgers', 'burgundy', 'burrata', 'burrito seasoning mix', 'burro banana', 'butter', 'button mushrooms', 'bâtarde', 'bénédictine', 'cabbage', 'cabernet', 'cacao nibs', 'cacao powder', 'cachaca', 'caciocavallo', 'cactus', 'caesar salad dressing', 'cajeta', 'cajun remoulade', 'cajun seasoning', 'cajun spice mix', 'cajun style stewed tomatoes', 'cajun-creole seasoning mix', 'cake', 'calabash', 'calabaza', 'calabrese sausage', 'calamansi', 'calamari', 'calamata olives', 'calf liver', 'california chile', 'calimyrna figs', 'callaloo', 'calvados', 'camembert', 'campanelle', 'campari', \"campbell's condensed cheddar cheese soup\", \"campbell's condensed cream of chicken soup\", \"campbell's condensed cream of mushroom soup\", \"campbell's condensed tomato soup\", 'candied cherries', 'candied chestnuts', 'candied citron peel', 'candied fruit', 'candied ginger', 'candied jalapeno', 'candied lemon peel', 'candied orange peel', 'candied peel', 'candied pineapple', 'candlenuts', 'candy', 'cane sugar', 'cane syrup', 'cane vinegar', 'canela', 'canned chicken', 'canned chipotles', 'canned chopped tomatoes', 'canned coconut milk', 'canned corn', 'canned jalapeno peppers', 'canned peas and carrots', 'canned salmon', 'canned snails', 'canned tomatoes', 'canned tuna', 'cannelloni', 'canning salt', 'cannoli shells', 'canola', 'cantal', 'canton noodles', 'capellini', 'capers', 'capicola', 'capocollo', 'capon', 'cappuccino', 'capsicum', 'cara cara orange', 'carambola', 'caraway', 'carbonated beverages', 'carbonated water', 'cardamom', 'cardamon', 'cardoons', 'caribbean jerk seasoning', 'carnaroli rice', 'carnation', 'carne asada', 'carne seca', 'carnitas', 'carp', 'carrot greens', 'carrot juice', 'carrot sticks', 'carrots', 'cashew chop unsalt', 'cashew milk', 'cashew nuts', 'casings', 'cassava', 'cassia cinnamon', 'cassis liqueur', 'castellane', 'castelvetrano olives', 'caster', 'catalina dressing', 'catfish', 'catsup', 'caul fat', 'cauliflower', 'cava', 'cavenders greek seasoning', 'caviar', 'cavolo nero', 'cayenne', 'ceci bean', 'celery', 'celtic salt', 'center cut loin pork chop', 'center cut pork chops', 'center cut pork loin chops', 'center cut pork roast', 'center-cut salmon fillet', 'century eggs', 'cereal', 'ceylon cinnamon', 'chaat masala', 'chai tea concentrate', 'challa', 'chambord', 'champagne', 'chana dal', 'channa dal', 'chanterelle', 'chapati flour', 'chapatti flour', 'char', 'chat masala', 'chateaubriand', 'chayotes', 'cheddar cheese', 'chees fresco queso', 'chees fresh mozzarella', 'chees mozzarella stick', 'cheese', 'chenpi', 'cherries', 'cherry coke', 'cherry gelatin', 'cherry juice', 'cherry peppers', 'cherry pie filling', 'cherry preserves', 'cherry syrup', 'cherry tomatoes', 'cherry vanilla ice cream', 'cherry vinegar', 'cherrystone clams', 'chervil', 'chestnut flour', 'chestnut mushrooms', 'chestnut purée', 'chestnut spread', 'chestnuts', 'chia seeds', 'chianti', 'chicken', 'chickpea flour', 'chickpeas', 'chicory', 'chiffonade', 'chilcostle chile', 'chile colorado', 'chile con queso', 'chile de arbol', 'chile negro', 'chile paste', 'chile pepper', 'chile piquin', 'chile powder', 'chile puree', 'chile sauce', 'chile verde', 'chilegarlic sauce', 'chiles', 'chili', 'chilled prosecco', 'chilled seltzer', 'chilli paste', 'chillies', 'chiltepín', 'chimichurri', 'chinese chives', 'chinese cinnamon', 'chinese duck sauce', 'chinese egg noodles', 'chinese eggplants', 'chinese five-spice powder', 'chinese ginger', 'chinese ham', 'chinese hot mustard', 'chinese jujubes', 'chinese leaf', 'chinese mustard', 'chinese noodles', 'chinese parsley', 'chinese pea pods', 'chinese pepper', 'chinese plum sauce', 'chinese radish', 'chinese red rice vinegar', 'chinese red vinegar', 'chinese rice vinegar', 'chinese rice wine', 'chinese roast pork', 'chinese rock sugar', 'chinese rose wine', 'chinese sausage', 'chinese sesame paste', 'chinese spinach', 'chinese turnip', 'chinese wheat noodles', 'chinese winter melon', 'chinkiang vinegar', 'chioggia', 'chip plain tortilla', 'chipotle', 'chips', 'chitterlings', 'chive blossoms', 'chives', 'cho-cho', 'chocolate', 'cholesterol free egg substitute', 'cholula hot sauce', 'chop fine pecan', 'chopmeat', 'chopped cilantro', 'chopped cooked ham', 'chopped cooked meat', 'chopped fresh herbs', 'chopped fresh mint', 'chopped fresh sage', 'chopped fresh thyme', 'chopped garlic', 'chopped ham', 'chopped hazelnuts', 'chopped leaves', 'chopped nuts', 'chopped onion', 'chopped parsley', 'chopped pecans', 'chopped potatoes', 'chopped tomatoes', 'chopped walnuts', 'chorizo', 'chourico', 'chow mein noodles', 'chowchow', 'choy sum', 'chrysanthemum', 'chuck', 'chuka soba noodles', 'chunk light tuna in water', 'chunky', 'chuno sauce', 'chutney', 'chèvre', 'cider', 'cilantro', 'cinnamon', 'cipollini', 'citric acid', 'citron', 'citrus', 'clam juice', 'clam sauce', 'clamato juice', 'clams', 'classico pasta sauce', 'claws', 'clear honey', 'clementine juice', 'clementine sections', 'clementines', 'clotted cream', 'cloud ear fungus', 'clove', 'club soda', 'coarse ground mustard', 'coarse kosher salt', 'coarse salt', 'coarse sea salt', 'coarse semolina', 'coarse sugar', 'coarse-grain salt', 'coca-cola', 'cockles', 'cocktail sauce', 'coco', 'cod', 'coffee', 'cognac', 'cointreau', 'coke', 'cola', 'cold cut', 'cold meatloaf', 'cold milk', 'cold water', 'cold-smoked salmon', 'cole slaw mix', 'coleslaw', 'collard green leaves', 'collard greens', 'collard leaves', 'collards', \"colman's mustard powder\", 'color food green', 'color food orang', 'comice pears', 'comino', 'compote', 'compressed yeast', 'conch', 'condensed cream', 'condensed french onion soup', 'condensed golden mushroom soup', 'condensed milk', 'condensed reduced fat reduced sodium cream of mushroom soup', 'condensed reduced fat reduced sodium tomato soup', 'condensed soup', 'condensed tomato soup', 'condiments', 'cones', 'confectioners sugar', 'confit', 'conger eel', 'conimex wok olie', 'conimex woksaus specials vietnamese gember knoflook', 'converted rice', 'cook egg hard', 'cooked beetroot', 'cooked deli ham', 'cooked fettuccini', 'cooked ham', 'cooked italian meatballs', 'cooked meat', 'cooked pumpkin', 'cooked quinoa', 'cooked rice', 'cooked rigatoni', 'cooked shrimp', 'cooked steak', 'cooked turkey', 'cooked vegetables', 'cooked vermicelli', 'cooked white rice', 'cooki vanilla wafer', 'cookie crumbs', 'cookies', 'cooking cream', 'cooking fat', 'cooking liquid', 'cooking oil', 'cooking salt', 'cooking sherry', 'cooking spray', 'cooking wine', 'cool whip', 'coriander', 'corkscrew pasta', 'corn', 'cotija', 'coulis', 'country crock calcium plus vitamin d', 'country crock honey spread', 'country crock® spread', 'country gravy', 'country ham', 'country loaf', 'couscous', \"cox's orange pippin\", 'crab', 'cracked wheat', 'cracker crumbs', 'cracker meal', 'crackers', 'cranberry juice', 'cranberry sauce', 'crawfish', 'crayfish', 'cream', 'crema', 'creme anglaise', 'creme de cacao', 'cremini', 'creole mustard', 'creole seafood seasoning', 'creole seasoning', 'creole spice mix', 'creole style seasoning', 'crepes', 'crescent dinner rolls', 'crescent rolls', 'cress', 'crimini mushrooms', 'crisco', 'crisps', 'croissant dough', 'croissants', 'cross rib roast', 'crosswise', 'crostini', 'crouton italian season', 'croutons', 'crumb crust', 'crumb topping', 'crumbled gorgonzola', 'crumbles', 'crumbs', 'crumpet', 'crushed garlic', 'crushed ice', 'crushed pineapple', 'crushed pistachio', 'crushed pretzels', 'crushed red pepper', 'crushed saltines', 'crushed tomatoes', 'crust', 'crystal hot sauce', 'crystallized ginger', 'crème de cassis', 'crème de framboise', 'crème de menthe', 'crème fraîche', 'cuban peppers', 'cube steaks', 'cubed ham', 'cubed mango', 'cubed meat', 'cubed pancetta', 'cubed potatoes', 'cubed pumpkin', 'cucumber', 'cucuzza', 'culantro', 'culinary lavender', 'cumberland sausage', 'cumin', 'cummin', 'curaçao', 'curds', 'cured meats', 'cured pork', 'curing salt', 'curly endive', 'curly leaf spinach', 'curly parsley', 'curly-leaf parsley', 'currant', 'curry', 'custard', 'cutlet', 'cuttlefish', 'daal', 'daikon', 'daiya', 'dal', 'dandelion', 'dangmyun', 'darjeeling tea leaves', 'dark crème de cacao', 'dark lager', 'dark leafy greens', 'dark meat', 'dark miso', 'dark molasses', 'dark muscovado sugar', 'dark rum', 'dark rye flour', 'dark sesame oil', 'dark soy', 'dark turkey meat', 'dasheen', 'dashi', 'date molasses', 'date sugar', 'dates', 'decorating sugars', 'deep-fried tofu', 'delallo extra virgin olive oil', 'delallo penne ziti', 'deli ham', 'deli rolls', 'delicata squash', 'demerara sugar', 'demi-glace', 'dende oil', 'dessert wine', 'deveined shrimp', 'deviled ham', 'dhal', 'dhaniya powder', 'diamond crystal® kosher salt', 'diced ham', 'diced lamb', 'diced mushrooms', 'diced onions', 'diced pimentos', 'diced potatoes', 'diced red onions', 'diced tomatoes', 'diced yellow onion', 'diet dr. pepper', 'digestive biscuit', 'dijon', 'dill', 'dinner rolls', 'dip mix', 'dipping sauces', 'disco empanada frozen', 'distilled malt vinegar', 'distilled vinegar', 'ditalini', 'do chua', 'doenzang', 'dole seven lettuces', 'doritos', 'doubanjiang', 'double concentrate tomato paste', 'double-dark soi sauc', 'dough', 'dr pepper', 'dr. pepper', 'dragon fruit', 'drambuie', 'dressing', 'dri fruit tropic', 'dri leav rosemari', 'dri leav thyme', 'dri oregano leaves, crush', 'dri thyme leaves, crush', 'dried apple', 'dried apricot', 'dried cascabel chile', 'dried cherry', 'dried chile', 'dried cloud ears', 'dried fettuccine', 'dried fig', 'dried fish flakes', 'dried fruit', 'dried hibiscus blossoms', 'dried kelp', 'dried lavender', 'dried leaves oregano', 'dried lentils', 'dried mango', 'dried minced garlic', 'dried minced onion', 'dried mint flakes', 'dried mission figs', 'dried mixed herbs', 'dried mushrooms', 'dried neem leaves', 'dried orange peel', 'dried oregano', 'dried oysters', 'dried pappardelle', 'dried parsley', 'dried pasta', 'dried peach', 'dried pear', 'dried pineapple', 'dried plum', 'dried porcini mushrooms', 'dried prawns', 'dried raspberry', 'dried rice noodles', 'dried rigatoni', 'dried rosemary', 'dried sage', 'dried sardines', 'dried scallops', 'dried shallots', 'dried shiitake mushrooms', 'dried shrimp', 'dried soba', 'dried split peas', 'dried tagliatelle', 'dried tarragon leaves', 'dried thyme', 'dried tomatoes', 'dried udon', 'dried wood ear mushrooms', 'drippings', 'drum', 'dry fettuccine', 'dry gin', 'dry jack', 'dry lasagna', 'dry milk powder', 'dry mustard', 'dry pasta', 'dry red wine', 'dry roasted peanuts', 'dry rub', 'dry sherry', 'dry vermouth', 'dry white wine', 'dry yeast', 'duck', 'dukkah', 'dulce de leche', 'dulong', 'dumpling skins', 'dumpling wrappers', 'dumplings', 'durum wheat flour', 'duxelles', 'e-fu noodl', 'earl grey tea bags', 'earl grey tea leaves', 'ears', 'eating apple', 'eau de vie', 'edam', 'edible flowers', 'edible gold leaf', 'eel', 'egg beaters', 'egg noodles', 'egg pasta', 'egg roll skins', 'egg roll wrappers', 'egg roll wraps', 'egg substitute', 'egg whites', 'egg yolks', \"eggland's best® eggs\", 'eggnog', 'eggplant', 'eggroll wrappers', 'eggs', 'elbow macaroni', 'elbow pasta', 'elderflower cordial', 'elmlea single', 'emerils original essence', 'emmenthal', 'empanada', 'enchilada sauce', 'endive', 'energy drink', 'english breakfast tea', 'english muffins', 'english mustard', 'english toffee bits', 'english walnuts', 'enokitake', 'enriched white rice', 'epazote', 'equal sweetener', 'erythritol', 'escargot', 'escarole', 'espresso', 'essence', 'estancia pinot noir', 'evapor low-fat milk', 'evaporated cane juice', 'evaporated low-fat 2% milk', 'evaporated milk', 'evaporated skim milk', 'everglades seasoning', 'extra', 'eye of round roast', 'eye of round steak', 'eye of the round', 'eye steaks', 'fajita seasoning mix', 'fajita size flour tortillas', 'falafel', 'farfalline', 'farina', 'farofa', 'farro', 'fast rising yeast', 'fat', 'fedelini', 'feet', 'fennel', 'fenugreek', 'fern', 'fettuccine pasta', 'fettuccine, cook and drain', 'fettucine', 'fiber one', 'ficelle', 'fideos', 'field lettuce', 'field peas', 'fig jam', 'figs', 'file powder', 'filet', 'fillet red snapper', 'fillet steaks', 'fillets', 'filling', 'filo', 'filé', 'fine grain salt', 'fine granulated sugar', 'fine salt', 'fine sea salt', 'finely chopped fresh parsley', 'fines herbes', 'fingerling', 'fino sherry', 'firm silken tofu', 'firm tofu', 'fish', 'five spice', 'five-spice powder', 'flageolet', 'flaked', 'flan', 'flat cut', 'flat iron steaks', 'flat leaf parsley', 'flat leaf spinach', 'flavored oil', 'flavored rice mix', 'flavored syrup', 'flavored vinegar', 'flavored vodka', 'flavored wine', 'flavoring', 'flax egg', 'flax seed meal', 'flax seeds', 'flaxseed', 'fleur de sel', 'flora cuisine', 'flora original', 'flora pro.activ', 'florets', 'flounder', 'flour', 'flower petals', 'focaccia', 'foccacia', 'foie gras', 'fontina', 'food colouring', 'food gel', 'food paste color', 'forest fruit', 'forest mushroom', 'fowl', 'framboise eau-de-vie', 'framboise liqueur', 'frangelico', 'frangipane', 'frankfurters', 'franks', 'free range egg', 'fregola', 'french fri frozen', 'french fried onions', 'french fries', 'french lentils', 'french mustard', 'french onion soup', 'french rolls', 'french sandwich rolls', 'french style sandwich rolls', 'french toast', 'fresca', 'fresh bean', 'fresh chevre', 'fresh chile', 'fresh fava bean', 'fresh ginger', 'fresh green bean', 'fresh green peas', 'fresh ham', 'fresh herbs', 'fresh lavender', 'fresh leav spinach', 'fresh lemon', 'fresh lime', 'fresh marjoram', 'fresh masa', 'fresh mint', 'fresh mozzarella', 'fresh mushrooms', 'fresh onion', 'fresh orange', 'fresh oregano', 'fresh parsley', 'fresh pasta', 'fresh peas', 'fresh pineapple', 'fresh poblano pepper', 'fresh prawn', 'fresh rosemary', 'fresh sage', 'fresh salmon', 'fresh shiitake mushrooms', 'fresh spinach', 'fresh tarragon', 'fresh thyme', 'fresh tofu', 'fresh tomato salsa', 'fresh tomatoes', 'fresh tuna steaks', 'fresh turmeric', 'fresh udon', 'fresh veget', 'fresh white truffles', 'fresh yeast', 'freshly grated parmesan', 'freshly ground pepper', 'fresno pepper', 'fried garlic', 'fried rice', 'fried wonton strips', 'frisee', 'friselle', 'fritos', 'frogs legs', 'fromage blanc', 'fronds', 'frosting', 'frozen banana', 'frozen chopped spinach', 'frozen fruit', 'frozen garden peas', 'frozen hash browns', 'frozen lemonade concentrate', 'frozen limeade', 'frozen mango', 'frozen mashed potatoes', 'frozen meatballs', 'frozen mini ravioli', 'frozen mixed thawed vegetables,', 'frozen mixed vegetables', 'frozen okra', 'frozen onion rings', 'frozen orange juice concentrate', 'frozen pastry puff sheets', 'frozen peach slices', 'frozen peaches', 'frozen peas', 'frozen peppers and onions', 'frozen petit pois', 'frozen potatoes', 'frozen ravioli', 'frozen seafood', 'frozen spinach', 'frozen spring roll wrappers', 'frozen stir fry vegetable blend', 'frozen sweet peas', 'frozen tater tots', 'frozen vegetables', 'frozen whip topping, thaw', 'frozen whipped topping', 'fructose', 'fruit', 'fry mix', 'fryers', 'frying oil', 'fudge brownie mix', 'fuji apple', 'fully cooked luncheon meat', 'furikake', 'fusilli', 'fuyu persimmons', 'gaeta olives', 'gai lan', 'galanga', 'galliano', 'game', 'ganache', 'garam masala', 'garbonzo bean', 'garden peas', 'gari', 'garlic', 'garnish', 'gelatin', 'gelato', 'gemelli', 'genmai miso', 'genoa salami', 'genoise', 'george dickel', 'german mustard', 'ghee', 'gherkins', 'giardiniera', 'giblet', 'gin', 'glace de viande', 'glass noodles', 'glaze', 'glucose', 'gluten', 'glutinous rice', 'gnocchetti sardi', 'gnocchi', 'goat', 'gobo root', 'gochugaru', 'gold potatoes', 'gold tequila', 'golden mushroom soup', 'golden raisins', 'golden syrup', 'golden zucchini', 'goma', 'goose', 'gorgonzola', 'gouda', 'gourmet garden oregano', 'gourmet garden parsley', 'goya hot sauce', 'goya sazon', 'grained', 'gran marnier', 'grana', 'grand marnier', 'granita', 'granola', 'granular no-calorie sucralose sweetener', 'granular sucrolose sweetener', 'granulated sugar', 'granulated tapioca', 'granulated white sugar', 'grape juice', 'grape leaves', 'grape tomatoes', 'grape vine leaves', 'grapes', 'grappa', 'grated carrot', 'grated horseradish', 'grated kefalotiri', 'grated lemon zest', 'grated nutmeg', 'grated orange', 'grated parmesan romano', 'grated pecorino', 'gravenstein apple', 'graviera', 'gravlax', 'gravy', 'gray salt', 'greater yam', 'greek feta', 'greek seasoning', 'greek style plain yogurt', 'greek style seasoning', 'greek yogurt', 'greek-style vinaigrette', 'green bellpepper', 'green chile', 'green giant™ sliced mushrooms', 'green gram', 'green grape', 'green leaf lettuce', 'green lentil', 'green mango', 'green olives', 'green onion bottoms', 'green onions', 'green papaya', 'green peas', 'green pepper', 'green pesto', 'green plantains', 'green pumpkin seeds', 'green split peas', 'green tea', 'green tomato relish', 'green tomatoes', 'greens', 'gremolata', 'grenadine', 'grill seasoning', 'grissini', 'grit quick', 'grits', 'ground bison', 'ground cashew', 'ground chile', 'ground hazelnuts', 'ground italian sausage', 'ground lamb', 'ground meat', 'ground mustard', 'ground nutmeg', 'ground nuts', 'ground oregano', 'ground paprika', 'ground peanut', 'ground pecans', 'ground pepper', 'ground poppy seed', 'ground pork', 'ground red pepper', 'ground roasted sichuan peppers', 'ground rosemary', 'ground round', 'ground sage', 'ground sausage', 'ground sichuan pepper', 'ground sirloin', 'ground sumac', 'ground thyme', 'ground tumeric', 'ground turkey', 'ground turmeric', 'ground veal', 'ground walnuts', 'ground white pepper', 'groundnut', 'grouper', 'guacamole', 'guajillo', 'guanabana', 'guava', 'guinea hens', 'guinness lager', 'gumbo', 'gyoza', 'habanero', 'habas', 'hachiya', 'haddock', 'hakusai', 'half & half', 'halibut', 'haloumi', 'ham', 'hand', 'hanger steak', 'hard salami', 'hard-boiled egg', 'haricots verts', 'harissa', 'harusame', 'hash brown', 'hatcho miso', 'havarti', 'hawaiian salt', 'hawaiian sweet rolls', 'hazelnut liqueur', 'hazelnut meal', 'hazelnut oil', 'hazelnuts', 'head on shrimp', 'hearts of palm', 'hearts of romaine', 'heeng', 'heinz ketchup', 'heinz tomato ketchup', 'heinz worcestershire sauce', 'heirloom squash', 'heirloom tomatoes', 'helix snails', \"hellmann' or best food light mayonnais\", \"hellmann' or best food real mayonnais\", \"hellmann''s light mayonnaise\", \"hellmann's® real mayonnaise\", 'hemp seeds', 'hen', 'herb seasoned stuffing', 'herb seasoning', 'herb vinegar', 'herbes de provence', 'herbs', 'herdez salsa', 'hero rolls', 'hibiscus', 'hickory smoke', 'hickory-flavored liquid smoke', 'hierba santa', 'hijiki', 'himalayan salt', 'hing (powder)', 'hoagi or roll', 'hoagie rolls', 'hoisin sauce', 'hoja santa', 'holland house white wine vinegar', 'hollandaise sauce', 'homemade meatballs', 'homemade stock', 'homemade vegetable stock', 'homemade yogurt', 'hominy', 'honey', 'hong kong-style noodles', 'hops', 'horseradish', 'hot cherry pepper', 'hot dog bun', 'hot dogs', 'hot fudge topping', 'hot italian pork sausage', 'hot italian sausages', 'hot italian turkey sausage', 'hot mustard', 'hot pepper', 'hot pork sausage', 'hot red pepper flakes', 'hot salsa', 'hot sauce', 'hot sausage', 'hot smoked paprika', 'hot spanish paprika', 'hot tea', 'hot water', 'hots', 'house seasoning', 'hubbard squash', 'huitlacoche', 'hummus', 'hyssop', 'ibarra', 'ic pop', 'ice', 'icing', 'idaho potatoes', 'idli', 'ikura', 'imitation seafood', 'instant oats', 'instant potato flakes', 'instant pudding mix', 'instant tapioca', 'instant tea powder', 'instant yeast', 'iodized salt', 'irish oats', 'irish whiskey', 'italian loaf', 'italian meatballs', 'italian parsley leaves', 'italian plum tomatoes', 'italian pork sausage', 'italian rolls', 'italian sauce', 'italian sausage', 'italian seasoning', 'italian style rolls', 'italian style seasoning', 'italian style stewed tomatoes', 'italian tomatoes', 'italian turkey sausage', 'italian vinaigrette', 'italian-style meatballs', 'jack', 'jagermeister liqueur', 'jaggery', 'jalape', 'jam', 'japanese mayonnaise', 'japanese mountain yam', 'japanese peanuts', 'japanese pumpkin', 'japanese radish', 'japanese soy sauce', 'japanese turnips', 'jarlsberg', 'jasmine', 'jeera', 'jelli strawberri', 'jello', 'jelly', 'jerk marinade', 'jerk paste', 'jerk rub seasoning', 'jerk sauce', 'jerk seasoning', 'jicama', 'jimmies', 'jimmy dean all natural regular pork sausage', 'jimmy dean pork sausage', 'johnsonville andouille', 'johnsonville hot & spicy breakfast links', 'johnsonville smoked sausage', 'jose cuervo', 'jujube', 'jumbo macaroni shells', 'jumbo pasta shells', 'jumbo shell pasta , cook and drain', 'jumbo shells', 'jumbo shrimp', 'kabocha squash', 'kabuli channa', 'kaffir lime', 'kahlua', 'kahlúa', 'kaiser rolls', 'kalamata', 'kalonji', 'kamaboko', 'kampyo', 'kangkong', 'kappa', 'karashi', 'karo', 'kasha', 'kashmiri chile', 'kasseri', 'kasu', 'katakuriko', 'katsuo bushi', 'kecap manis', 'keema', 'kefalotyri', 'kefir', 'kelp', 'ketchup', 'ketjap', 'kewpie mayonnaise', 'kewra', 'key lime', 'kha', 'khoa', 'kidney', 'kielbasa', 'kikkoman less sodium soy sauce', 'kikkoman oyster sauce', 'kikkoman soy sauce', 'kim chee', 'kim crawford sauvignon blanc', 'kimchi', 'kinchay', 'king oyster mushroom', 'king prawns', 'king salmon', 'kippers', 'kirsch', 'kiwi', 'klondike rose red skin potato', 'knoblauch', 'knockwurst', 'knorr chipotl minicub', 'knorr leek recip mix', 'knorr onion minicubes', 'knorr parslei minicub', 'knorr pasta side', 'knorr® pasta sides™ - alfredo', 'knorr® vegetable recipe mix', 'kochu chang', 'kochujang', 'kohlrabi', 'kokum', 'komatsuna', 'konbu', 'konnyaku', 'korean chile', 'korma paste', 'kosher salt', 'kosher wine', 'kraft mayonnaise', 'kraft sun dried tomato vinaigrette', 'kumquats', 'kung pao sauce', 'lady fingers', 'ladyfingers', 'lager', 'laksa paste', 'lamb', 'langoustines', 'lap cheong', 'lapsang', 'lard', 'large marshmallows', 'large sausage casing', 'large shrimp', 'large snails', 'large tomato', 'lasagna noodles', 'lasagna sheets', 'lasagne', 'laurel leaves', 'lavash', 'lavender', 'lea & perrins worcestershire sauce', 'leaf lettuce', 'leaf parsley', 'lean steak', 'leaves', 'lecithin', 'leek tops', 'leeks', 'leftover meat', 'leftover steak', 'leg of veal', 'leg quarters', 'legumes', 'lemon', 'lentilles du puy', 'lentils', 'less sodium mushroom flavored soy sauce', 'less sodium soy sauce', 'lettuce', 'licor 43', 'light mayonnaise', 'light molasses', 'light rum', 'light soy sauce', 'light tuna', 'lillet', 'lily buds', 'lily flowers', 'lime', 'limoncello', 'linguica', 'linguine', 'linguini', 'linguisa', 'links', 'lipton onion soup mix', 'lipton recip secret golden onion soup mix', 'lipton tea bags', 'lipton® recipe secrets® onion soup mix', 'liqueur', 'liquid', 'liquor', 'liver', 'lo bok', 'lo mein noodles', 'loaves', 'lobster', 'loin', 'london broil', 'long green', 'long pasta', 'long pepper', 'longan', 'lop chong', 'lotus roots', 'lotus seed paste', 'lotus seeds', 'low moisture mozzarella', 'low sodium salt', 'low sodium soy sauce', 'low sodium stock', 'low sodium taco seasoning', 'low sodium teriyaki sauce', 'low sodium tomato', 'low sodium vegetable stock', 'low sodium worcestershire sauce', 'lower sodium soy sauce', 'lox', 'luke warm water', 'lumpia skins', 'lumpia wrappers', 'luncheon meat', 'lychees', 'maca powder', 'macadamia nuts', 'macaroni', 'macarons', 'mace', 'mackerel', 'madeira', 'madeleine', 'maggi', 'mahlab', 'maifun', 'maitake mushrooms', 'makers mark whisky', 'maldon sea salt', 'malt', 'mandarin orange segments', 'mandarin oranges', 'mango', 'manicotti', 'manischewitz matzo meal', 'manischewitz potato starch', 'manouri', 'mantou', 'manzanilla', 'maple sugar', 'maple syrup', 'maraschino', 'margherita pepperoni', 'marinade', 'marinara sauce', 'marjoram', 'marmalade', 'marmite', 'marrons', 'marrow', 'marsala wine', 'marshmallow creme', 'marshmallow fluff', 'marshmallow vodka', 'marshmallows', 'marzipan', 'masa', 'mashed banana', 'mashed potatoes', 'matcha', 'matsutake mushrooms', 'mature cheddar', 'matzo meal', 'matzos', 'maui onion', 'mayonaise', 'mccormick parsley flakes', 'mccormick poppy seed', 'mccormick taco seasoning', 'meal', 'meat', 'medium potatoes', 'medium salsa', 'medium shrimp', 'medium tomatoes', 'medium whole wheat tortillas', 'medium zucchini', 'medjool date', 'mein', 'melba toast', 'melissa', 'mellow white miso', 'melon', 'mentaiko', 'mentsuyu', 'merguez sausage', 'meringue', 'merlot', 'merluza', 'mesclun', 'mesquite flavored seasoning mix', 'mesquite seasoning', 'methi', 'mexican cooking sauce', 'mexican oregano', 'mexican seasoning mix', 'mezcal', 'mi', 'mo hanh', 'mo qua', 'mochi', 'molasses', 'mole paste', 'mole poblano', 'mole sauce', 'montreal steak seasoning', 'mooli', 'moonshine', 'moose', 'morcilla', 'morel', 'moroccan seasoning', 'morsels', 'mortadella', 'morton salt', 'mostaccioli', 'mostarda', 'mountain dew soda', 'mousse', 'mozzarella balls', 'mrs. dash', 'msg', 'muenster', 'muesli', 'muffin', 'mullet', 'multi-grain penne pasta', 'mung bean noodles', 'mung bean sprouts', 'muscadet', 'muscat', 'muscovado sugar', 'muscovy', 'mushroom caps', 'mushroom powder', 'mushroom soup', 'mushroom soy sauce', 'mushrooms', 'mussels', 'mustard', 'mutton', 'myzithra', 'naan', 'nam pla', 'nam prik', 'nama shoyu', 'nashi', 'natto', 'natural pistachios', 'natural sugar', 'natural yogurt', 'navel oranges', 'nectarines', 'neufchâtel', 'neutral oil', 'new mexico chile pods', 'new potatoes', 'new york strip steaks', 'new york style panetini® toasts', 'ngo gai', 'nian gao', 'nigella seeds', 'nilla wafers', 'niçoise olives', 'no-calorie sweetener', 'non dairy yogurt', 'non stick spray', 'nondairy whipped topping', 'nonpareils', 'nonstick spray', 'noodles', 'nopalitos', 'nori', 'nuoc mam', 'nuoc nam', 'nut oil', 'nutella', 'nutmeg', 'nutritional yeast', 'nuts', 'oat bran', 'oat groats', 'oats', 'ocean perch', 'octopuses', 'ogura-an', 'oil', 'okra', 'old bay seasoning', 'oleo', 'oliv pit ripe', 'olive tapenade', 'olives', 'oloroso sherry', 'onion flakes', 'onion powder', 'onion rings', 'onion salt', 'onion soup', 'onion tops', 'onions', 'opo squash', 'orange', 'orchid', 'orecchiette', 'oregano', 'organic soy sauce', 'organic sugar', 'organic tomato', 'organic vegetable stock', 'orgeat syrup', 'oriental radish', 'ortega tostada shells', 'orzo', 'other', 'ouzo', 'ox tongue', 'oxtails', 'oyster sauce', 'oyster-flavor sauc', 'oysters', 'paccheri', 'pace picante sauce', 'padron peppers', 'pain au levain', 'pak choi', 'palm sugar', 'palm vinegar', 'pancetta', 'panch phoran', 'pancit', 'pandanus leaf', 'pane di casa', 'paneer', 'panela', 'panettone', 'pangasius', 'panko', 'pansies', 'papad', 'papalo', 'papaya', 'pappadams', 'pappardelle', 'paprika', 'paratha', 'parmagiano reggiano', 'parsley', 'parsnips', 'part-skim mozzarella', 'pasilla', 'passata', 'passover wine', 'pasta', 'paste tomato', 'pastina', 'pastis', 'pastry', 'patis', 'pattypan squash', 'pea pods', 'pea shoots', 'peach nectar', 'peach preserves', 'peach purée', 'peach salsa', 'peach schnapps', 'peach sorbet', 'peach vodka', 'peaches', 'peanut brittle', 'peanut powder', 'peanut sauce', 'peapods', 'pear nectar', 'pear tomatoes', 'pearl tapioca', 'peas', 'pecan halves', 'pecan pie', 'pecans', 'pectin', 'penne', 'peperoncini', 'peperoncino', 'pepitas', 'peppadews', 'pepper', 'perciatelli', 'perilla', 'pernod', 'persimmon', 'pesto', 'petits pois', 'pheasant', 'philadelphia cooking creme', 'phyllo', 'picante sauce', 'picholine', 'pickapeppa sauce', 'pickle relish', 'pickle wedges', 'pickled onion', 'pickled radish', 'pickled vegetables', 'pickles', 'pickling salt', 'pico de gallo', 'pie shell', 'pierogi', 'pies', 'pig', 'pike', 'piloncillo', 'pilsner', \"piment d'espelette\", 'piment despelette', 'pimenton', 'pimentos', 'pineapple', 'pink food coloring', 'pink lady apple', 'pink lentil', 'pink salmon', 'pink salt', 'pinot blanc', 'pinot grigio', 'pinot noir', 'piri-piri sauce', 'pisco', 'pistachios', 'pistou', 'pita pockets', 'pita rounds', 'pita wedges', 'pita wraps', 'pitas', 'pitted date', 'pitted prunes', 'pizza sauce', 'pizza seasoning', 'pizza shells', 'pizza toppings', 'plain seltzer', 'plain soy yogurt', 'plain yogurt', 'plantains', 'plum sauce', 'plum tomatoes', 'plum wine', 'plums', 'poblano', 'poha', 'poi', 'polenta', 'polish sausage', 'pollock', 'pomelo', 'ponzu', 'poolish', 'poppadoms', 'poppy seeds', 'poppyseeds', 'porcini', 'pork', 'port', 'posole', 'pot pie', 'pot roast', 'pot stickers', 'potato flakes', 'potato nuggets', 'potato rolls', 'potato starch', 'potatoes', 'potsticker wrappers', 'poultry', 'poured fondant', 'poussins', 'powdered sugar', 'powdered turmeric', 'pozole', 'praline', 'prawns', 'prepar salsa', 'preserv raspberri seedless', 'preserves', 'pressed tofu', 'prime rib', 'prosciutto', 'proscuitto', 'prosecco', 'protein powder', 'prune puree', 'prunes', 'psyllium husks', 'pudding', 'puff paste', 'pullman loaf', 'pummelo', 'pumpernickel', 'pumpkin', 'pure acai puree', 'pure vanilla', 'purple onion', 'pâte brisée', 'pâté', 'quail', 'queso anejo', 'queso blanco', 'queso fresco', 'queso manchego', 'quick yeast', 'quick-cooking tapioca', 'quince paste', 'quinces', 'quinoa', \"quorn chik''n tenders\", 'rabbit', 'raclette', 'radicchio', 'radish sprouts', 'radishes', 'ragu', 'rainbow trout', 'raisins', 'raita', 'rajma', 'raki', 'ramen', 'ramps', 'ranch dip', 'ranch-style seasoning', 'rape', 'rapid rise yeast', 'ras el hanout', 'raspberry puree', 'raspberry sauce', 'raspberry sherbet', 'raspberry vinegar', 'ratatouille', 'ravioli', 'ravva', 'raw almond', 'raw cashews', 'raw prawn', 'raw sugar', 'raw tiger prawn', 'reblochon', 'red', 'refined sugar', 'refrigerated fettuccine', 'regular soy sauce', 'regular sugar', 'regular tofu', 'relish', 'remoulade', 'rennet', 'reposado', 'rhubarb', 'rib', 'ricard', 'rich turkey stock', 'ricotta', 'riesling', 'rigatoni', 'rioja', 'riso', 'roast', 'robert mondavi fume blanc', 'robiola', 'rock salt', 'rock shrimp', 'rock sugar', 'roe', 'rolls', 'roma tomatoes', 'romana', 'rooster', 'root vegetables', 'roquefort', 'rose hip tea bags', 'rose petals', 'rose water', 'rosemary', 'rosewater', 'rosé wine', 'rotel tomatoes', 'rotelle', 'roti', 'rouille', 'round loaf', 'round steaks', 'rounds', 'roux', 'rub', 'rum', 'rusk', 'russet', 'rutabaga', 'rye', 'saba', 'sack', 'safflower', 'saffron', 'sage', 'sago', 'sake', 'saki', 'salad', 'salmon', 'salsa', 'salsify', 'salt', 'sambuca', 'samphire', 'san marzano tomatoes', 'sanding sugar', 'sandwich steak', 'sandwich wraps', 'sandwiches', 'sangiovese', 'sangria', 'sansho', 'sardines', 'sato imo', 'satsuma imo', 'satsumas', 'sauce', 'sauerkraut', 'sauterne', 'sauvignon blanc', 'savoiardi', 'savory', 'savoy spinach', 'sazon', 'scallions', 'scallops', 'schnapps', 'scotch', 'scrod', 'sea bream', 'seafood', 'seasoning', 'seaweed', 'seeds', 'seitan', 'seltzer', 'semolina', 'serrano', 'sesame', 'shallots', 'shank half', 'shanks', 'shao hsing wine', 'shaoxing', 'shark', 'sheepshead', 'shell steak', 'shell-on shrimp', 'shelled shrimp', 'shells', 'sherbet', 'sherry', 'shiitake', 'shirataki', 'shiraz', 'shishito chile', 'shiso', 'shoga', 'shortening', 'shoulder steak', 'shoyu', 'shrimp', 'shungiku', 'silken tofu', 'silver', 'simple syrup', 'skate', 'skirt steak', 'slaw', 'small tomatoes', 'small yellow onion', 'smoked bratwurst', 'smoked hog jowl', 'smoked mozzarella', 'smoked rashers', 'smoked trout', 'smoked turkey', 'snails', 'snapper head', 'snappers', 'snaps', 'soba', 'sobrasada', 'soda', 'sofrito', 'soft tofu', 'sole', 'solid white tuna', 'somen', 'sooji', 'soppressata', 'sorbet', 'sorghum', 'sorrel', 'soup', 'soursop', 'southern comfort', 'soy', 'spaghetti', 'spam', 'spanish onion', 'sparkling sugar', 'sparkling wine', 'speck', 'spelt', 'spicy mayonnaise', 'spinach', 'splenda', 'sponge', 'spring roll skins', 'spring roll wrappers', 'spring water', 'spring! water', 'sprinkles', 'sprite', 'sprouts', 'squabs', 'squash', 'squid', 'squirt', 'sriracha', 'starch', 'steak', 'steamer', 'stellette', 'stevia', 'stew', 'stilton', 'stir fry vegetable blend', 'stock', 'stolichnaya', 'stone flower', 'stout', 'strained yogurt', 'strawberry syrup', 'strawberry yogurt', 'strozzapreti', 'stuffing', 'sturgeon', 'sucanat', 'sucralose sweetener', 'suet', 'sugar', 'sultana', 'sumac', 'sunchokes', 'sundae syrup', 'sundried tomato paste', 'sunflower kernels', 'sushi grade tuna', 'sushi vinegar', 'swede', 'sweet gherkin', 'sweet onion', 'sweet pickle', 'sweet tea', 'sweet vermouth', 'sweet white wine', 'sweetener', 'swiss', 'syrup', 'table wine', 'taco toppings', 'tagliarini', 'tagliatelle', 'tallow', 'tamari tamari', 'tamarind', 'tandoori paste', 'tangelos', 'tangerine', 'tap water', 'tapenade', 'tapioca', 'tarama', 'taro', 'tarragon', 'tart', 'tasso', 'tater tots', 'tatsoi', 'tea bags', 'teardrop tomatoes', 'teas', 'teff', 'teleme', 'tempeh', 'tentacles', 'tequila', 'thai chile', 'thickeners', 'thyme', 'tiger prawn', 'tikka paste', 'tilapia', 'toast', 'tobiko', 'toffee bits', 'tofu', 'togarashi', 'tokyo negi', 'tom yum paste', 'tomate verde', 'tomatillos', 'tomato paste', 'tomato purée', 'tomatoes', 'tongue', 'tonic water', 'topping', 'torn romain lettuc leav', 'tortellini', 'tortelloni', 'tortilla wraps', 'tortillas', 'tostadas', 'tostitos', 'treacle', 'treviso', 'tri tip', 'tripe', 'triple sec', 'triscuits', 'trout', 'truffle puree', 'truffles', 'truvía® baking blend', 'tuaca', 'tubetti', 'tumeric', 'tuna', 'tuong', 'turbinado', 'turbot', 'turkey', 'turmeric root', 'turnips', 'turtle', 'tvp', 'twists', 'tzatziki', 'udon', 'ume plum vinegar', 'umeboshi', 'unagi', 'uncle bens', 'uncooked ziti', 'uni', 'v8', 'val', 'vanilla', 'veal', 'vegan mayonnaise', 'vegan yogurt', 'vegetables', 'veggie patties', 'veggies', 'velveeta', 'venison', 'verjus', 'vermouth', 'vin santo', 'vinaigrette', 'vinegar', 'violets', 'vodka', 'wafer', 'waffle', 'wakame', 'walnut halves', 'walnut pieces', 'warm water', 'wasabe', 'wasabi', 'water', 'wheat', 'whey', 'whiskey', 'white almond bark', 'white baking bar', 'white onion', 'white radish', 'white wine', 'white zinfandel', 'whole grain roll', 'whole snapper', 'wieners', 'wine', 'wish bone guacamol ranch dress', 'wish bone ranch dress', 'wish-bone', 'won ton skins', 'won ton wrappers', 'wondra', 'wonton skins', 'wonton wrappers', 'xanthan gum', 'xuxu', 'yam bean', 'yams', 'yeast', 'yellow food coloring', 'yellow onion', 'yellow tomato', 'yellowfin', 'yellowtail', 'yoghurt', 'yolk', 'yoplait', 'young nettle', 'yu choy', 'yuca', 'yucca', 'yukon gold', 'yuzu', \"za'atar\", 'zest', 'zinfandel', 'ziti', 'zucchini']\n",
      "2644\n"
     ]
    }
   ],
   "source": [
    "base_base_words = gen_base_words(base_words)\n",
    "print(base_base_words)\n",
    "print(len(base_base_words))"
   ]
  },
  {
   "cell_type": "code",
   "execution_count": 282,
   "id": "99389b08",
   "metadata": {},
   "outputs": [
    {
     "data": {
      "text/plain": [
       "['apple', 'juice']"
      ]
     },
     "execution_count": 282,
     "metadata": {},
     "output_type": "execute_result"
    }
   ],
   "source": [
    "a = ['apple', 'banana']\n",
    "nltk.word_tokenize('apple juice')"
   ]
  },
  {
   "cell_type": "code",
   "execution_count": 283,
   "id": "e14f3334",
   "metadata": {},
   "outputs": [
    {
     "data": {
      "text/html": [
       "<div>\n",
       "<style scoped>\n",
       "    .dataframe tbody tr th:only-of-type {\n",
       "        vertical-align: middle;\n",
       "    }\n",
       "\n",
       "    .dataframe tbody tr th {\n",
       "        vertical-align: top;\n",
       "    }\n",
       "\n",
       "    .dataframe thead th {\n",
       "        text-align: right;\n",
       "    }\n",
       "</style>\n",
       "<table border=\"1\" class=\"dataframe\">\n",
       "  <thead>\n",
       "    <tr style=\"text-align: right;\">\n",
       "      <th></th>\n",
       "      <th>cuisine</th>\n",
       "      <th>ingredients</th>\n",
       "    </tr>\n",
       "  </thead>\n",
       "  <tbody>\n",
       "    <tr>\n",
       "      <th>0</th>\n",
       "      <td>greek</td>\n",
       "      <td>[romaine lettuce, black olives, grape tomatoes...</td>\n",
       "    </tr>\n",
       "    <tr>\n",
       "      <th>1</th>\n",
       "      <td>southern_us</td>\n",
       "      <td>[plain flour, ground pepper, salt, tomatoes, g...</td>\n",
       "    </tr>\n",
       "    <tr>\n",
       "      <th>2</th>\n",
       "      <td>filipino</td>\n",
       "      <td>[eggs, pepper, salt, mayonaise, cooking oil, g...</td>\n",
       "    </tr>\n",
       "    <tr>\n",
       "      <th>3</th>\n",
       "      <td>indian</td>\n",
       "      <td>[water, vegetable oil, wheat, salt]</td>\n",
       "    </tr>\n",
       "    <tr>\n",
       "      <th>4</th>\n",
       "      <td>indian</td>\n",
       "      <td>[black pepper, shallots, cornflour, cayenne pe...</td>\n",
       "    </tr>\n",
       "  </tbody>\n",
       "</table>\n",
       "</div>"
      ],
      "text/plain": [
       "       cuisine                                        ingredients\n",
       "0        greek  [romaine lettuce, black olives, grape tomatoes...\n",
       "1  southern_us  [plain flour, ground pepper, salt, tomatoes, g...\n",
       "2     filipino  [eggs, pepper, salt, mayonaise, cooking oil, g...\n",
       "3       indian                [water, vegetable oil, wheat, salt]\n",
       "4       indian  [black pepper, shallots, cornflour, cayenne pe..."
      ]
     },
     "execution_count": 283,
     "metadata": {},
     "output_type": "execute_result"
    }
   ],
   "source": [
    "train_set.head(5) "
   ]
  },
  {
   "cell_type": "code",
   "execution_count": 300,
   "id": "5e67c62f",
   "metadata": {},
   "outputs": [
    {
     "data": {
      "text/html": [
       "<div>\n",
       "<style scoped>\n",
       "    .dataframe tbody tr th:only-of-type {\n",
       "        vertical-align: middle;\n",
       "    }\n",
       "\n",
       "    .dataframe tbody tr th {\n",
       "        vertical-align: top;\n",
       "    }\n",
       "\n",
       "    .dataframe thead th {\n",
       "        text-align: right;\n",
       "    }\n",
       "</style>\n",
       "<table border=\"1\" class=\"dataframe\">\n",
       "  <thead>\n",
       "    <tr style=\"text-align: right;\">\n",
       "      <th></th>\n",
       "      <th>cuisine</th>\n",
       "      <th>ingredients</th>\n",
       "      <th>tokenized_ingredients_1</th>\n",
       "    </tr>\n",
       "  </thead>\n",
       "  <tbody>\n",
       "    <tr>\n",
       "      <th>0</th>\n",
       "      <td>greek</td>\n",
       "      <td>[romaine lettuce, black olives, grape tomatoes...</td>\n",
       "      <td>romaine lettuce black olives grape tomatoes ga...</td>\n",
       "    </tr>\n",
       "    <tr>\n",
       "      <th>1</th>\n",
       "      <td>southern_us</td>\n",
       "      <td>[plain flour, ground pepper, salt, tomatoes, g...</td>\n",
       "      <td>plain flour ground pepper salt tomatoes ground...</td>\n",
       "    </tr>\n",
       "    <tr>\n",
       "      <th>2</th>\n",
       "      <td>filipino</td>\n",
       "      <td>[eggs, pepper, salt, mayonaise, cooking oil, g...</td>\n",
       "      <td>eggs pepper salt mayonaise cooking oil green c...</td>\n",
       "    </tr>\n",
       "    <tr>\n",
       "      <th>3</th>\n",
       "      <td>indian</td>\n",
       "      <td>[water, vegetable oil, wheat, salt]</td>\n",
       "      <td>water vegetable oil wheat salt</td>\n",
       "    </tr>\n",
       "    <tr>\n",
       "      <th>4</th>\n",
       "      <td>indian</td>\n",
       "      <td>[black pepper, shallots, cornflour, cayenne pe...</td>\n",
       "      <td>black pepper shallots cornflour cayenne pepper...</td>\n",
       "    </tr>\n",
       "  </tbody>\n",
       "</table>\n",
       "</div>"
      ],
      "text/plain": [
       "       cuisine                                        ingredients  \\\n",
       "0        greek  [romaine lettuce, black olives, grape tomatoes...   \n",
       "1  southern_us  [plain flour, ground pepper, salt, tomatoes, g...   \n",
       "2     filipino  [eggs, pepper, salt, mayonaise, cooking oil, g...   \n",
       "3       indian                [water, vegetable oil, wheat, salt]   \n",
       "4       indian  [black pepper, shallots, cornflour, cayenne pe...   \n",
       "\n",
       "                             tokenized_ingredients_1  \n",
       "0  romaine lettuce black olives grape tomatoes ga...  \n",
       "1  plain flour ground pepper salt tomatoes ground...  \n",
       "2  eggs pepper salt mayonaise cooking oil green c...  \n",
       "3                     water vegetable oil wheat salt  \n",
       "4  black pepper shallots cornflour cayenne pepper...  "
      ]
     },
     "execution_count": 300,
     "metadata": {},
     "output_type": "execute_result"
    }
   ],
   "source": [
    "train_set['tokenized_ingredients_1'] = train_set['ingredients'].apply(lambda x: ' '.join(x))\n",
    "train_set.head(5)"
   ]
  },
  {
   "cell_type": "code",
   "execution_count": 311,
   "id": "bef13c47",
   "metadata": {},
   "outputs": [
    {
     "data": {
      "text/html": [
       "<div>\n",
       "<style scoped>\n",
       "    .dataframe tbody tr th:only-of-type {\n",
       "        vertical-align: middle;\n",
       "    }\n",
       "\n",
       "    .dataframe tbody tr th {\n",
       "        vertical-align: top;\n",
       "    }\n",
       "\n",
       "    .dataframe thead th {\n",
       "        text-align: right;\n",
       "    }\n",
       "</style>\n",
       "<table border=\"1\" class=\"dataframe\">\n",
       "  <thead>\n",
       "    <tr style=\"text-align: right;\">\n",
       "      <th></th>\n",
       "      <th>cuisine</th>\n",
       "      <th>ingredients</th>\n",
       "      <th>tokenized_ingredients_1</th>\n",
       "      <th>tokenized_ingredients_2</th>\n",
       "    </tr>\n",
       "  </thead>\n",
       "  <tbody>\n",
       "    <tr>\n",
       "      <th>0</th>\n",
       "      <td>greek</td>\n",
       "      <td>[romaine lettuce, black olives, grape tomatoes...</td>\n",
       "      <td>romaine lettuce black olives grape tomatoes ga...</td>\n",
       "      <td>romaine lettuce olives grape tomatoes purple o...</td>\n",
       "    </tr>\n",
       "    <tr>\n",
       "      <th>1</th>\n",
       "      <td>southern_us</td>\n",
       "      <td>[plain flour, ground pepper, salt, tomatoes, g...</td>\n",
       "      <td>plain flour ground pepper salt tomatoes ground...</td>\n",
       "      <td>plain ground pepper salt tomatoes ground peppe...</td>\n",
       "    </tr>\n",
       "    <tr>\n",
       "      <th>2</th>\n",
       "      <td>filipino</td>\n",
       "      <td>[eggs, pepper, salt, mayonaise, cooking oil, g...</td>\n",
       "      <td>eggs pepper salt mayonaise cooking oil green c...</td>\n",
       "      <td>eggs pepper salt mayonaise cooking oil chilies...</td>\n",
       "    </tr>\n",
       "    <tr>\n",
       "      <th>3</th>\n",
       "      <td>indian</td>\n",
       "      <td>[water, vegetable oil, wheat, salt]</td>\n",
       "      <td>water vegetable oil wheat salt</td>\n",
       "      <td>water oil wheat salt</td>\n",
       "    </tr>\n",
       "    <tr>\n",
       "      <th>4</th>\n",
       "      <td>indian</td>\n",
       "      <td>[black pepper, shallots, cornflour, cayenne pe...</td>\n",
       "      <td>black pepper shallots cornflour cayenne pepper...</td>\n",
       "      <td>pepper shallots cornflour pepper onions paste ...</td>\n",
       "    </tr>\n",
       "  </tbody>\n",
       "</table>\n",
       "</div>"
      ],
      "text/plain": [
       "       cuisine                                        ingredients  \\\n",
       "0        greek  [romaine lettuce, black olives, grape tomatoes...   \n",
       "1  southern_us  [plain flour, ground pepper, salt, tomatoes, g...   \n",
       "2     filipino  [eggs, pepper, salt, mayonaise, cooking oil, g...   \n",
       "3       indian                [water, vegetable oil, wheat, salt]   \n",
       "4       indian  [black pepper, shallots, cornflour, cayenne pe...   \n",
       "\n",
       "                             tokenized_ingredients_1  \\\n",
       "0  romaine lettuce black olives grape tomatoes ga...   \n",
       "1  plain flour ground pepper salt tomatoes ground...   \n",
       "2  eggs pepper salt mayonaise cooking oil green c...   \n",
       "3                     water vegetable oil wheat salt   \n",
       "4  black pepper shallots cornflour cayenne pepper...   \n",
       "\n",
       "                             tokenized_ingredients_2  \n",
       "0  romaine lettuce olives grape tomatoes purple o...  \n",
       "1  plain ground pepper salt tomatoes ground peppe...  \n",
       "2  eggs pepper salt mayonaise cooking oil chilies...  \n",
       "3                               water oil wheat salt  \n",
       "4  pepper shallots cornflour pepper onions paste ...  "
      ]
     },
     "execution_count": 311,
     "metadata": {},
     "output_type": "execute_result"
    }
   ],
   "source": [
    "train_set.head(5)"
   ]
  },
  {
   "cell_type": "code",
   "execution_count": 301,
   "id": "534c0210",
   "metadata": {},
   "outputs": [],
   "source": [
    "train_set['tokenized_ingredients_2'] = train_set['tokenized_ingredients_1'].apply(remove_adj)"
   ]
  },
  {
   "cell_type": "code",
   "execution_count": 310,
   "id": "8337bb5c",
   "metadata": {},
   "outputs": [
    {
     "data": {
      "text/plain": [
       "'plain ground pepper salt tomatoes ground pepper thyme eggs tomatoes corn meal milk oil'"
      ]
     },
     "execution_count": 310,
     "metadata": {},
     "output_type": "execute_result"
    }
   ],
   "source": [
    "train_set.tokenized_ingredients_2.values[1]"
   ]
  },
  {
   "cell_type": "code",
   "execution_count": 320,
   "id": "77e88467",
   "metadata": {},
   "outputs": [
    {
     "data": {
      "text/plain": [
       "[('flour', 'NN'), ('plain', 'NN')]"
      ]
     },
     "execution_count": 320,
     "metadata": {},
     "output_type": "execute_result"
    }
   ],
   "source": [
    "nltk.pos_tag(nltk.word_tokenize('flour plain'))"
   ]
  },
  {
   "cell_type": "code",
   "execution_count": 321,
   "id": "33913720",
   "metadata": {},
   "outputs": [
    {
     "data": {
      "text/plain": [
       "['cold', 'feet']"
      ]
     },
     "execution_count": 321,
     "metadata": {},
     "output_type": "execute_result"
    }
   ],
   "source": [
    "word_tokenize('cold feet')"
   ]
  },
  {
   "cell_type": "code",
   "execution_count": null,
   "id": "c1bd7f00",
   "metadata": {},
   "outputs": [],
   "source": []
  }
 ],
 "metadata": {
  "kernelspec": {
   "display_name": "Python 3 (ipykernel)",
   "language": "python",
   "name": "python3"
  },
  "language_info": {
   "codemirror_mode": {
    "name": "ipython",
    "version": 3
   },
   "file_extension": ".py",
   "mimetype": "text/x-python",
   "name": "python",
   "nbconvert_exporter": "python",
   "pygments_lexer": "ipython3",
   "version": "3.9.12"
  }
 },
 "nbformat": 4,
 "nbformat_minor": 5
}
